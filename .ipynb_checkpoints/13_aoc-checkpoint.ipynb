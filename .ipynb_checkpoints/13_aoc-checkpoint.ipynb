{
 "cells": [
  {
   "cell_type": "code",
   "execution_count": 21,
   "metadata": {},
   "outputs": [],
   "source": [
    "from aocd import get_data"
   ]
  },
  {
   "cell_type": "code",
   "execution_count": 49,
   "metadata": {},
   "outputs": [],
   "source": [
    "import numpy as np\n",
    "import matplotlib.pyplot as plt\n",
    "from matplotlib import colors\n",
    "from matplotlib.lines import Line2D"
   ]
  },
  {
   "cell_type": "code",
   "execution_count": 95,
   "metadata": {},
   "outputs": [],
   "source": [
    "import tqdm"
   ]
  },
  {
   "cell_type": "code",
   "execution_count": 22,
   "metadata": {},
   "outputs": [],
   "source": [
    "data = get_data()"
   ]
  },
  {
   "cell_type": "code",
   "execution_count": 23,
   "metadata": {},
   "outputs": [],
   "source": [
    "#data = '''3,8,1001,8,10,8,105,1,0,0,21,34,51,76,101,114,195,276,357,438,99999,3,9,1001,9,3,9,1002,9,3,9,4,9,99,3,9,101,4,9,9,102,4,9,9,1001,9,5,9,4,9,99,3,9,1002,9,4,9,101,3,9,9,102,5,9,9,1001,9,2,9,1002,9,2,9,4,9,99,3,9,1001,9,3,9,102,2,9,9,101,4,9,9,102,3,9,9,101,2,9,9,4,9,99,3,9,102,2,9,9,101,4,9,9,4,9,99,3,9,102,2,9,9,4,9,3,9,102,2,9,9,4,9,3,9,1001,9,1,9,4,9,3,9,1001,9,2,9,4,9,3,9,101,2,9,9,4,9,3,9,1002,9,2,9,4,9,3,9,1002,9,2,9,4,9,3,9,1001,9,2,9,4,9,3,9,1002,9,2,9,4,9,3,9,101,2,9,9,4,9,99,3,9,101,2,9,9,4,9,3,9,1002,9,2,9,4,9,3,9,1001,9,1,9,4,9,3,9,1001,9,1,9,4,9,3,9,1002,9,2,9,4,9,3,9,102,2,9,9,4,9,3,9,101,1,9,9,4,9,3,9,1002,9,2,9,4,9,3,9,1001,9,2,9,4,9,3,9,1001,9,2,9,4,9,99,3,9,1001,9,2,9,4,9,3,9,102,2,9,9,4,9,3,9,101,2,9,9,4,9,3,9,102,2,9,9,4,9,3,9,1001,9,1,9,4,9,3,9,102,2,9,9,4,9,3,9,1001,9,1,9,4,9,3,9,102,2,9,9,4,9,3,9,1002,9,2,9,4,9,3,9,101,2,9,9,4,9,99,3,9,102,2,9,9,4,9,3,9,102,2,9,9,4,9,3,9,1002,9,2,9,4,9,3,9,1001,9,1,9,4,9,3,9,1002,9,2,9,4,9,3,9,102,2,9,9,4,9,3,9,1001,9,2,9,4,9,3,9,101,1,9,9,4,9,3,9,102,2,9,9,4,9,3,9,102,2,9,9,4,9,99,3,9,1002,9,2,9,4,9,3,9,101,2,9,9,4,9,3,9,101,1,9,9,4,9,3,9,101,2,9,9,4,9,3,9,101,1,9,9,4,9,3,9,1001,9,2,9,4,9,3,9,1002,9,2,9,4,9,3,9,1001,9,1,9,4,9,3,9,1001,9,2,9,4,9,3,9,1002,9,2,9,4,9,99'''\n",
    "state = list(map(int, data.split(',')))"
   ]
  },
  {
   "cell_type": "code",
   "execution_count": 24,
   "metadata": {},
   "outputs": [],
   "source": [
    "state[0]=2"
   ]
  },
  {
   "cell_type": "code",
   "execution_count": 83,
   "metadata": {},
   "outputs": [],
   "source": [
    "from operator import add, mul\n",
    "from queue import SimpleQueue\n",
    "\n",
    "PC_STEP = {1: 4, 2: 4, 3: 2, 4: 2, 5: 3, 6: 3, 7: 4, 8: 4, 9:2}\n",
    "\n",
    "class HaltException(Exception):\n",
    "    pass\n",
    "\n",
    "class Computer:\n",
    "    def __init__(self, state):\n",
    "        self.state = {i:v for i,v in enumerate(state)}\n",
    "        self.pc = 0\n",
    "        self.rel_base = 0\n",
    "        self.inputs = SimpleQueue()\n",
    "        \n",
    "    def set_output(self, pc, mode, value):\n",
    "        if value is None:\n",
    "            raise ValueError\n",
    "        pointer = self.state.setdefault(pc, 0)\n",
    "        if mode==2:\n",
    "            self.state[pointer + self.rel_base] = value\n",
    "        else:\n",
    "            self.state[pointer] = value\n",
    "            \n",
    "    def eval(self):\n",
    "        \"\"\"\n",
    "        Evaluates program state until output is generated.\n",
    "        Blocks if input is exhausted.\n",
    "        \"\"\"\n",
    "        while True:\n",
    "            instr = str(self.state.setdefault(self.pc,0))\n",
    "            opcode = int(instr[-2:])\n",
    "            if opcode == 99:\n",
    "                raise HaltException\n",
    "\n",
    "            # parameter modes\n",
    "            modes = []\n",
    "            for i in range(3, PC_STEP[opcode] + 2):\n",
    "                if len(instr) >= i:\n",
    "                    modes.append(int(instr[-i]))\n",
    "                else:\n",
    "                    modes.append(0)\n",
    "\n",
    "            # deference params, if applicable\n",
    "            params = []\n",
    "            for i in range(1, PC_STEP[opcode]):\n",
    "                loc = self.state.setdefault(self.pc+i, 0)\n",
    "                if modes[i - 1] == 0:  # position\n",
    "                    params.append(self.state.setdefault(loc, 0))\n",
    "                elif modes[i - 1] == 1:  # immediate\n",
    "                    params.append(loc)\n",
    "                else:\n",
    "                    params.append(self.state.setdefault(loc+self.rel_base, 0))\n",
    "\n",
    "            if opcode == 4:  # output\n",
    "                # nb: special case, returns\n",
    "                self.pc += 2\n",
    "                return params[0]\n",
    "            elif opcode == 1 or opcode == 2:  # add/mul\n",
    "                op = add if opcode == 1 else mul\n",
    "                self.set_output(self.pc + 3, modes[2], op(params[0],params[1]))\n",
    "            elif opcode == 3:  # input\n",
    "                inp = self.inputs.get()\n",
    "                #print(inp)\n",
    "                self.set_output(self.pc + 1, modes[0], inp)\n",
    "            elif opcode == 5:  # jmp 0\n",
    "                if params[0] != 0:\n",
    "                    self.pc = params[1]\n",
    "                    continue\n",
    "            elif opcode == 6:  # jmp not 0\n",
    "                if params[0] == 0:\n",
    "                    self.pc = params[1]\n",
    "                    continue\n",
    "            elif opcode == 7:  # less than\n",
    "                self.set_output(self.pc+3, modes[2], 1 if params[0] < params[1] else 0)\n",
    "            elif opcode == 8:  # equals\n",
    "                self.set_output(self.pc+3, modes[2], 1 if params[0] == params[1] else 0)\n",
    "            elif opcode == 9:\n",
    "                self.rel_base += params[0]\n",
    "            else:\n",
    "                raise ValueError\n",
    "            self.pc += PC_STEP[opcode]\n",
    "            #print(c.state.get(1103, -1))\n",
    "\n",
    "    def put(self, obj):\n",
    "        \"\"\"Add an input to the queue\"\"\"\n",
    "        self.inputs.put(obj)"
   ]
  },
  {
   "cell_type": "code",
   "execution_count": 145,
   "metadata": {},
   "outputs": [],
   "source": [
    "c = Computer(state)\n",
    "\n",
    "field = np.zeros((24, 40))"
   ]
  },
  {
   "cell_type": "code",
   "execution_count": 146,
   "metadata": {
    "scrolled": true
   },
   "outputs": [],
   "source": [
    "score = -9\n",
    "xpos = -9\n",
    "ypos = -9\n",
    "\n",
    "ball_pos = 18\n",
    "pad_pos  = 20\n",
    "\n",
    "def move_joystick(pad_pos, ball_pos):\n",
    "    if pad_pos > ball_pos:\n",
    "        c.put(-1)\n",
    "        pad_pos -= 1\n",
    "    elif pad_pos < ball_pos:\n",
    "        c.put(1)\n",
    "        pad_pos += 1\n",
    "    else:\n",
    "        c.put(0)\n",
    "    return pad_pos, ball_pos\n",
    "\n",
    "i = 0\n",
    "\n",
    "for _ in range(1000):\n",
    "    i+=1\n",
    "    res = c.eval()\n",
    "    if i % 3 == 1:\n",
    "        xpos = res\n",
    "    elif i % 3 == 2:\n",
    "        ypos = res\n",
    "    else:\n",
    "#         if res > 2:\n",
    "#             print(xpos,ypos,res)\n",
    "        if xpos == -1 and ypos == 0:\n",
    "            score = res\n",
    "        else:\n",
    "            if res == 4:\n",
    "                ball_pos = xpos\n",
    "                pad_pos, ball_pos = move_joystick(pad_pos, ball_pos)\n",
    "            field[ypos, xpos] = res"
   ]
  },
  {
   "cell_type": "code",
   "execution_count": 165,
   "metadata": {},
   "outputs": [
    {
     "data": {
      "image/png": "[encoded data removed]",
      "text/plain": [
       "<Figure size 432x288 with 1 Axes>"
      ]
     },
     "metadata": {
      "needs_background": "light"
     },
     "output_type": "display_data"
    }
   ],
   "source": [
    "cmap = colors.ListedColormap(['white', 'black', 'red', 'blue', 'green'])\n",
    "bounds=[-0.5, 0.5, 1.5, 2.5, 3.5, 4.5]\n",
    "norm = colors.BoundaryNorm(bounds, cmap.N)\n",
    "\n",
    "# tell imshow about color map so that only set colors are used\n",
    "img = plt.imshow(field, interpolation='nearest', origin='upper',\n",
    "                    cmap=cmap, norm=norm)\n",
    "custom_lines = [Line2D([0], [0], color='red', lw=4)]\n",
    "plt.legend(custom_lines, [f'Score: {score}'], loc=(1.04, 0.8));"
   ]
  },
  {
   "cell_type": "code",
   "execution_count": null,
   "metadata": {},
   "outputs": [],
   "source": [
    "15706"
   ]
  },
  {
   "cell_type": "code",
   "execution_count": 33,
   "metadata": {},
   "outputs": [
    {
     "data": {
      "text/plain": [
       "array([39, 23,  4])"
      ]
     },
     "execution_count": 33,
     "metadata": {},
     "output_type": "execute_result"
    }
   ],
   "source": [
    "np.asarray(coords).reshape(-1, 3).max(axis=0)"
   ]
  },
  {
   "cell_type": "code",
   "execution_count": 34,
   "metadata": {},
   "outputs": [
    {
     "data": {
      "text/plain": [
       "array([-1,  0,  0])"
      ]
     },
     "execution_count": 34,
     "metadata": {},
     "output_type": "execute_result"
    }
   ],
   "source": [
    "np.asarray(coords).reshape(-1, 3).min(axis=0)"
   ]
  },
  {
   "cell_type": "code",
   "execution_count": 38,
   "metadata": {},
   "outputs": [
    {
     "data": {
      "text/plain": [
       "array([19.47866805, 11.4880333 ,  0.79396462])"
      ]
     },
     "execution_count": 38,
     "metadata": {},
     "output_type": "execute_result"
    }
   ],
   "source": [
    "np.mean(np.asarray(coords).reshape(-1,3), axis=0)"
   ]
  },
  {
   "cell_type": "code",
   "execution_count": 16,
   "metadata": {},
   "outputs": [],
   "source": [
    "tiles = 0\n",
    "for i, d in enumerate(data):\n",
    "    if (i+1)%3==0 and d==2:\n",
    "        tiles += 1"
   ]
  },
  {
   "cell_type": "code",
   "execution_count": 17,
   "metadata": {},
   "outputs": [
    {
     "data": {
      "text/plain": [
       "335"
      ]
     },
     "execution_count": 17,
     "metadata": {},
     "output_type": "execute_result"
    }
   ],
   "source": [
    "tiles"
   ]
  },
  {
   "cell_type": "code",
   "execution_count": 11,
   "metadata": {},
   "outputs": [
    {
     "data": {
      "text/plain": [
       "40"
      ]
     },
     "execution_count": 11,
     "metadata": {},
     "output_type": "execute_result"
    }
   ],
   "source": [
    "sum(1 if d == 2 else 0 for i, d in enumerate(data) if i%3==0)"
   ]
  },
  {
   "cell_type": "code",
   "execution_count": null,
   "metadata": {},
   "outputs": [],
   "source": []
  },
  {
   "cell_type": "code",
   "execution_count": null,
   "metadata": {},
   "outputs": [],
   "source": []
  },
  {
   "cell_type": "code",
   "execution_count": null,
   "metadata": {},
   "outputs": [],
   "source": []
  },
  {
   "cell_type": "code",
   "execution_count": 184,
   "metadata": {},
   "outputs": [
    {
     "ename": "HaltException",
     "evalue": "",
     "output_type": "error",
     "traceback": [
      "\u001b[0;31m---------------------------------------------------------------------------\u001b[0m",
      "\u001b[0;31mHaltException\u001b[0m                             Traceback (most recent call last)",
      "\u001b[0;32m<ipython-input-184-fe649990b909>\u001b[0m in \u001b[0;36m<module>\u001b[0;34m\u001b[0m\n\u001b[1;32m      7\u001b[0m \u001b[0;31m#     else:\u001b[0m\u001b[0;34m\u001b[0m\u001b[0;34m\u001b[0m\u001b[0;34m\u001b[0m\u001b[0m\n\u001b[1;32m      8\u001b[0m     \u001b[0mc\u001b[0m\u001b[0;34m.\u001b[0m\u001b[0mput\u001b[0m\u001b[0;34m(\u001b[0m\u001b[0mfield\u001b[0m\u001b[0;34m.\u001b[0m\u001b[0msetdefault\u001b[0m\u001b[0;34m(\u001b[0m\u001b[0;34m(\u001b[0m\u001b[0mxpos\u001b[0m\u001b[0;34m,\u001b[0m\u001b[0mypos\u001b[0m\u001b[0;34m)\u001b[0m\u001b[0;34m,\u001b[0m \u001b[0;34m(\u001b[0m\u001b[0;36m0\u001b[0m\u001b[0;34m,\u001b[0m\u001b[0;32mNone\u001b[0m\u001b[0;34m)\u001b[0m\u001b[0;34m)\u001b[0m\u001b[0;34m[\u001b[0m\u001b[0;36m0\u001b[0m\u001b[0;34m]\u001b[0m\u001b[0;34m)\u001b[0m\u001b[0;34m\u001b[0m\u001b[0;34m\u001b[0m\u001b[0m\n\u001b[0;32m----> 9\u001b[0;31m     \u001b[0mcol\u001b[0m \u001b[0;34m=\u001b[0m \u001b[0mc\u001b[0m\u001b[0;34m.\u001b[0m\u001b[0meval\u001b[0m\u001b[0;34m(\u001b[0m\u001b[0;34m)\u001b[0m\u001b[0;34m\u001b[0m\u001b[0;34m\u001b[0m\u001b[0m\n\u001b[0m\u001b[1;32m     10\u001b[0m     \u001b[0mturn\u001b[0m \u001b[0;34m=\u001b[0m \u001b[0mc\u001b[0m\u001b[0;34m.\u001b[0m\u001b[0meval\u001b[0m\u001b[0;34m(\u001b[0m\u001b[0;34m)\u001b[0m\u001b[0;34m\u001b[0m\u001b[0;34m\u001b[0m\u001b[0m\n\u001b[1;32m     11\u001b[0m     \u001b[0mfield\u001b[0m\u001b[0;34m[\u001b[0m\u001b[0;34m(\u001b[0m\u001b[0mxpos\u001b[0m\u001b[0;34m,\u001b[0m\u001b[0mypos\u001b[0m\u001b[0;34m)\u001b[0m\u001b[0;34m]\u001b[0m \u001b[0;34m=\u001b[0m \u001b[0;34m(\u001b[0m\u001b[0mcol\u001b[0m\u001b[0;34m,\u001b[0m \u001b[0mturn\u001b[0m\u001b[0;34m)\u001b[0m\u001b[0;34m\u001b[0m\u001b[0;34m\u001b[0m\u001b[0m\n",
      "\u001b[0;32m<ipython-input-157-7cac9071406d>\u001b[0m in \u001b[0;36meval\u001b[0;34m(self)\u001b[0m\n\u001b[1;32m     32\u001b[0m             \u001b[0mopcode\u001b[0m \u001b[0;34m=\u001b[0m \u001b[0mint\u001b[0m\u001b[0;34m(\u001b[0m\u001b[0minstr\u001b[0m\u001b[0;34m[\u001b[0m\u001b[0;34m-\u001b[0m\u001b[0;36m2\u001b[0m\u001b[0;34m:\u001b[0m\u001b[0;34m]\u001b[0m\u001b[0;34m)\u001b[0m\u001b[0;34m\u001b[0m\u001b[0;34m\u001b[0m\u001b[0m\n\u001b[1;32m     33\u001b[0m             \u001b[0;32mif\u001b[0m \u001b[0mopcode\u001b[0m \u001b[0;34m==\u001b[0m \u001b[0;36m99\u001b[0m\u001b[0;34m:\u001b[0m\u001b[0;34m\u001b[0m\u001b[0;34m\u001b[0m\u001b[0m\n\u001b[0;32m---> 34\u001b[0;31m                 \u001b[0;32mraise\u001b[0m \u001b[0mHaltException\u001b[0m\u001b[0;34m\u001b[0m\u001b[0;34m\u001b[0m\u001b[0m\n\u001b[0m\u001b[1;32m     35\u001b[0m \u001b[0;34m\u001b[0m\u001b[0m\n\u001b[1;32m     36\u001b[0m             \u001b[0;31m# parameter modes\u001b[0m\u001b[0;34m\u001b[0m\u001b[0;34m\u001b[0m\u001b[0;34m\u001b[0m\u001b[0m\n",
      "\u001b[0;31mHaltException\u001b[0m: "
     ]
    }
   ],
   "source": [
    "xpos = 0\n",
    "ypos = 0\n",
    "direction = 0\n",
    "for i in range(1000000):\n",
    "#     if i==0:\n",
    "#         c.put(field.setdefault((xpos,ypos), 1))\n",
    "#     else:\n",
    "    c.put(field.setdefault((xpos,ypos), (0,None))[0])\n",
    "    col = c.eval()\n",
    "    turn = c.eval()\n",
    "    field[(xpos,ypos)] = (col, turn)\n",
    "    if turn==0:\n",
    "        direction = (direction - 1) % 4\n",
    "    elif turn==1:\n",
    "        direction = (direction + 1) % 4\n",
    "    else:\n",
    "        raise ValueError('turn')\n",
    "    #move\n",
    "    if direction==0:\n",
    "        ypos += 1\n",
    "    elif direction==1:\n",
    "        xpos += 1\n",
    "    elif direction==2:\n",
    "        ypos -= 1\n",
    "    elif direction==3:\n",
    "        xpos-=1\n",
    "    else:\n",
    "        raise ValueError('direction')"
   ]
  },
  {
   "cell_type": "code",
   "execution_count": 121,
   "metadata": {},
   "outputs": [],
   "source": [
    "import matplotlib.pyplot as plt"
   ]
  },
  {
   "cell_type": "code",
   "execution_count": 122,
   "metadata": {},
   "outputs": [],
   "source": [
    "import numpy as np"
   ]
  },
  {
   "cell_type": "code",
   "execution_count": 123,
   "metadata": {},
   "outputs": [],
   "source": [
    "ar = np.asarray([k for k,v in field.items() if v==1])"
   ]
  },
  {
   "cell_type": "code",
   "execution_count": 126,
   "metadata": {},
   "outputs": [
    {
     "data": {
      "text/plain": [
       "<matplotlib.collections.PathCollection at 0x7fdb146c4e80>"
      ]
     },
     "execution_count": 126,
     "metadata": {},
     "output_type": "execute_result"
    },
    {
     "data": {
      "image/png": "[encoded data removed]",
      "text/plain": [
       "<Figure size 432x288 with 1 Axes>"
      ]
     },
     "metadata": {
      "needs_background": "light"
     },
     "output_type": "display_data"
    }
   ],
   "source": [
    "plt.scatter(ar[:,0],ar[:,1], s=30)"
   ]
  },
  {
   "cell_type": "code",
   "execution_count": null,
   "metadata": {},
   "outputs": [],
   "source": [
    "RPJCFZKF"
   ]
  },
  {
   "cell_type": "code",
   "execution_count": 109,
   "metadata": {},
   "outputs": [
    {
     "data": {
      "text/plain": [
       "2141"
      ]
     },
     "execution_count": 109,
     "metadata": {},
     "output_type": "execute_result"
    }
   ],
   "source": [
    "len(field)"
   ]
  },
  {
   "cell_type": "code",
   "execution_count": null,
   "metadata": {},
   "outputs": [],
   "source": []
  },
  {
   "cell_type": "code",
   "execution_count": 127,
   "metadata": {},
   "outputs": [],
   "source": [
    "def run_intcode(inputs):\n",
    "    c = Computer(state)\n",
    "    for inp in inputs:\n",
    "        c.put(inp)\n",
    "    return c.eval()"
   ]
  },
  {
   "cell_type": "code",
   "execution_count": 128,
   "metadata": {},
   "outputs": [],
   "source": [
    "def run_thrusters(phase_settings):\n",
    "    out = 0\n",
    "    for phase in phase_settings:\n",
    "        #print(phase, out)\n",
    "        program_inputs = [phase, out]\n",
    "        out = run_intcode(program_inputs)\n",
    "    return out"
   ]
  },
  {
   "cell_type": "code",
   "execution_count": 129,
   "metadata": {},
   "outputs": [],
   "source": [
    "from itertools import permutations"
   ]
  },
  {
   "cell_type": "code",
   "execution_count": 130,
   "metadata": {},
   "outputs": [],
   "source": [
    "def run():\n",
    "    return max(\n",
    "        run_thrusters(phase_perm) for phase_perm in permutations([0,1,2,3,4])\n",
    "    )"
   ]
  },
  {
   "cell_type": "code",
   "execution_count": 131,
   "metadata": {},
   "outputs": [
    {
     "data": {
      "text/plain": [
       "38834"
      ]
     },
     "execution_count": 131,
     "metadata": {},
     "output_type": "execute_result"
    }
   ],
   "source": [
    "run()"
   ]
  },
  {
   "cell_type": "markdown",
   "metadata": {},
   "source": [
    "# Part 2"
   ]
  },
  {
   "cell_type": "code",
   "execution_count": 7,
   "metadata": {},
   "outputs": [],
   "source": [
    "from itertools import permutations"
   ]
  },
  {
   "cell_type": "code",
   "execution_count": 15,
   "metadata": {},
   "outputs": [],
   "source": [
    "data = '''3,26,1001,26,-4,26,3,27,1002,27,2,27,1,27,26,27,4,27,1001,28,-1,28,1005,28,6,99,0,0,5'''"
   ]
  },
  {
   "cell_type": "code",
   "execution_count": 16,
   "metadata": {},
   "outputs": [],
   "source": [
    "state = list(map(int, data.split(',')))"
   ]
  },
  {
   "cell_type": "code",
   "execution_count": 22,
   "metadata": {},
   "outputs": [],
   "source": [
    "def run_loop(phase_settings):\n",
    "    # initialization\n",
    "    computers = []\n",
    "    for phase in phase_settings:\n",
    "        c = Computer(state)\n",
    "        c.put(phase)\n",
    "        computers.append(c)\n",
    "    # run\n",
    "    computers[0].put(0)\n",
    "    cidx = 0\n",
    "    last_out = 0\n",
    "    while True:\n",
    "        out = computers[cidx].eval()\n",
    "        print(cidx, out)\n",
    "        cidx = (cidx + 1) % len(computers)\n",
    "        if out is not None:\n",
    "            computers[cidx].put(out)\n",
    "            last_out = out\n",
    "        else:\n",
    "            break\n",
    "        #print(cidx, out)\n",
    "    return last_out"
   ]
  },
  {
   "cell_type": "code",
   "execution_count": 18,
   "metadata": {},
   "outputs": [],
   "source": [
    "def run():\n",
    "    return max(\n",
    "        run_loop(phase_perm) for phase_perm in permutations([9,8,7,6,5])\n",
    "    )"
   ]
  },
  {
   "cell_type": "code",
   "execution_count": 19,
   "metadata": {},
   "outputs": [
    {
     "data": {
      "text/plain": [
       "139629729"
      ]
     },
     "execution_count": 19,
     "metadata": {},
     "output_type": "execute_result"
    }
   ],
   "source": [
    "run()"
   ]
  },
  {
   "cell_type": "code",
   "execution_count": null,
   "metadata": {},
   "outputs": [],
   "source": []
  },
  {
   "cell_type": "code",
   "execution_count": null,
   "metadata": {},
   "outputs": [],
   "source": []
  },
  {
   "cell_type": "code",
   "execution_count": null,
   "metadata": {},
   "outputs": [],
   "source": []
  }
 ],
 "metadata": {
  "kernelspec": {
   "display_name": "Python 3",
   "language": "python",
   "name": "python3"
  },
  "language_info": {
   "codemirror_mode": {
    "name": "ipython",
    "version": 3
   },
   "file_extension": ".py",
   "mimetype": "text/x-python",
   "name": "python",
   "nbconvert_exporter": "python",
   "pygments_lexer": "ipython3",
   "version": "3.7.3"
  }
 },
 "nbformat": 4,
 "nbformat_minor": 4
}
