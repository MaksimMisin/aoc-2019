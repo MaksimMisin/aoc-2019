{
 "cells": [
  {
   "cell_type": "code",
   "execution_count": 1,
   "metadata": {},
   "outputs": [],
   "source": [
    "import pandas as pd\n",
    "\n",
    "import matplotlib.pyplot as plt\n",
    "from pandas.plotting import register_matplotlib_converters\n",
    "register_matplotlib_converters()\n",
    "\n",
    "import numpy as np\n",
    "\n",
    "pd.options.display.max_columns = 999"
   ]
  },
  {
   "cell_type": "code",
   "execution_count": 2,
   "metadata": {},
   "outputs": [],
   "source": [
    "import datetime\n",
    "from scipy import optimize \n",
    "\n",
    "def xnpv(rate,cashflows):\n",
    "    chron_order = sorted(cashflows, key = lambda x: x[0])\n",
    "    t0 = chron_order[0][0] #t0 is the date of the first cash flow\n",
    "\n",
    "    return sum([cf/(1+rate)**((t-t0).days/365.0) for (t,cf) in chron_order])\n",
    "\n",
    "def xirr(cashflows,guess=0.1):\n",
    "    \"\"\"\n",
    "    Calculate the Internal Rate of Return of a series of cashflows at irregular intervals.\n",
    "    Arguments\n",
    "    ---------\n",
    "    * cashflows: a list object in which each element is a tuple of the form (date, amount), where date is a python datetime.date object and amount is an integer or floating point number. Cash outflows (investments) are represented with negative amounts, and cash inflows (returns) are positive amounts.\n",
    "    * guess (optional, default = 0.1): a guess at the solution to be used as a starting point for the numerical solution. \n",
    "    Returns\n",
    "    --------\n",
    "    * Returns the IRR as a single value\n",
    "    \n",
    "    Notes\n",
    "    ----------------\n",
    "    * The Internal Rate of Return (IRR) is the discount rate at which the Net Present Value (NPV) of a series of cash flows is equal to zero. The NPV of the series of cash flows is determined using the xnpv function in this module. The discount rate at which NPV equals zero is found using the secant method of numerical solution. \n",
    "    * This function is equivalent to the Microsoft Excel function of the same name.\n",
    "    * For users that do not have the scipy module installed, there is an alternate version (commented out) that uses the secant_method function defined in the module rather than the scipy.optimize module's numerical solver. Both use the same method of calculation so there should be no difference in performance, but the secant_method function does not fail gracefully in cases where there is no solution, so the scipy.optimize.newton version is preferred.\n",
    "    \"\"\"\n",
    "    \n",
    "    #return secant_method(0.0001,lambda r: xnpv(r,cashflows),guess)\n",
    "    return optimize.newton(lambda r: xnpv(r,cashflows),guess)\n"
   ]
  },
  {
   "cell_type": "markdown",
   "metadata": {},
   "source": [
    "Getting analysis:\n",
    "\n",
    "1) Ülevaade  \n",
    "2) Tehingud  \n",
    "3) Kontrolli aruannet  \n",
    "4) csv  "
   ]
  },
  {
   "cell_type": "code",
   "execution_count": 3,
   "metadata": {},
   "outputs": [],
   "source": [
    "df = pd.read_csv('crowdestate-transactions_2014-01-01_2019-12-08.csv')"
   ]
  },
  {
   "cell_type": "code",
   "execution_count": 23,
   "metadata": {},
   "outputs": [],
   "source": [
    "transactions = df[df.type.isin(['deposit','withdrawal'])].copy()"
   ]
  },
  {
   "cell_type": "code",
   "execution_count": 83,
   "metadata": {},
   "outputs": [],
   "source": [
    "transactions['cash_flow'] = np.where(transactions.type=='deposit', -transactions.amount.values, transactions.amount.values)\n",
    "transactions.index = pd.to_datetime(transactions.date, dayfirst=True)\n",
    "transactions = transactions.sort_index()\n",
    "\n",
    "cash_flow = transactions.cash_flow"
   ]
  },
  {
   "cell_type": "code",
   "execution_count": 85,
   "metadata": {},
   "outputs": [],
   "source": [
    "cash_flow = cash_flow.append(pd.Series(data=[118.69 + 1798.36 - 500], index=[pd.to_datetime('2019-12-07')]))"
   ]
  },
  {
   "cell_type": "code",
   "execution_count": 86,
   "metadata": {},
   "outputs": [
    {
     "data": {
      "text/plain": [
       "2017-03-09 09:05:00    -300.00\n",
       "2017-03-17 17:05:00    -150.00\n",
       "2017-03-20 08:20:00    -150.00\n",
       "2017-04-07 12:30:00    -150.00\n",
       "2017-04-25 11:40:00    -250.00\n",
       "2017-05-05 16:37:00    -200.00\n",
       "2017-07-05 17:50:00    -100.00\n",
       "2017-11-03 16:15:00    -200.00\n",
       "2017-11-27 12:25:00    -185.27\n",
       "2018-01-11 10:25:00    -300.00\n",
       "2018-02-14 13:30:00   -1000.00\n",
       "2018-02-20 11:40:00   -4000.00\n",
       "2018-07-09 16:15:00    3939.25\n",
       "2018-07-31 16:55:00     903.00\n",
       "2019-11-12 15:16:00    1114.39\n",
       "2019-12-07 00:00:00    1417.05\n",
       "dtype: float64"
      ]
     },
     "execution_count": 86,
     "metadata": {},
     "output_type": "execute_result"
    }
   ],
   "source": [
    "cash_flow"
   ]
  },
  {
   "cell_type": "code",
   "execution_count": 87,
   "metadata": {},
   "outputs": [
    {
     "data": {
      "text/plain": [
       "388.4200000000001"
      ]
     },
     "execution_count": 87,
     "metadata": {},
     "output_type": "execute_result"
    }
   ],
   "source": [
    "cash_flow.sum()"
   ]
  },
  {
   "cell_type": "code",
   "execution_count": 88,
   "metadata": {},
   "outputs": [],
   "source": [
    "cash_flow_py = [(k.to_pydatetime(),v) for k,v in cash_flow.to_dict().items()]"
   ]
  },
  {
   "cell_type": "code",
   "execution_count": 89,
   "metadata": {},
   "outputs": [
    {
     "data": {
      "text/plain": [
       "0.053549780091286865"
      ]
     },
     "execution_count": 89,
     "metadata": {},
     "output_type": "execute_result"
    }
   ],
   "source": [
    "r = xirr(cash_flow_py)\n",
    "r"
   ]
  },
  {
   "cell_type": "code",
   "execution_count": 139,
   "metadata": {},
   "outputs": [],
   "source": [
    "reindexed_flow = (-transactions.cash_flow).copy()\n",
    "reindexed_flow = reindexed_flow.append(pd.Series([0], index=[pd.to_datetime('2019-12-01')]))\n",
    "\n",
    "reindexed_flow = reindexed_flow.groupby(pd.Grouper(freq='M')).sum()\n",
    "\n",
    "prev_sum = 0\n",
    "appreciations = []\n",
    "for date, deposit in reindexed_flow.items():\n",
    "    new_sum = prev_sum * (1+r)**(1/12) + deposit\n",
    "    appreciations.append(new_sum)\n",
    "    prev_sum = new_sum\n",
    "appreciations = pd.Series(appreciations, index=reindexed_flow.index)"
   ]
  },
  {
   "cell_type": "code",
   "execution_count": 140,
   "metadata": {},
   "outputs": [
    {
     "data": {
      "text/plain": [
       "(0, 7502.197616587767)"
      ]
     },
     "execution_count": 140,
     "metadata": {},
     "output_type": "execute_result"
    },
    {
     "data": {
      "image/png": "[encoded data removed]",
      "text/plain": [
       "<Figure size 864x360 with 1 Axes>"
      ]
     },
     "metadata": {
      "needs_background": "light"
     },
     "output_type": "display_data"
    }
   ],
   "source": [
    "plt.figure(figsize=(12, 5))\n",
    "plt.plot(appreciations, '-')\n",
    "plt.ylim(bottom=0)"
   ]
  },
  {
   "cell_type": "code",
   "execution_count": 141,
   "metadata": {},
   "outputs": [
    {
     "data": {
      "text/plain": [
       "2017-03-31     600.000000\n",
       "2017-04-30    1002.613938\n",
       "2017-05-31    1206.981888\n",
       "2017-06-30    1212.240181\n",
       "2017-07-31    1317.521381\n",
       "2017-08-31    1323.261246\n",
       "2017-09-30    1329.026116\n",
       "2017-10-31    1334.816102\n",
       "2017-11-30    1725.901312\n",
       "2017-12-31    1733.420310\n",
       "2018-01-31    2040.972064\n",
       "2018-02-28    7049.863687\n",
       "2018-03-31    7080.576861\n",
       "2018-04-30    7111.423838\n",
       "2018-05-31    7142.405203\n",
       "2018-06-30    7173.521540\n",
       "2018-07-31    2362.523437\n",
       "2018-08-31    2372.815918\n",
       "2018-09-30    2383.153240\n",
       "2018-10-31    2393.535597\n",
       "2018-11-30    2403.963185\n",
       "2018-12-31    2414.436201\n",
       "2019-01-31    2424.954844\n",
       "2019-02-28    2435.519312\n",
       "2019-03-31    2446.129805\n",
       "2019-04-30    2456.786523\n",
       "2019-05-31    2467.489668\n",
       "2019-06-30    2478.239441\n",
       "2019-07-31    2489.036047\n",
       "2019-08-31    2499.879689\n",
       "2019-09-30    2510.770572\n",
       "2019-10-31    2521.708901\n",
       "2019-11-30    1418.304884\n",
       "2019-12-31    1424.483819\n",
       "Freq: M, dtype: float64"
      ]
     },
     "execution_count": 141,
     "metadata": {},
     "output_type": "execute_result"
    }
   ],
   "source": [
    "appreciations"
   ]
  },
  {
   "cell_type": "code",
   "execution_count": 142,
   "metadata": {},
   "outputs": [
    {
     "data": {
      "text/plain": [
       "2017-03-31     600.000000\n",
       "2017-06-30    1212.240181\n",
       "2017-09-30    1329.026116\n",
       "2017-12-31    1733.420310\n",
       "2018-03-31    7080.576861\n",
       "2018-06-30    7173.521540\n",
       "2018-09-30    2383.153240\n",
       "2018-12-31    2414.436201\n",
       "2019-03-31    2446.129805\n",
       "2019-06-30    2478.239441\n",
       "2019-09-30    2510.770572\n",
       "2019-12-31    1424.483819\n",
       "Freq: 3M, dtype: float64"
      ]
     },
     "execution_count": 142,
     "metadata": {},
     "output_type": "execute_result"
    }
   ],
   "source": [
    "appreciations.iloc[0::3]"
   ]
  },
  {
   "cell_type": "code",
   "execution_count": 144,
   "metadata": {},
   "outputs": [
    {
     "name": "stdout",
     "output_type": "stream",
     "text": [
      "600.0 1212.2401806156433 1329.0261163874634 1733.4203096886063 7080.576860816947 7173.521539607397 2383.1532397901933 2414.4362011554567 2446.1298048812037 2478.2394413505963 2510.770571704794 1424.4838187699575\n"
     ]
    }
   ],
   "source": [
    "print(' '.join(map(str, appreciations.iloc[0::3].values.tolist())))"
   ]
  },
  {
   "cell_type": "code",
   "execution_count": 145,
   "metadata": {},
   "outputs": [
    {
     "data": {
      "text/plain": [
       "date\n",
       "2017-03-09 09:05:00    -300.00\n",
       "2017-03-17 17:05:00    -450.00\n",
       "2017-03-20 08:20:00    -600.00\n",
       "2017-04-07 12:30:00    -750.00\n",
       "2017-04-25 11:40:00   -1000.00\n",
       "2017-05-05 16:37:00   -1200.00\n",
       "2017-07-05 17:50:00   -1300.00\n",
       "2017-11-03 16:15:00   -1500.00\n",
       "2017-11-27 12:25:00   -1685.27\n",
       "2018-01-11 10:25:00   -1985.27\n",
       "2018-02-14 13:30:00   -2985.27\n",
       "2018-02-20 11:40:00   -6985.27\n",
       "2018-07-09 16:15:00   -3046.02\n",
       "2018-07-31 16:55:00   -2143.02\n",
       "2019-11-12 15:16:00   -1028.63\n",
       "Name: cash_flow, dtype: float64"
      ]
     },
     "execution_count": 145,
     "metadata": {},
     "output_type": "execute_result"
    }
   ],
   "source": [
    "transactions.cash_flow.cumsum()"
   ]
  },
  {
   "cell_type": "code",
   "execution_count": null,
   "metadata": {},
   "outputs": [],
   "source": []
  },
  {
   "cell_type": "code",
   "execution_count": null,
   "metadata": {},
   "outputs": [],
   "source": []
  }
 ],
 "metadata": {
  "kernelspec": {
   "display_name": "Python 3",
   "language": "python",
   "name": "python3"
  },
  "language_info": {
   "codemirror_mode": {
    "name": "ipython",
    "version": 3
   },
   "file_extension": ".py",
   "mimetype": "text/x-python",
   "name": "python",
   "nbconvert_exporter": "python",
   "pygments_lexer": "ipython3",
   "version": "3.7.3"
  }
 },
 "nbformat": 4,
 "nbformat_minor": 4
}
