{
 "cells": [
  {
   "cell_type": "code",
   "execution_count": 49,
   "metadata": {},
   "outputs": [],
   "source": [
    "from aocd import get_data"
   ]
  },
  {
   "cell_type": "code",
   "execution_count": 91,
   "metadata": {},
   "outputs": [],
   "source": [
    "data = get_data(day=6)"
   ]
  },
  {
   "cell_type": "code",
   "execution_count": 1,
   "metadata": {},
   "outputs": [],
   "source": [
    "data = '''COM)B\n",
    "B)C\n",
    "C)D\n",
    "D)E\n",
    "E)F\n",
    "B)G\n",
    "G)H\n",
    "D)I\n",
    "E)J\n",
    "J)K\n",
    "K)L'''"
   ]
  },
  {
   "cell_type": "code",
   "execution_count": 111,
   "metadata": {},
   "outputs": [],
   "source": [
    "class Orbit:\n",
    "    def __init__(self, name):\n",
    "        self.name = name\n",
    "        self.parent = None\n",
    "        self.child = []\n",
    "    def depth(self):\n",
    "        if self.parent is not None:\n",
    "            return 1 + self.parent.depth()\n",
    "        else:\n",
    "            return 0\n",
    "    def __repr__(self):\n",
    "        return f'{self.name}){self.parent}'"
   ]
  },
  {
   "cell_type": "code",
   "execution_count": 64,
   "metadata": {},
   "outputs": [],
   "source": [
    "graph = {}\n",
    "graph['COM'] = Orbit('COM')\n",
    "\n",
    "for rel in data.splitlines():\n",
    "    parent, name = rel.split(')')\n",
    "    orbit = Orbit(name)\n",
    "    graph[name] = orbit\n",
    "    \n",
    "for rel in data.splitlines():\n",
    "    parent, name = rel.split(')')\n",
    "    orbit = graph[name]\n",
    "    parent_orb = graph.get(parent)\n",
    "    orbit.parent = parent_orb    "
   ]
  },
  {
   "cell_type": "code",
   "execution_count": 65,
   "metadata": {},
   "outputs": [
    {
     "data": {
      "text/plain": [
       "251208"
      ]
     },
     "execution_count": 65,
     "metadata": {},
     "output_type": "execute_result"
    }
   ],
   "source": [
    "sum(v.depth() for v in graph.values())"
   ]
  },
  {
   "cell_type": "code",
   "execution_count": 66,
   "metadata": {},
   "outputs": [],
   "source": [
    "data = '''COM)B\n",
    "B)C\n",
    "C)D\n",
    "D)E\n",
    "E)F\n",
    "B)G\n",
    "G)H\n",
    "D)I\n",
    "E)J\n",
    "J)K\n",
    "K)L\n",
    "K)YOU\n",
    "I)SAN'''"
   ]
  },
  {
   "cell_type": "code",
   "execution_count": 112,
   "metadata": {},
   "outputs": [],
   "source": [
    "graph = {}\n",
    "graph['COM'] = Orbit('COM')\n",
    "\n",
    "for rel in data.splitlines():\n",
    "    parent, name = rel.split(')')\n",
    "    orbit = Orbit(name)\n",
    "    graph[name] = orbit\n",
    "    \n",
    "for rel in data.splitlines():\n",
    "    parent, name = rel.split(')')\n",
    "    orbit = graph[name]\n",
    "    parent_orb = graph.get(parent)\n",
    "    orbit.parent = parent_orb    \n",
    "    parent_orb.child.append(orbit)"
   ]
  },
  {
   "cell_type": "code",
   "execution_count": 113,
   "metadata": {},
   "outputs": [],
   "source": [
    "from collections import deque\n",
    "\n",
    "inf=10**8\n",
    "source, dest = 'YOU','SAN'\n",
    "\n",
    "distances = {vertex: inf for vertex in graph.keys()}\n",
    "previous_vertices = {\n",
    "    vertex: None for vertex in graph.keys()\n",
    "}\n",
    "distances[source] = 0\n",
    "vertices = list(graph.keys())"
   ]
  },
  {
   "cell_type": "code",
   "execution_count": 114,
   "metadata": {},
   "outputs": [],
   "source": [
    "while vertices:\n",
    "    current_vertex = min(\n",
    "        vertices, key=lambda vertex: distances[vertex])\n",
    "    vertices.remove(current_vertex)\n",
    "    if distances[current_vertex] == inf:\n",
    "        print(current_vertex)\n",
    "        break\n",
    "    neighborus = [graph[current_vertex].parent] + graph[current_vertex].child\n",
    "    for n in neighborus:\n",
    "        if n is not None:\n",
    "            neighbour = n.name\n",
    "            alternative_route = distances[current_vertex] + 1\n",
    "            if alternative_route < distances[neighbour]:\n",
    "                distances[neighbour] = alternative_route\n",
    "                previous_vertices[neighbour] = current_vertex\n",
    "\n",
    "# path, current_vertex = deque(), dest\n",
    "# while previous_vertices[current_vertex] is not None:\n",
    "#     path.appendleft(current_vertex)\n",
    "#     current_vertex = previous_vertices[current_vertex]\n",
    "# if path:\n",
    "#     path.appendleft(current_vertex)"
   ]
  },
  {
   "cell_type": "code",
   "execution_count": 116,
   "metadata": {},
   "outputs": [
    {
     "data": {
      "text/plain": [
       "397"
      ]
     },
     "execution_count": 116,
     "metadata": {},
     "output_type": "execute_result"
    }
   ],
   "source": [
    "distances['SAN']-2"
   ]
  },
  {
   "cell_type": "code",
   "execution_count": null,
   "metadata": {},
   "outputs": [],
   "source": []
  }
 ],
 "metadata": {
  "kernelspec": {
   "display_name": "Python 3",
   "language": "python",
   "name": "python3"
  },
  "language_info": {
   "codemirror_mode": {
    "name": "ipython",
    "version": 3
   },
   "file_extension": ".py",
   "mimetype": "text/x-python",
   "name": "python",
   "nbconvert_exporter": "python",
   "pygments_lexer": "ipython3",
   "version": "3.7.3"
  }
 },
 "nbformat": 4,
 "nbformat_minor": 4
}
