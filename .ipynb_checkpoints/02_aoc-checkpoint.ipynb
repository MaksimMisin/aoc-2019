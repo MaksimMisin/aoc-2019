{
 "cells": [
  {
   "cell_type": "code",
   "execution_count": 1,
   "metadata": {},
   "outputs": [],
   "source": [
    "from aocd import get_data"
   ]
  },
  {
   "cell_type": "code",
   "execution_count": 31,
   "metadata": {},
   "outputs": [],
   "source": [
    "data = get_data(day=2)"
   ]
  },
  {
   "cell_type": "code",
   "execution_count": 1,
   "metadata": {},
   "outputs": [],
   "source": [
    "#data = '1,1,1,4,99,5,6,0,99'"
   ]
  },
  {
   "cell_type": "code",
   "execution_count": 36,
   "metadata": {},
   "outputs": [
    {
     "name": "stdout",
     "output_type": "stream",
     "text": [
      "4967\n",
      "done!\n"
     ]
    }
   ],
   "source": [
    "for noun in range(100):\n",
    "    for verb in range(100):\n",
    "        l = list(map(int, data.split(',')))\n",
    "\n",
    "        l[1] = noun\n",
    "        l[2] = verb\n",
    "\n",
    "        cur_pos = 0\n",
    "        while True:\n",
    "            opcode = l[cur_pos]\n",
    "            if opcode == 1:\n",
    "                num1 = l[l[cur_pos+1]]\n",
    "                num2 = l[l[cur_pos+2]]\n",
    "                l[l[cur_pos+3]] = num1 + num2\n",
    "            elif opcode == 2:\n",
    "                num1 = l[l[cur_pos+1]]\n",
    "                num2 = l[l[cur_pos+2]]\n",
    "                l[l[cur_pos+3]] = num1 * num2\n",
    "            elif opcode == 99:\n",
    "                #print('Finished!')\n",
    "                break\n",
    "            else:\n",
    "                raise ValueError('unknown opcode')\n",
    "            cur_pos += 4\n",
    "        \n",
    "        if l[0] == 19690720:\n",
    "            print(noun * 100 + verb)\n",
    "            print('done!')"
   ]
  },
  {
   "cell_type": "code",
   "execution_count": null,
   "metadata": {},
   "outputs": [],
   "source": []
  }
 ],
 "metadata": {
  "kernelspec": {
   "display_name": "Python 3",
   "language": "python",
   "name": "python3"
  },
  "language_info": {
   "codemirror_mode": {
    "name": "ipython",
    "version": 3
   },
   "file_extension": ".py",
   "mimetype": "text/x-python",
   "name": "python",
   "nbconvert_exporter": "python",
   "pygments_lexer": "ipython3",
   "version": "3.7.3"
  }
 },
 "nbformat": 4,
 "nbformat_minor": 4
}
