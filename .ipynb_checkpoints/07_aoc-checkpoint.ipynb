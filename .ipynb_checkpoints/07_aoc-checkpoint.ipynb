{
 "cells": [
  {
   "cell_type": "code",
   "execution_count": null,
   "metadata": {},
   "outputs": [],
   "source": [
    "from aocd import get_data"
   ]
  },
  {
   "cell_type": "code",
   "execution_count": 173,
   "metadata": {},
   "outputs": [],
   "source": [
    "data = get_data()"
   ]
  },
  {
   "cell_type": "code",
   "execution_count": 174,
   "metadata": {},
   "outputs": [],
   "source": [
    "#data = '''3,8,1001,8,10,8,105,1,0,0,21,34,51,76,101,114,195,276,357,438,99999,3,9,1001,9,3,9,1002,9,3,9,4,9,99,3,9,101,4,9,9,102,4,9,9,1001,9,5,9,4,9,99,3,9,1002,9,4,9,101,3,9,9,102,5,9,9,1001,9,2,9,1002,9,2,9,4,9,99,3,9,1001,9,3,9,102,2,9,9,101,4,9,9,102,3,9,9,101,2,9,9,4,9,99,3,9,102,2,9,9,101,4,9,9,4,9,99,3,9,102,2,9,9,4,9,3,9,102,2,9,9,4,9,3,9,1001,9,1,9,4,9,3,9,1001,9,2,9,4,9,3,9,101,2,9,9,4,9,3,9,1002,9,2,9,4,9,3,9,1002,9,2,9,4,9,3,9,1001,9,2,9,4,9,3,9,1002,9,2,9,4,9,3,9,101,2,9,9,4,9,99,3,9,101,2,9,9,4,9,3,9,1002,9,2,9,4,9,3,9,1001,9,1,9,4,9,3,9,1001,9,1,9,4,9,3,9,1002,9,2,9,4,9,3,9,102,2,9,9,4,9,3,9,101,1,9,9,4,9,3,9,1002,9,2,9,4,9,3,9,1001,9,2,9,4,9,3,9,1001,9,2,9,4,9,99,3,9,1001,9,2,9,4,9,3,9,102,2,9,9,4,9,3,9,101,2,9,9,4,9,3,9,102,2,9,9,4,9,3,9,1001,9,1,9,4,9,3,9,102,2,9,9,4,9,3,9,1001,9,1,9,4,9,3,9,102,2,9,9,4,9,3,9,1002,9,2,9,4,9,3,9,101,2,9,9,4,9,99,3,9,102,2,9,9,4,9,3,9,102,2,9,9,4,9,3,9,1002,9,2,9,4,9,3,9,1001,9,1,9,4,9,3,9,1002,9,2,9,4,9,3,9,102,2,9,9,4,9,3,9,1001,9,2,9,4,9,3,9,101,1,9,9,4,9,3,9,102,2,9,9,4,9,3,9,102,2,9,9,4,9,99,3,9,1002,9,2,9,4,9,3,9,101,2,9,9,4,9,3,9,101,1,9,9,4,9,3,9,101,2,9,9,4,9,3,9,101,1,9,9,4,9,3,9,1001,9,2,9,4,9,3,9,1002,9,2,9,4,9,3,9,1001,9,1,9,4,9,3,9,1001,9,2,9,4,9,3,9,1002,9,2,9,4,9,99'''\n",
    "state = list(map(int, data.split(',')))"
   ]
  },
  {
   "cell_type": "code",
   "execution_count": 13,
   "metadata": {},
   "outputs": [],
   "source": [
    "from operator import add, mul\n",
    "from queue import SimpleQueue\n",
    "\n",
    "PC_STEP = {1: 4, 2: 4, 3: 2, 4: 2, 5: 3, 6: 3, 7: 4, 8: 4}\n",
    "\n",
    "class Computer:\n",
    "    def __init__(self, state):\n",
    "        self.state = state[:]\n",
    "        self.pc = 0\n",
    "        self.inputs = SimpleQueue()\n",
    "\n",
    "    def eval(self):\n",
    "        \"\"\"\n",
    "        Evaluates program state until output is generated.\n",
    "        Blocks if input is exhausted.\n",
    "        \"\"\"\n",
    "        while True:\n",
    "            instr = str(self.state[self.pc])\n",
    "            opcode = int(instr[-2:])\n",
    "            if opcode == 99:\n",
    "                break\n",
    "\n",
    "            # parameter modes\n",
    "            modes = []\n",
    "            for i in range(3, PC_STEP[opcode] + 2):\n",
    "                if len(instr) >= i:\n",
    "                    modes.append(int(instr[-i]))\n",
    "                else:\n",
    "                    modes.append(0)\n",
    "\n",
    "            # deference params, if applicable\n",
    "            params = []\n",
    "            for i in range(1, PC_STEP[opcode]):\n",
    "                if modes[i - 1] == 0:  # position\n",
    "                    params.append(self.state[self.state[self.pc + i]])\n",
    "                else:  # immediate\n",
    "                    params.append(self.state[self.pc + i])\n",
    "\n",
    "            if opcode == 4:  # output\n",
    "                # nb: special case, returns\n",
    "                self.pc += 2\n",
    "                return params[0]\n",
    "            elif opcode == 1 or opcode == 2:  # add/mul\n",
    "                outpos = self.state[self.pc + 3]\n",
    "                op = add if opcode == 1 else mul\n",
    "                self.state[outpos] = op(params[0], params[1])\n",
    "            elif opcode == 3:  # input\n",
    "                self.state[self.state[self.pc + 1]] = self.inputs.get()  # nb: blocks\n",
    "            elif opcode == 5:  # jmp 0\n",
    "                if params[0] != 0:\n",
    "                    self.pc = params[1]\n",
    "                    continue\n",
    "            elif opcode == 6:  # jmp not 0\n",
    "                if params[0] == 0:\n",
    "                    self.pc = params[1]\n",
    "                    continue\n",
    "            elif opcode == 7:  # less than\n",
    "                self.state[self.state[self.pc + 3]] = 1 if params[0] < params[1] else 0\n",
    "            elif opcode == 8:  # equals\n",
    "                self.state[self.state[self.pc + 3]] = 1 if params[0] == params[1] else 0\n",
    "\n",
    "            self.pc += PC_STEP[opcode]\n",
    "\n",
    "    def put(self, obj):\n",
    "        \"\"\"Add an input to the queue\"\"\"\n",
    "        self.inputs.put(obj)"
   ]
  },
  {
   "cell_type": "code",
   "execution_count": 127,
   "metadata": {},
   "outputs": [],
   "source": [
    "def run_intcode(inputs):\n",
    "    c = Computer(state)\n",
    "    for inp in inputs:\n",
    "        c.put(inp)\n",
    "    return c.eval()"
   ]
  },
  {
   "cell_type": "code",
   "execution_count": 128,
   "metadata": {},
   "outputs": [],
   "source": [
    "def run_thrusters(phase_settings):\n",
    "    out = 0\n",
    "    for phase in phase_settings:\n",
    "        #print(phase, out)\n",
    "        program_inputs = [phase, out]\n",
    "        out = run_intcode(program_inputs)\n",
    "    return out"
   ]
  },
  {
   "cell_type": "code",
   "execution_count": 129,
   "metadata": {},
   "outputs": [],
   "source": [
    "from itertools import permutations"
   ]
  },
  {
   "cell_type": "code",
   "execution_count": 130,
   "metadata": {},
   "outputs": [],
   "source": [
    "def run():\n",
    "    return max(\n",
    "        run_thrusters(phase_perm) for phase_perm in permutations([0,1,2,3,4])\n",
    "    )"
   ]
  },
  {
   "cell_type": "code",
   "execution_count": 131,
   "metadata": {},
   "outputs": [
    {
     "data": {
      "text/plain": [
       "38834"
      ]
     },
     "execution_count": 131,
     "metadata": {},
     "output_type": "execute_result"
    }
   ],
   "source": [
    "run()"
   ]
  },
  {
   "cell_type": "markdown",
   "metadata": {},
   "source": [
    "# Part 2"
   ]
  },
  {
   "cell_type": "code",
   "execution_count": 7,
   "metadata": {},
   "outputs": [],
   "source": [
    "from itertools import permutations"
   ]
  },
  {
   "cell_type": "code",
   "execution_count": 15,
   "metadata": {},
   "outputs": [],
   "source": [
    "data = '''3,26,1001,26,-4,26,3,27,1002,27,2,27,1,27,26,27,4,27,1001,28,-1,28,1005,28,6,99,0,0,5'''"
   ]
  },
  {
   "cell_type": "code",
   "execution_count": 16,
   "metadata": {},
   "outputs": [],
   "source": [
    "state = list(map(int, data.split(',')))"
   ]
  },
  {
   "cell_type": "code",
   "execution_count": 22,
   "metadata": {},
   "outputs": [],
   "source": [
    "def run_loop(phase_settings):\n",
    "    # initialization\n",
    "    computers = []\n",
    "    for phase in phase_settings:\n",
    "        c = Computer(state)\n",
    "        c.put(phase)\n",
    "        computers.append(c)\n",
    "    # run\n",
    "    computers[0].put(0)\n",
    "    cidx = 0\n",
    "    last_out = 0\n",
    "    while True:\n",
    "        out = computers[cidx].eval()\n",
    "        print(cidx, out)\n",
    "        cidx = (cidx + 1) % len(computers)\n",
    "        if out is not None:\n",
    "            computers[cidx].put(out)\n",
    "            last_out = out\n",
    "        else:\n",
    "            break\n",
    "        #print(cidx, out)\n",
    "    return last_out"
   ]
  },
  {
   "cell_type": "code",
   "execution_count": 26,
   "metadata": {},
   "outputs": [
    {
     "data": {
      "text/plain": [
       "1"
      ]
     },
     "execution_count": 26,
     "metadata": {},
     "output_type": "execute_result"
    }
   ],
   "source": [
    "139629729-69814864-69814864"
   ]
  },
  {
   "cell_type": "code",
   "execution_count": 23,
   "metadata": {},
   "outputs": [
    {
     "name": "stdout",
     "output_type": "stream",
     "text": [
      "0 5\n",
      "1 14\n",
      "2 31\n",
      "3 64\n",
      "4 129\n",
      "0 263\n",
      "1 530\n",
      "2 1063\n",
      "3 2128\n",
      "4 4257\n",
      "0 8519\n",
      "1 17042\n",
      "2 34087\n",
      "3 68176\n",
      "4 136353\n",
      "0 272711\n",
      "1 545426\n",
      "2 1090855\n",
      "3 2181712\n",
      "4 4363425\n",
      "0 8726855\n",
      "1 17453714\n",
      "2 34907431\n",
      "3 69814864\n",
      "4 139629729\n",
      "0 None\n"
     ]
    },
    {
     "data": {
      "text/plain": [
       "139629729"
      ]
     },
     "execution_count": 23,
     "metadata": {},
     "output_type": "execute_result"
    }
   ],
   "source": [
    "run_loop([9,8,7,6,5])"
   ]
  },
  {
   "cell_type": "code",
   "execution_count": 18,
   "metadata": {},
   "outputs": [],
   "source": [
    "def run():\n",
    "    return max(\n",
    "        run_loop(phase_perm) for phase_perm in permutations([9,8,7,6,5])\n",
    "    )"
   ]
  },
  {
   "cell_type": "code",
   "execution_count": 19,
   "metadata": {},
   "outputs": [
    {
     "data": {
      "text/plain": [
       "139629729"
      ]
     },
     "execution_count": 19,
     "metadata": {},
     "output_type": "execute_result"
    }
   ],
   "source": [
    "run()"
   ]
  },
  {
   "cell_type": "code",
   "execution_count": null,
   "metadata": {},
   "outputs": [],
   "source": []
  },
  {
   "cell_type": "code",
   "execution_count": null,
   "metadata": {},
   "outputs": [],
   "source": []
  },
  {
   "cell_type": "code",
   "execution_count": null,
   "metadata": {},
   "outputs": [],
   "source": []
  }
 ],
 "metadata": {
  "kernelspec": {
   "display_name": "Python 3",
   "language": "python",
   "name": "python3"
  },
  "language_info": {
   "codemirror_mode": {
    "name": "ipython",
    "version": 3
   },
   "file_extension": ".py",
   "mimetype": "text/x-python",
   "name": "python",
   "nbconvert_exporter": "python",
   "pygments_lexer": "ipython3",
   "version": "3.7.3"
  }
 },
 "nbformat": 4,
 "nbformat_minor": 4
}
