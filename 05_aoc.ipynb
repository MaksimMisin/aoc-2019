{
 "cells": [
  {
   "cell_type": "code",
   "execution_count": 1,
   "metadata": {},
   "outputs": [],
   "source": [
    "from aocd import get_data"
   ]
  },
  {
   "cell_type": "code",
   "execution_count": 34,
   "metadata": {},
   "outputs": [],
   "source": [
    "data = get_data(day=5)"
   ]
  },
  {
   "cell_type": "code",
   "execution_count": 32,
   "metadata": {},
   "outputs": [],
   "source": [
    "data = '''3,21,1008,21,8,20,1005,20,22,107,8,21,20,1006,20,31,\n",
    "1106,0,36,98,0,0,1002,21,125,20,4,20,1105,1,46,104,\n",
    "999,1105,1,46,1101,1000,1,20,4,20,1105,1,46,98,99'''"
   ]
  },
  {
   "cell_type": "code",
   "execution_count": 36,
   "metadata": {},
   "outputs": [
    {
     "name": "stdout",
     "output_type": "stream",
     "text": [
      "10428568\n",
      "Finished!\n"
     ]
    }
   ],
   "source": [
    "l = list(map(int, data.split(',')))\n",
    "\n",
    "program_input = 5\n",
    "opcode_len = {\n",
    "    '01': 4,\n",
    "    '02': 4,\n",
    "    '99': 0,\n",
    "    '03': 2,\n",
    "    '04': 2,\n",
    "    '05': 3,\n",
    "    '06': 3,\n",
    "    '07': 4,\n",
    "    '08': 4,\n",
    "    \n",
    "}\n",
    "\n",
    "# Opcode 5 is jump-if-true: if the first parameter is non-zero, it sets the instruction pointer to the value from the second parameter. Otherwise, it does nothing.\n",
    "# Opcode 6 is jump-if-false: if the first parameter is zero, it sets the instruction pointer to the value from the second parameter. Otherwise, it does nothing.\n",
    "# Opcode 7 is less than: if the first parameter is less than the second parameter, it stores 1 in the position given by the third parameter. Otherwise, it stores 0.\n",
    "# Opcode 8 is equals: if the first parameter is equal to the second parameter, it stores 1 in the position given by the third parameter. Otherwise, it stores 0\n",
    "\n",
    "cur_pos = 0\n",
    "while True:\n",
    "    instr = str(l[cur_pos]).zfill(5)\n",
    "    opcode = instr[-2:]\n",
    "    mode3 = instr[0]\n",
    "    mode2 = instr[1]\n",
    "    mode1 = instr[2]\n",
    "    #print(opcode, cur_pos)\n",
    "    if opcode == '01':\n",
    "        num1 = l[l[cur_pos+1]] if mode1=='0' else l[cur_pos+1]\n",
    "        num2 = l[l[cur_pos+2]] if mode2=='0' else l[cur_pos+2]\n",
    "        l[l[cur_pos+3]] = num1 + num2\n",
    "    elif opcode == '02':\n",
    "        num1 = l[l[cur_pos+1]] if mode1=='0' else l[cur_pos+1]\n",
    "        num2 = l[l[cur_pos+2]] if mode2=='0' else l[cur_pos+2]\n",
    "        l[l[cur_pos+3]] = num1 * num2\n",
    "    elif opcode == '03':\n",
    "        loc = l[cur_pos+1] if mode1=='0' else cur_pos+1\n",
    "        l[loc] = program_input\n",
    "    elif opcode == '04':\n",
    "        loc = l[cur_pos+1] if mode1=='0' else cur_pos+1\n",
    "        print(l[loc])\n",
    "    elif opcode == '05':\n",
    "        num1 = l[l[cur_pos+1]] if mode1=='0' else l[cur_pos+1]\n",
    "        num2 = l[l[cur_pos+2]] if mode2=='0' else l[cur_pos+2]\n",
    "        if num1 != 0:\n",
    "            cur_pos = num2\n",
    "            continue\n",
    "    elif opcode == '06':\n",
    "        num1 = l[l[cur_pos+1]] if mode1=='0' else l[cur_pos+1]\n",
    "        num2 = l[l[cur_pos+2]] if mode2=='0' else l[cur_pos+2]\n",
    "        if num1 == 0:\n",
    "            cur_pos = num2\n",
    "            continue\n",
    "    elif opcode == '07':\n",
    "        num1 = l[l[cur_pos+1]] if mode1=='0' else l[cur_pos+1]\n",
    "        num2 = l[l[cur_pos+2]] if mode2=='0' else l[cur_pos+2]\n",
    "        l[l[cur_pos+3]] = int(num1 < num2) \n",
    "    elif opcode == '08':\n",
    "        num1 = l[l[cur_pos+1]] if mode1=='0' else l[cur_pos+1]\n",
    "        num2 = l[l[cur_pos+2]] if mode2=='0' else l[cur_pos+2]\n",
    "        l[l[cur_pos+3]] = int(num1 == num2)\n",
    "    elif opcode == '99':\n",
    "        print('Finished!')\n",
    "        break\n",
    "    else:\n",
    "        raise ValueError('unknown opcode')\n",
    "    cur_pos += opcode_len[opcode]\n"
   ]
  },
  {
   "cell_type": "code",
   "execution_count": null,
   "metadata": {},
   "outputs": [],
   "source": []
  }
 ],
 "metadata": {
  "kernelspec": {
   "display_name": "Python 3",
   "language": "python",
   "name": "python3"
  },
  "language_info": {
   "codemirror_mode": {
    "name": "ipython",
    "version": 3
   },
   "file_extension": ".py",
   "mimetype": "text/x-python",
   "name": "python",
   "nbconvert_exporter": "python",
   "pygments_lexer": "ipython3",
   "version": "3.7.3"
  }
 },
 "nbformat": 4,
 "nbformat_minor": 4
}
