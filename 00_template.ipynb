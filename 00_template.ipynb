{
 "cells": [
  {
   "cell_type": "code",
   "execution_count": 2,
   "metadata": {},
   "outputs": [],
   "source": [
    "from aocd import get_data"
   ]
  },
  {
   "cell_type": "code",
   "execution_count": 4,
   "metadata": {},
   "outputs": [
    {
     "data": {
      "text/plain": [
       "'74666\\n50584\\n105124\\n52607\\n101692\\n137055\\n88127\\n77258\\n134816\\n139494\\n146549\\n144281\\n128146\\n148561\\n123728\\n114596\\n53743\\n81414\\n88075\\n70087\\n51497\\n95609\\n135773\\n71755\\n55037\\n134049\\n103570\\n122545\\n75969\\n79951\\n72989\\n128676\\n142001\\n80835\\n98099\\n81160\\n111114\\n128466\\n115687\\n147790\\n78965\\n121587\\n142632\\n61938\\n73285\\n55943\\n144393\\n68943\\n82827\\n73811\\n79762\\n83621\\n103134\\n106771\\n119852\\n77535\\n133417\\n81342\\n78363\\n145086\\n122420\\n149187\\n120571\\n50512\\n113307\\n100485\\n80463\\n79542\\n63275\\n120851\\n69695\\n70107\\n130390\\n135537\\n114589\\n75459\\n103546\\n127712\\n84294\\n83598\\n59834\\n125312\\n146371\\n131623\\n132985\\n79510\\n97024\\n78880\\n65949\\n140216\\n99447\\n144262\\n56745\\n104707\\n132649\\n140230\\n129059\\n135470\\n107519\\n107895'"
      ]
     },
     "execution_count": 4,
     "metadata": {},
     "output_type": "execute_result"
    }
   ],
   "source": [
    "get_data(day=1)"
   ]
  },
  {
   "cell_type": "code",
   "execution_count": null,
   "metadata": {},
   "outputs": [],
   "source": []
  }
 ],
 "metadata": {
  "kernelspec": {
   "display_name": "Python 3",
   "language": "python",
   "name": "python3"
  },
  "language_info": {
   "codemirror_mode": {
    "name": "ipython",
    "version": 3
   },
   "file_extension": ".py",
   "mimetype": "text/x-python",
   "name": "python",
   "nbconvert_exporter": "python",
   "pygments_lexer": "ipython3",
   "version": "3.7.3"
  }
 },
 "nbformat": 4,
 "nbformat_minor": 4
}
