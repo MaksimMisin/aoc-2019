{
 "cells": [
  {
   "cell_type": "code",
   "execution_count": 1,
   "metadata": {},
   "outputs": [],
   "source": [
    "import pandas as pd\n",
    "\n",
    "import matplotlib.pyplot as plt\n",
    "from pandas.plotting import register_matplotlib_converters\n",
    "register_matplotlib_converters()\n",
    "\n",
    "import numpy as np\n",
    "\n",
    "pd.options.display.max_columns = 999"
   ]
  },
  {
   "cell_type": "code",
   "execution_count": 2,
   "metadata": {},
   "outputs": [],
   "source": [
    "import datetime\n",
    "from scipy import optimize \n",
    "\n",
    "def xnpv(rate,cashflows):\n",
    "    chron_order = sorted(cashflows, key = lambda x: x[0])\n",
    "    t0 = chron_order[0][0] #t0 is the date of the first cash flow\n",
    "\n",
    "    return sum([cf/(1+rate)**((t-t0).days/365.0) for (t,cf) in chron_order])\n",
    "\n",
    "def xirr(cashflows,guess=0.1):\n",
    "    \"\"\"\n",
    "    Calculate the Internal Rate of Return of a series of cashflows at irregular intervals.\n",
    "    Arguments\n",
    "    ---------\n",
    "    * cashflows: a list object in which each element is a tuple of the form (date, amount), where date is a python datetime.date object and amount is an integer or floating point number. Cash outflows (investments) are represented with negative amounts, and cash inflows (returns) are positive amounts.\n",
    "    * guess (optional, default = 0.1): a guess at the solution to be used as a starting point for the numerical solution. \n",
    "    Returns\n",
    "    --------\n",
    "    * Returns the IRR as a single value\n",
    "    \n",
    "    Notes\n",
    "    ----------------\n",
    "    * The Internal Rate of Return (IRR) is the discount rate at which the Net Present Value (NPV) of a series of cash flows is equal to zero. The NPV of the series of cash flows is determined using the xnpv function in this module. The discount rate at which NPV equals zero is found using the secant method of numerical solution. \n",
    "    * This function is equivalent to the Microsoft Excel function of the same name.\n",
    "    * For users that do not have the scipy module installed, there is an alternate version (commented out) that uses the secant_method function defined in the module rather than the scipy.optimize module's numerical solver. Both use the same method of calculation so there should be no difference in performance, but the secant_method function does not fail gracefully in cases where there is no solution, so the scipy.optimize.newton version is preferred.\n",
    "    \"\"\"\n",
    "    \n",
    "    #return secant_method(0.0001,lambda r: xnpv(r,cashflows),guess)\n",
    "    return optimize.newton(lambda r: xnpv(r,cashflows),guess)\n"
   ]
  },
  {
   "cell_type": "markdown",
   "metadata": {},
   "source": [
    "Getting analysis:\n",
    "\n",
    "Account statement - download"
   ]
  },
  {
   "cell_type": "code",
   "execution_count": 5,
   "metadata": {},
   "outputs": [],
   "source": [
    "df = pd.read_excel('./mintos-breansentou-20191207-account-statement.xlsx')\n",
    "\n",
    "df.Date = pd.to_datetime(df['Date'])"
   ]
  },
  {
   "cell_type": "code",
   "execution_count": 6,
   "metadata": {},
   "outputs": [
    {
     "data": {
      "text/plain": [
       "Loan          8466\n",
       "Investment    1732\n",
       "Refer            3\n",
       "Deposits         1\n",
       "Cumulative       1\n",
       "Name: Details, dtype: int64"
      ]
     },
     "execution_count": 6,
     "metadata": {},
     "output_type": "execute_result"
    }
   ],
   "source": [
    "df.Details.apply(lambda x: x.split()[0]).value_counts()"
   ]
  },
  {
   "cell_type": "code",
   "execution_count": 7,
   "metadata": {},
   "outputs": [
    {
     "data": {
      "text/html": [
       "<div>\n",
       "<style scoped>\n",
       "    .dataframe tbody tr th:only-of-type {\n",
       "        vertical-align: middle;\n",
       "    }\n",
       "\n",
       "    .dataframe tbody tr th {\n",
       "        vertical-align: top;\n",
       "    }\n",
       "\n",
       "    .dataframe thead th {\n",
       "        text-align: right;\n",
       "    }\n",
       "</style>\n",
       "<table border=\"1\" class=\"dataframe\">\n",
       "  <thead>\n",
       "    <tr style=\"text-align: right;\">\n",
       "      <th></th>\n",
       "      <th>Transaction ID</th>\n",
       "      <th>Date</th>\n",
       "      <th>Details</th>\n",
       "      <th>Turnover</th>\n",
       "      <th>Balance</th>\n",
       "      <th>Currency</th>\n",
       "    </tr>\n",
       "  </thead>\n",
       "  <tbody>\n",
       "    <tr>\n",
       "      <th>0</th>\n",
       "      <td>613328204.0</td>\n",
       "      <td>2019-02-09 05:00:19</td>\n",
       "      <td>Deposits</td>\n",
       "      <td>7000.0</td>\n",
       "      <td>7000.0</td>\n",
       "      <td>EUR</td>\n",
       "    </tr>\n",
       "    <tr>\n",
       "      <th>1</th>\n",
       "      <td>613786103.0</td>\n",
       "      <td>2019-02-09 12:53:20</td>\n",
       "      <td>Loan 9306419-01 - investment in loan</td>\n",
       "      <td>-25.0</td>\n",
       "      <td>6975.0</td>\n",
       "      <td>EUR</td>\n",
       "    </tr>\n",
       "    <tr>\n",
       "      <th>2</th>\n",
       "      <td>613786107.0</td>\n",
       "      <td>2019-02-09 12:53:21</td>\n",
       "      <td>Loan 9540096-01 - investment in loan</td>\n",
       "      <td>-25.0</td>\n",
       "      <td>6950.0</td>\n",
       "      <td>EUR</td>\n",
       "    </tr>\n",
       "    <tr>\n",
       "      <th>3</th>\n",
       "      <td>613786111.0</td>\n",
       "      <td>2019-02-09 12:53:22</td>\n",
       "      <td>Loan 9540094-01 - investment in loan</td>\n",
       "      <td>-25.0</td>\n",
       "      <td>6925.0</td>\n",
       "      <td>EUR</td>\n",
       "    </tr>\n",
       "    <tr>\n",
       "      <th>4</th>\n",
       "      <td>613786117.0</td>\n",
       "      <td>2019-02-09 12:53:23</td>\n",
       "      <td>Loan 9540095-01 - investment in loan</td>\n",
       "      <td>-25.0</td>\n",
       "      <td>6900.0</td>\n",
       "      <td>EUR</td>\n",
       "    </tr>\n",
       "  </tbody>\n",
       "</table>\n",
       "</div>"
      ],
      "text/plain": [
       "   Transaction ID                Date                               Details  \\\n",
       "0     613328204.0 2019-02-09 05:00:19                              Deposits   \n",
       "1     613786103.0 2019-02-09 12:53:20  Loan 9306419-01 - investment in loan   \n",
       "2     613786107.0 2019-02-09 12:53:21  Loan 9540096-01 - investment in loan   \n",
       "3     613786111.0 2019-02-09 12:53:22  Loan 9540094-01 - investment in loan   \n",
       "4     613786117.0 2019-02-09 12:53:23  Loan 9540095-01 - investment in loan   \n",
       "\n",
       "   Turnover  Balance Currency  \n",
       "0    7000.0   7000.0      EUR  \n",
       "1     -25.0   6975.0      EUR  \n",
       "2     -25.0   6950.0      EUR  \n",
       "3     -25.0   6925.0      EUR  \n",
       "4     -25.0   6900.0      EUR  "
      ]
     },
     "execution_count": 7,
     "metadata": {},
     "output_type": "execute_result"
    }
   ],
   "source": [
    "df.head()"
   ]
  },
  {
   "cell_type": "code",
   "execution_count": 8,
   "metadata": {},
   "outputs": [],
   "source": [
    "transactions = df[df.Details.isin(['Deposits','Withdrawals'])].copy()"
   ]
  },
  {
   "cell_type": "code",
   "execution_count": 17,
   "metadata": {},
   "outputs": [
    {
     "data": {
      "text/html": [
       "<div>\n",
       "<style scoped>\n",
       "    .dataframe tbody tr th:only-of-type {\n",
       "        vertical-align: middle;\n",
       "    }\n",
       "\n",
       "    .dataframe tbody tr th {\n",
       "        vertical-align: top;\n",
       "    }\n",
       "\n",
       "    .dataframe thead th {\n",
       "        text-align: right;\n",
       "    }\n",
       "</style>\n",
       "<table border=\"1\" class=\"dataframe\">\n",
       "  <thead>\n",
       "    <tr style=\"text-align: right;\">\n",
       "      <th></th>\n",
       "      <th>Transaction ID</th>\n",
       "      <th>Date</th>\n",
       "      <th>Details</th>\n",
       "      <th>Turnover</th>\n",
       "      <th>Balance</th>\n",
       "      <th>Currency</th>\n",
       "      <th>cash_flow</th>\n",
       "    </tr>\n",
       "    <tr>\n",
       "      <th>Date</th>\n",
       "      <th></th>\n",
       "      <th></th>\n",
       "      <th></th>\n",
       "      <th></th>\n",
       "      <th></th>\n",
       "      <th></th>\n",
       "      <th></th>\n",
       "    </tr>\n",
       "  </thead>\n",
       "  <tbody>\n",
       "    <tr>\n",
       "      <th>2019-02-09 05:00:19</th>\n",
       "      <td>613328204.0</td>\n",
       "      <td>2019-02-09 05:00:19</td>\n",
       "      <td>Deposits</td>\n",
       "      <td>7000.0</td>\n",
       "      <td>7000.0</td>\n",
       "      <td>EUR</td>\n",
       "      <td>-7000.0</td>\n",
       "    </tr>\n",
       "  </tbody>\n",
       "</table>\n",
       "</div>"
      ],
      "text/plain": [
       "                     Transaction ID                Date   Details  Turnover  \\\n",
       "Date                                                                          \n",
       "2019-02-09 05:00:19     613328204.0 2019-02-09 05:00:19  Deposits    7000.0   \n",
       "\n",
       "                     Balance Currency  cash_flow  \n",
       "Date                                              \n",
       "2019-02-09 05:00:19   7000.0      EUR    -7000.0  "
      ]
     },
     "execution_count": 17,
     "metadata": {},
     "output_type": "execute_result"
    }
   ],
   "source": [
    "transactions"
   ]
  },
  {
   "cell_type": "code",
   "execution_count": 18,
   "metadata": {},
   "outputs": [],
   "source": [
    "transactions['cash_flow'] = -transactions['Turnover']\n",
    "transactions.index = pd.to_datetime(transactions['Date'])\n",
    "transactions = transactions.sort_index()\n",
    "\n",
    "cash_flow = transactions.cash_flow"
   ]
  },
  {
   "cell_type": "code",
   "execution_count": 19,
   "metadata": {},
   "outputs": [],
   "source": [
    "cash_flow = cash_flow.append(pd.Series(data=[7712.95], index=[pd.to_datetime('2019-12-07')]))"
   ]
  },
  {
   "cell_type": "code",
   "execution_count": 20,
   "metadata": {},
   "outputs": [
    {
     "data": {
      "text/plain": [
       "712.9499999999998"
      ]
     },
     "execution_count": 20,
     "metadata": {},
     "output_type": "execute_result"
    }
   ],
   "source": [
    "cash_flow.sum()"
   ]
  },
  {
   "cell_type": "code",
   "execution_count": 21,
   "metadata": {},
   "outputs": [],
   "source": [
    "cash_flow_py = [(k.to_pydatetime(),v) for k,v in cash_flow.to_dict().items()]"
   ]
  },
  {
   "cell_type": "code",
   "execution_count": 22,
   "metadata": {},
   "outputs": [
    {
     "data": {
      "text/plain": [
       "0.12524997630295903"
      ]
     },
     "execution_count": 22,
     "metadata": {},
     "output_type": "execute_result"
    }
   ],
   "source": [
    "r = xirr(cash_flow_py)\n",
    "r"
   ]
  },
  {
   "cell_type": "code",
   "execution_count": 23,
   "metadata": {},
   "outputs": [],
   "source": [
    "reindexed_flow = (-transactions.cash_flow).copy()\n",
    "reindexed_flow = reindexed_flow.append(pd.Series([0], index=[pd.to_datetime('2019-12-01')]))\n",
    "\n",
    "reindexed_flow = reindexed_flow.groupby(pd.Grouper(freq='M')).sum()\n",
    "\n",
    "prev_sum = 0\n",
    "appreciations = []\n",
    "for date, deposit in reindexed_flow.items():\n",
    "    new_sum = prev_sum * (1+r)**(1/12) + deposit\n",
    "    appreciations.append(new_sum)\n",
    "    prev_sum = new_sum\n",
    "appreciations = pd.Series(appreciations, index=reindexed_flow.index)"
   ]
  },
  {
   "cell_type": "code",
   "execution_count": 24,
   "metadata": {},
   "outputs": [
    {
     "data": {
      "text/plain": [
       "2019-02-28    7000.000000\n",
       "2019-03-31    7069.175946\n",
       "2019-04-30    7139.035509\n",
       "2019-05-31    7209.585443\n",
       "2019-06-30    7280.832571\n",
       "2019-07-31    7352.783783\n",
       "2019-08-31    7425.446036\n",
       "2019-09-30    7498.826359\n",
       "2019-10-31    7572.931846\n",
       "2019-11-30    7647.769664\n",
       "2019-12-31    7723.347050\n",
       "Freq: M, dtype: float64"
      ]
     },
     "execution_count": 24,
     "metadata": {},
     "output_type": "execute_result"
    }
   ],
   "source": [
    "appreciations"
   ]
  },
  {
   "cell_type": "code",
   "execution_count": 25,
   "metadata": {},
   "outputs": [
    {
     "data": {
      "text/plain": [
       "(0, 7759.514402934285)"
      ]
     },
     "execution_count": 25,
     "metadata": {},
     "output_type": "execute_result"
    },
    {
     "data": {
      "image/png": "[encoded data removed]",
      "text/plain": [
       "<Figure size 864x360 with 1 Axes>"
      ]
     },
     "metadata": {
      "needs_background": "light"
     },
     "output_type": "display_data"
    }
   ],
   "source": [
    "plt.figure(figsize=(12, 5))\n",
    "plt.plot(appreciations, '-')\n",
    "plt.ylim(bottom=0)"
   ]
  },
  {
   "cell_type": "code",
   "execution_count": 26,
   "metadata": {},
   "outputs": [
    {
     "data": {
      "text/plain": [
       "2019-03-31    7069.175946\n",
       "2019-06-30    7280.832571\n",
       "2019-09-30    7498.826359\n",
       "2019-12-31    7723.347050\n",
       "Freq: 3M, dtype: float64"
      ]
     },
     "execution_count": 26,
     "metadata": {},
     "output_type": "execute_result"
    }
   ],
   "source": [
    "appreciations.iloc[1::3]"
   ]
  },
  {
   "cell_type": "code",
   "execution_count": 27,
   "metadata": {},
   "outputs": [
    {
     "name": "stdout",
     "output_type": "stream",
     "text": [
      "7000.0 7209.585442624054 7425.446036356669 7647.769664101076\n"
     ]
    }
   ],
   "source": [
    "print(' '.join(map(str, appreciations.iloc[0::3].values.tolist())))"
   ]
  },
  {
   "cell_type": "code",
   "execution_count": 49,
   "metadata": {},
   "outputs": [
    {
     "data": {
      "text/plain": [
       "Date\n",
       "2018-02-16 17:18:02     -500.00\n",
       "2018-02-19 14:04:03    -5000.00\n",
       "2018-08-15 16:03:03    -6100.00\n",
       "2019-03-01 11:56:28     -851.63\n",
       "2019-05-10 10:19:42    -1119.80\n",
       "2019-08-26 10:18:03    -6119.80\n",
       "2019-10-04 10:08:02   -11119.80\n",
       "2019-11-14 14:22:02   -12319.80\n",
       "2019-11-30 14:03:04   -13419.80\n",
       "Name: cash_flow, dtype: float64"
      ]
     },
     "execution_count": 49,
     "metadata": {},
     "output_type": "execute_result"
    }
   ],
   "source": [
    "transactions.cash_flow.cumsum()"
   ]
  },
  {
   "cell_type": "code",
   "execution_count": null,
   "metadata": {},
   "outputs": [],
   "source": []
  }
 ],
 "metadata": {
  "kernelspec": {
   "display_name": "Python 3",
   "language": "python",
   "name": "python3"
  },
  "language_info": {
   "codemirror_mode": {
    "name": "ipython",
    "version": 3
   },
   "file_extension": ".py",
   "mimetype": "text/x-python",
   "name": "python",
   "nbconvert_exporter": "python",
   "pygments_lexer": "ipython3",
   "version": "3.7.3"
  }
 },
 "nbformat": 4,
 "nbformat_minor": 4
}
