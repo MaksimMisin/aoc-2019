{
 "cells": [
  {
   "cell_type": "code",
   "execution_count": 1,
   "metadata": {},
   "outputs": [],
   "source": [
    "import pandas as pd\n",
    "\n",
    "import matplotlib.pyplot as plt\n",
    "from pandas.plotting import register_matplotlib_converters\n",
    "register_matplotlib_converters()\n",
    "\n",
    "import numpy as np\n",
    "\n",
    "pd.options.display.max_columns = 999"
   ]
  },
  {
   "cell_type": "code",
   "execution_count": 2,
   "metadata": {},
   "outputs": [],
   "source": [
    "import datetime\n",
    "from scipy import optimize \n",
    "\n",
    "def xnpv(rate,cashflows):\n",
    "    chron_order = sorted(cashflows, key = lambda x: x[0])\n",
    "    t0 = chron_order[0][0] #t0 is the date of the first cash flow\n",
    "\n",
    "    return sum([cf/(1+rate)**((t-t0).days/365.0) for (t,cf) in chron_order])\n",
    "\n",
    "def xirr(cashflows,guess=0.1):\n",
    "    \"\"\"\n",
    "    Calculate the Internal Rate of Return of a series of cashflows at irregular intervals.\n",
    "    Arguments\n",
    "    ---------\n",
    "    * cashflows: a list object in which each element is a tuple of the form (date, amount), where date is a python datetime.date object and amount is an integer or floating point number. Cash outflows (investments) are represented with negative amounts, and cash inflows (returns) are positive amounts.\n",
    "    * guess (optional, default = 0.1): a guess at the solution to be used as a starting point for the numerical solution. \n",
    "    Returns\n",
    "    --------\n",
    "    * Returns the IRR as a single value\n",
    "    \n",
    "    Notes\n",
    "    ----------------\n",
    "    * The Internal Rate of Return (IRR) is the discount rate at which the Net Present Value (NPV) of a series of cash flows is equal to zero. The NPV of the series of cash flows is determined using the xnpv function in this module. The discount rate at which NPV equals zero is found using the secant method of numerical solution. \n",
    "    * This function is equivalent to the Microsoft Excel function of the same name.\n",
    "    * For users that do not have the scipy module installed, there is an alternate version (commented out) that uses the secant_method function defined in the module rather than the scipy.optimize module's numerical solver. Both use the same method of calculation so there should be no difference in performance, but the secant_method function does not fail gracefully in cases where there is no solution, so the scipy.optimize.newton version is preferred.\n",
    "    \"\"\"\n",
    "    \n",
    "    #return secant_method(0.0001,lambda r: xnpv(r,cashflows),guess)\n",
    "    return optimize.newton(lambda r: xnpv(r,cashflows),guess)\n"
   ]
  },
  {
   "cell_type": "markdown",
   "metadata": {},
   "source": [
    "Getting analysis:\n",
    "\n",
    "Account statement - download"
   ]
  },
  {
   "cell_type": "code",
   "execution_count": 5,
   "metadata": {},
   "outputs": [
    {
     "data": {
      "text/html": [
       "<div>\n",
       "<style scoped>\n",
       "    .dataframe tbody tr th:only-of-type {\n",
       "        vertical-align: middle;\n",
       "    }\n",
       "\n",
       "    .dataframe tbody tr th {\n",
       "        vertical-align: top;\n",
       "    }\n",
       "\n",
       "    .dataframe thead th {\n",
       "        text-align: right;\n",
       "    }\n",
       "</style>\n",
       "<table border=\"1\" class=\"dataframe\">\n",
       "  <thead>\n",
       "    <tr style=\"text-align: right;\">\n",
       "      <th></th>\n",
       "      <th>date</th>\n",
       "      <th>cash_flow</th>\n",
       "    </tr>\n",
       "  </thead>\n",
       "  <tbody>\n",
       "    <tr>\n",
       "      <th>0</th>\n",
       "      <td>2018-02-16</td>\n",
       "      <td>-500.00</td>\n",
       "    </tr>\n",
       "    <tr>\n",
       "      <th>1</th>\n",
       "      <td>2018-07-05</td>\n",
       "      <td>211.03</td>\n",
       "    </tr>\n",
       "    <tr>\n",
       "      <th>2</th>\n",
       "      <td>2019-02-26</td>\n",
       "      <td>300.89</td>\n",
       "    </tr>\n",
       "  </tbody>\n",
       "</table>\n",
       "</div>"
      ],
      "text/plain": [
       "        date  cash_flow\n",
       "0 2018-02-16    -500.00\n",
       "1 2018-07-05     211.03\n",
       "2 2019-02-26     300.89"
      ]
     },
     "execution_count": 5,
     "metadata": {},
     "output_type": "execute_result"
    }
   ],
   "source": [
    "df = pd.DataFrame([\n",
    "    [pd.to_datetime('2018-02-16'), -500],\n",
    "    [pd.to_datetime('2018-07-05'), 211.03],\n",
    "    [pd.to_datetime('2019-02-26'), 300.89]\n",
    "], columns=['date', 'cash_flow'])\n",
    "\n",
    "df"
   ]
  },
  {
   "cell_type": "code",
   "execution_count": 9,
   "metadata": {},
   "outputs": [
    {
     "data": {
      "text/plain": [
       "11.919999999999959"
      ]
     },
     "execution_count": 9,
     "metadata": {},
     "output_type": "execute_result"
    }
   ],
   "source": [
    "cash_flow = df.set_index('date').cash_flow\n",
    "\n",
    "cash_flow.sum()"
   ]
  },
  {
   "cell_type": "code",
   "execution_count": 10,
   "metadata": {},
   "outputs": [],
   "source": [
    "cash_flow_py = [(k.to_pydatetime(),v) for k,v in cash_flow.to_dict().items()]"
   ]
  },
  {
   "cell_type": "code",
   "execution_count": 11,
   "metadata": {},
   "outputs": [
    {
     "data": {
      "text/plain": [
       "0.031515992101513325"
      ]
     },
     "execution_count": 11,
     "metadata": {},
     "output_type": "execute_result"
    }
   ],
   "source": [
    "r = xirr(cash_flow_py)\n",
    "r"
   ]
  },
  {
   "cell_type": "code",
   "execution_count": 16,
   "metadata": {},
   "outputs": [],
   "source": [
    "reindexed_flow = (-cash_flow).copy()\n",
    "reindexed_flow = reindexed_flow.append(pd.Series([0], index=[pd.to_datetime('2019-12-01')]))\n",
    "\n",
    "reindexed_flow = reindexed_flow.groupby(pd.Grouper(freq='M')).sum()\n",
    "\n",
    "prev_sum = 0\n",
    "appreciations = []\n",
    "for date, deposit in reindexed_flow.items():\n",
    "    new_sum = prev_sum * (1+r)**(1/12) + deposit\n",
    "    appreciations.append(new_sum)\n",
    "    prev_sum = new_sum\n",
    "appreciations = pd.Series(appreciations, index=reindexed_flow.index)"
   ]
  },
  {
   "cell_type": "code",
   "execution_count": 17,
   "metadata": {},
   "outputs": [
    {
     "data": {
      "text/plain": [
       "2018-02-28    500.000000\n",
       "2018-03-31    501.294571\n",
       "2018-04-30    502.592494\n",
       "2018-05-31    503.893778\n",
       "2018-06-30    505.198431\n",
       "2018-07-31    295.476461\n",
       "2018-08-31    296.241492\n",
       "2018-09-30    297.008503\n",
       "2018-10-31    297.777501\n",
       "2018-11-30    298.548489\n",
       "2018-12-31    299.321474\n",
       "2019-01-31    300.096460\n",
       "2019-02-28     -0.016548\n",
       "2019-03-31     -0.016591\n",
       "2019-04-30     -0.016634\n",
       "2019-05-31     -0.016677\n",
       "2019-06-30     -0.016720\n",
       "2019-07-31     -0.016763\n",
       "2019-08-31     -0.016807\n",
       "2019-09-30     -0.016850\n",
       "2019-10-31     -0.016894\n",
       "2019-11-30     -0.016937\n",
       "2019-12-31     -0.016981\n",
       "Freq: M, dtype: float64"
      ]
     },
     "execution_count": 17,
     "metadata": {},
     "output_type": "execute_result"
    }
   ],
   "source": [
    "appreciations"
   ]
  },
  {
   "cell_type": "code",
   "execution_count": 18,
   "metadata": {},
   "outputs": [
    {
     "data": {
      "text/plain": [
       "(0, 530.4592012762821)"
      ]
     },
     "execution_count": 18,
     "metadata": {},
     "output_type": "execute_result"
    },
    {
     "data": {
      "image/png": "[encoded data removed]",
      "text/plain": [
       "<Figure size 864x360 with 1 Axes>"
      ]
     },
     "metadata": {
      "needs_background": "light"
     },
     "output_type": "display_data"
    }
   ],
   "source": [
    "plt.figure(figsize=(12, 5))\n",
    "plt.plot(appreciations, '-')\n",
    "plt.ylim(bottom=0)"
   ]
  },
  {
   "cell_type": "code",
   "execution_count": 20,
   "metadata": {},
   "outputs": [
    {
     "data": {
      "text/plain": [
       "2018-03-31    501.294571\n",
       "2018-06-30    505.198431\n",
       "2018-09-30    297.008503\n",
       "2018-12-31    299.321474\n",
       "2019-03-31     -0.016591\n",
       "2019-06-30     -0.016720\n",
       "2019-09-30     -0.016850\n",
       "2019-12-31     -0.016981\n",
       "Freq: 3M, dtype: float64"
      ]
     },
     "execution_count": 20,
     "metadata": {},
     "output_type": "execute_result"
    }
   ],
   "source": [
    "appreciations.iloc[1::3]"
   ]
  },
  {
   "cell_type": "code",
   "execution_count": 21,
   "metadata": {},
   "outputs": [
    {
     "name": "stdout",
     "output_type": "stream",
     "text": [
      "500.0 503.89377789197886 296.2414920581857 298.5484892031117 -0.01654778300274984 -0.016676649785984578 -0.01680652012648246 -0.016937401839501647\n"
     ]
    }
   ],
   "source": [
    "print(' '.join(map(str, appreciations.iloc[0::3].values.tolist())))"
   ]
  },
  {
   "cell_type": "code",
   "execution_count": 23,
   "metadata": {},
   "outputs": [
    {
     "data": {
      "text/plain": [
       "0   -500.00\n",
       "1   -288.97\n",
       "2     11.92\n",
       "Name: cash_flow, dtype: float64"
      ]
     },
     "execution_count": 23,
     "metadata": {},
     "output_type": "execute_result"
    }
   ],
   "source": [
    "df.cash_flow.cumsum()"
   ]
  },
  {
   "cell_type": "code",
   "execution_count": null,
   "metadata": {},
   "outputs": [],
   "source": []
  }
 ],
 "metadata": {
  "kernelspec": {
   "display_name": "Python 3",
   "language": "python",
   "name": "python3"
  },
  "language_info": {
   "codemirror_mode": {
    "name": "ipython",
    "version": 3
   },
   "file_extension": ".py",
   "mimetype": "text/x-python",
   "name": "python",
   "nbconvert_exporter": "python",
   "pygments_lexer": "ipython3",
   "version": "3.7.3"
  }
 },
 "nbformat": 4,
 "nbformat_minor": 4
}
