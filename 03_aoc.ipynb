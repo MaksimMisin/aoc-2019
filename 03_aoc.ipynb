{
 "cells": [
  {
   "cell_type": "code",
   "execution_count": 1,
   "metadata": {},
   "outputs": [],
   "source": [
    "from aocd import get_data"
   ]
  },
  {
   "cell_type": "code",
   "execution_count": 2,
   "metadata": {},
   "outputs": [],
   "source": [
    "import numpy as np"
   ]
  },
  {
   "cell_type": "code",
   "execution_count": 30,
   "metadata": {},
   "outputs": [],
   "source": [
    "data = get_data(day=3)"
   ]
  },
  {
   "cell_type": "code",
   "execution_count": 3,
   "metadata": {},
   "outputs": [],
   "source": [
    "data = \"\"\"R98,U47,R26,D63,R33,U87,L62,D20,R33,U53,R51\n",
    "U98,R91,D20,R16,D67,R40,U7,R15,U6,R7\"\"\""
   ]
  },
  {
   "cell_type": "code",
   "execution_count": 14,
   "metadata": {},
   "outputs": [],
   "source": [
    "w1,w2 = list(map(lambda x: x.split(','), data.split('\\n')))"
   ]
  },
  {
   "cell_type": "code",
   "execution_count": 18,
   "metadata": {},
   "outputs": [],
   "source": [
    "def traverse_wire(wire):\n",
    "    xpos,ypos=0,0\n",
    "    coords = set()\n",
    "    for instr in wire:\n",
    "        #print(instr)\n",
    "        direction = instr[0]\n",
    "        steps = int(instr[1:])\n",
    "        if direction=='R':\n",
    "            [\n",
    "                coords.add((xpos+i,ypos)) for i in range(1,steps+1)\n",
    "            ]\n",
    "            xpos += steps\n",
    "        elif direction=='L':\n",
    "            [\n",
    "                coords.add((xpos-i,ypos)) for i in range(1,steps+1)\n",
    "            ]\n",
    "            xpos -= steps\n",
    "        elif direction=='U':\n",
    "            [\n",
    "                coords.add((xpos,ypos+i)) for i in range(1,steps+1)\n",
    "            ]\n",
    "            ypos += steps\n",
    "        elif direction=='D':\n",
    "            [\n",
    "                coords.add((xpos,ypos-i)) for i in range(1,steps+1)\n",
    "            ]\n",
    "            ypos -= steps\n",
    "        else:\n",
    "            raise ValueError\n",
    "        #print(xpos,ypos)\n",
    "        #cp = board[499:509,499:509].copy()\n",
    "        #cp[xpos-499,ypos-499]=3\n",
    "        #print(cp)\n",
    "    return coords\n",
    "c1=traverse_wire(w1)\n",
    "c2=traverse_wire(w2)"
   ]
  },
  {
   "cell_type": "code",
   "execution_count": 19,
   "metadata": {},
   "outputs": [],
   "source": [
    "crosses = [i for i in c1 if i in c2]"
   ]
  },
  {
   "cell_type": "code",
   "execution_count": 20,
   "metadata": {},
   "outputs": [
    {
     "data": {
      "text/plain": [
       "258"
      ]
     },
     "execution_count": 20,
     "metadata": {},
     "output_type": "execute_result"
    }
   ],
   "source": [
    "min(np.array(crosses).sum(axis=1))"
   ]
  },
  {
   "cell_type": "markdown",
   "metadata": {},
   "source": [
    "# p2"
   ]
  },
  {
   "cell_type": "code",
   "execution_count": 27,
   "metadata": {},
   "outputs": [],
   "source": [
    "data = \"\"\"R98,U47,R26,D63,R33,U87,L62,D20,R33,U53,R51\n",
    "U98,R91,D20,R16,D67,R40,U7,R15,U6,R7\"\"\""
   ]
  },
  {
   "cell_type": "code",
   "execution_count": 31,
   "metadata": {},
   "outputs": [],
   "source": [
    "w1,w2 = list(map(lambda x: x.split(','), data.split('\\n')))"
   ]
  },
  {
   "cell_type": "code",
   "execution_count": 32,
   "metadata": {},
   "outputs": [
    {
     "name": "stdout",
     "output_type": "stream",
     "text": [
      "12304\n"
     ]
    }
   ],
   "source": [
    "def traverse_wire(wire):\n",
    "    xpos,ypos=0,0\n",
    "    coords = {}\n",
    "    tot = 1\n",
    "    for instr in wire:\n",
    "        #print(instr)\n",
    "        direction = instr[0]\n",
    "        steps = int(instr[1:])\n",
    "        if direction=='R':\n",
    "            for i in range(1,steps+1):\n",
    "                c = (xpos+i,ypos)\n",
    "                coords[c] = min(tot, coords.get(c, 10**8))\n",
    "                tot+=1\n",
    "            \n",
    "            xpos += steps\n",
    "        elif direction=='L':\n",
    "            for i in range(1,steps+1):\n",
    "                c = (xpos-i,ypos)\n",
    "                coords[c] = min(tot, coords.get(c, 10**8))\n",
    "                tot+=1\n",
    "            \n",
    "            xpos -= steps\n",
    "        elif direction=='U':\n",
    "            for i in range(1,steps+1):\n",
    "                c = (xpos,ypos+i)\n",
    "                coords[c] = min(tot, coords.get(c, 10**8))\n",
    "                tot+=1\n",
    "            \n",
    "            ypos += steps\n",
    "        elif direction=='D':\n",
    "            for i in range(1,steps+1):\n",
    "                c = (xpos,ypos-i)\n",
    "                coords[c] = min(tot, coords.get(c, 10**8))\n",
    "                tot+=1\n",
    "            \n",
    "            ypos -= steps\n",
    "        else:\n",
    "            raise ValueError\n",
    "        #print(xpos,ypos)\n",
    "        #cp = board[499:509,499:509].copy()\n",
    "        #cp[xpos-499,ypos-499]=3\n",
    "        #print(cp)\n",
    "    return coords\n",
    "c1=traverse_wire(w1)\n",
    "\n",
    "xpos,ypos=0,0\n",
    "coords = {}\n",
    "tot = 1\n",
    "closest = 10**9\n",
    "for instr in w2:\n",
    "    #print(instr)\n",
    "    direction = instr[0]\n",
    "    steps = int(instr[1:])\n",
    "    if direction=='R':\n",
    "        for i in range(1,steps+1):\n",
    "            new_c = (xpos+i,ypos)\n",
    "            if new_c in c1:\n",
    "                closest = min(tot+c1[new_c], closest)\n",
    "            tot+=1\n",
    "\n",
    "        xpos += steps\n",
    "    elif direction=='L':\n",
    "        for i in range(1,steps+1):\n",
    "            new_c = (xpos-i,ypos)\n",
    "            if new_c in c1:\n",
    "                closest = min(tot+c1[new_c], closest)\n",
    "            tot+=1\n",
    "\n",
    "        xpos -= steps\n",
    "    elif direction=='U':\n",
    "        for i in range(1,steps+1):\n",
    "            new_c = (xpos,ypos+i)\n",
    "            if new_c in c1:\n",
    "                closest = min(tot+c1[new_c], closest)\n",
    "            tot+=1\n",
    "\n",
    "        ypos += steps\n",
    "    elif direction=='D':\n",
    "        for i in range(1,steps+1):\n",
    "            new_c = (xpos,ypos-i)\n",
    "            if new_c in c1:\n",
    "                closest = min(tot+c1[new_c], closest)\n",
    "            tot+=1\n",
    "\n",
    "        ypos -= steps\n",
    "print(closest)\n"
   ]
  },
  {
   "cell_type": "code",
   "execution_count": 19,
   "metadata": {},
   "outputs": [],
   "source": [
    "crosses = [i for i in c1 if i in c2]"
   ]
  },
  {
   "cell_type": "code",
   "execution_count": 20,
   "metadata": {},
   "outputs": [
    {
     "data": {
      "text/plain": [
       "258"
      ]
     },
     "execution_count": 20,
     "metadata": {},
     "output_type": "execute_result"
    }
   ],
   "source": [
    "min(np.array(crosses).sum(axis=1))"
   ]
  },
  {
   "cell_type": "code",
   "execution_count": null,
   "metadata": {},
   "outputs": [],
   "source": []
  },
  {
   "cell_type": "code",
   "execution_count": null,
   "metadata": {},
   "outputs": [],
   "source": []
  }
 ],
 "metadata": {
  "kernelspec": {
   "display_name": "Python 3",
   "language": "python",
   "name": "python3"
  },
  "language_info": {
   "codemirror_mode": {
    "name": "ipython",
    "version": 3
   },
   "file_extension": ".py",
   "mimetype": "text/x-python",
   "name": "python",
   "nbconvert_exporter": "python",
   "pygments_lexer": "ipython3",
   "version": "3.7.3"
  }
 },
 "nbformat": 4,
 "nbformat_minor": 4
}
