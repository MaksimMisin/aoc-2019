{
 "cells": [
  {
   "cell_type": "code",
   "execution_count": 18,
   "metadata": {},
   "outputs": [],
   "source": [
    "from aocd import get_data"
   ]
  },
  {
   "cell_type": "code",
   "execution_count": 22,
   "metadata": {},
   "outputs": [],
   "source": [
    "import math"
   ]
  },
  {
   "cell_type": "code",
   "execution_count": 53,
   "metadata": {},
   "outputs": [],
   "source": [
    "data = \"\"\"171 ORE => 8 CNZTR\n",
    "7 ZLQW, 3 BMBT, 9 XCVML, 26 XMNCP, 1 WPTQ, 2 MZWV, 1 RJRHP => 4 PLWSL\n",
    "114 ORE => 4 BHXH\n",
    "14 VRPVC => 6 BMBT\n",
    "6 BHXH, 18 KTJDG, 12 WPTQ, 7 PLWSL, 31 FHTLT, 37 ZDVW => 1 FUEL\n",
    "6 WPTQ, 2 BMBT, 8 ZLQW, 18 KTJDG, 1 XMNCP, 6 MZWV, 1 RJRHP => 6 FHTLT\n",
    "15 XDBXC, 2 LTCX, 1 VRPVC => 6 ZLQW\n",
    "13 WPTQ, 10 LTCX, 3 RJRHP, 14 XMNCP, 2 MZWV, 1 ZLQW => 1 ZDVW\n",
    "5 BMBT => 4 WPTQ\n",
    "189 ORE => 9 KTJDG\n",
    "1 MZWV, 17 XDBXC, 3 XCVML => 2 XMNCP\n",
    "12 VRPVC, 27 CNZTR => 2 XDBXC\n",
    "15 KTJDG, 12 BHXH => 5 XCVML\n",
    "3 BHXH, 2 VRPVC => 7 MZWV\n",
    "121 ORE => 7 VRPVC\n",
    "7 XCVML => 6 RJRHP\n",
    "5 BHXH, 4 VRPVC => 5 LTCX\"\"\""
   ]
  },
  {
   "cell_type": "code",
   "execution_count": 59,
   "metadata": {},
   "outputs": [],
   "source": [
    "data = get_data()"
   ]
  },
  {
   "cell_type": "code",
   "execution_count": 60,
   "metadata": {},
   "outputs": [],
   "source": [
    "def parse_reactions(data):\n",
    "    reactions = {}\n",
    "    for l in data.splitlines():\n",
    "        lhs, rhs = l.split('=>')\n",
    "        lhs = [reac.split() for reac in lhs.split(', ')]\n",
    "        q, product = rhs.split()\n",
    "        reactions[product] = (int(q), [[int(q), r] for q,r in lhs])\n",
    "    return reactions"
   ]
  },
  {
   "cell_type": "code",
   "execution_count": 61,
   "metadata": {},
   "outputs": [],
   "source": [
    "reactions = parse_reactions(data)"
   ]
  },
  {
   "cell_type": "code",
   "execution_count": 62,
   "metadata": {},
   "outputs": [],
   "source": [
    "from collections import defaultdict"
   ]
  },
  {
   "cell_type": "code",
   "execution_count": 67,
   "metadata": {},
   "outputs": [
    {
     "data": {
      "text/plain": [
       "1990085"
      ]
     },
     "execution_count": 67,
     "metadata": {},
     "output_type": "execute_result"
    }
   ],
   "source": [
    "1000000000000//502491"
   ]
  },
  {
   "cell_type": "code",
   "execution_count": 110,
   "metadata": {},
   "outputs": [
    {
     "ename": "KeyError",
     "evalue": "'popitem(): dictionary is empty'",
     "output_type": "error",
     "traceback": [
      "\u001b[0;31m---------------------------------------------------------------------------\u001b[0m",
      "\u001b[0;31mKeyError\u001b[0m                                  Traceback (most recent call last)",
      "\u001b[0;32m<ipython-input-110-aa51cc4abb3f>\u001b[0m in \u001b[0;36m<module>\u001b[0;34m\u001b[0m\n\u001b[1;32m      8\u001b[0m \u001b[0;34m\u001b[0m\u001b[0m\n\u001b[1;32m      9\u001b[0m \u001b[0;32mwhile\u001b[0m \u001b[0mresources\u001b[0m\u001b[0;34m[\u001b[0m\u001b[0;34m'ORE'\u001b[0m\u001b[0;34m]\u001b[0m\u001b[0;34m:\u001b[0m\u001b[0;34m\u001b[0m\u001b[0;34m\u001b[0m\u001b[0m\n\u001b[0;32m---> 10\u001b[0;31m     \u001b[0mproduct\u001b[0m\u001b[0;34m,\u001b[0m \u001b[0mreq_q\u001b[0m \u001b[0;34m=\u001b[0m \u001b[0mdep_tree\u001b[0m\u001b[0;34m.\u001b[0m\u001b[0mpopitem\u001b[0m\u001b[0;34m(\u001b[0m\u001b[0;34m)\u001b[0m\u001b[0;34m\u001b[0m\u001b[0;34m\u001b[0m\u001b[0m\n\u001b[0m\u001b[1;32m     11\u001b[0m     \u001b[0;32mif\u001b[0m \u001b[0mproduct\u001b[0m \u001b[0;32min\u001b[0m \u001b[0mresources\u001b[0m\u001b[0;34m:\u001b[0m\u001b[0;34m\u001b[0m\u001b[0;34m\u001b[0m\u001b[0m\n\u001b[1;32m     12\u001b[0m         \u001b[0mavail_q\u001b[0m \u001b[0;34m=\u001b[0m \u001b[0mresources\u001b[0m\u001b[0;34m[\u001b[0m\u001b[0mproduct\u001b[0m\u001b[0;34m]\u001b[0m\u001b[0;34m\u001b[0m\u001b[0;34m\u001b[0m\u001b[0m\n",
      "\u001b[0;31mKeyError\u001b[0m: 'popitem(): dictionary is empty'"
     ]
    }
   ],
   "source": [
    "orig_ore = 1000000000000\n",
    "\n",
    "dep_tree = defaultdict(int)\n",
    "resources = defaultdict(int)\n",
    "\n",
    "dep_tree['FUEL'] = 2944565\n",
    "resources['ORE'] = orig_ore\n",
    "\n",
    "while resources['ORE']:\n",
    "    product, req_q = dep_tree.popitem()\n",
    "    if product in resources:\n",
    "        avail_q = resources[product]\n",
    "        if avail_q >= req_q:\n",
    "            resources[product] -= req_q\n",
    "            if resources[product] == 0:\n",
    "                del resources[product]\n",
    "            continue\n",
    "        else:\n",
    "            req_q -= avail_q\n",
    "            del resources[product]\n",
    "    prod_q, reactants = reactions[product]\n",
    "    coef = math.ceil(req_q / prod_q)\n",
    "    for q, reac in reactants:\n",
    "        dep_tree[reac] += q*coef\n",
    "    if prod_q*coef > req_q:\n",
    "        resources[product] += prod_q*coef - req_q\n",
    "        \n",
    "print('req ore:',orig_ore - resources['ORE'])"
   ]
  },
  {
   "cell_type": "code",
   "execution_count": 111,
   "metadata": {},
   "outputs": [
    {
     "data": {
      "text/plain": [
       "defaultdict(int,\n",
       "            {'ORE': 201288,\n",
       "             'SPFZ': 1,\n",
       "             'FBTW': 1,\n",
       "             'WLKC': 3,\n",
       "             'FCMVJ': 5,\n",
       "             'QXQZ': 3,\n",
       "             'BVMK': 3,\n",
       "             'CWPVT': 2,\n",
       "             'CBTK': 1,\n",
       "             'BCMKN': 7,\n",
       "             'ZKVPL': 5,\n",
       "             'WGKHJ': 5,\n",
       "             'DKVN': 3,\n",
       "             'DCKF': 1,\n",
       "             'MDTZL': 4,\n",
       "             'DQRCZ': 2,\n",
       "             'LVPK': 3,\n",
       "             'QNRH': 1,\n",
       "             'BJHW': 6,\n",
       "             'BPLFB': 1,\n",
       "             'GCFP': 3,\n",
       "             'QMDTJ': 3,\n",
       "             'TPZBM': 2,\n",
       "             'DKDST': 1,\n",
       "             'XQZFV': 5,\n",
       "             'BLDJP': 3,\n",
       "             'LJNJ': 2,\n",
       "             'LZPCS': 1,\n",
       "             'LTSB': 2,\n",
       "             'RKCXJ': 3,\n",
       "             'CQPR': 4,\n",
       "             'LJRB': 4,\n",
       "             'HQPG': 4,\n",
       "             'TGPV': 1,\n",
       "             'JWPLZ': 3,\n",
       "             'MKMQ': 5,\n",
       "             'LTZTR': 6,\n",
       "             'RNXF': 8})"
      ]
     },
     "execution_count": 111,
     "metadata": {},
     "output_type": "execute_result"
    }
   ],
   "source": [
    "resources"
   ]
  },
  {
   "cell_type": "code",
   "execution_count": null,
   "metadata": {},
   "outputs": [],
   "source": []
  }
 ],
 "metadata": {
  "kernelspec": {
   "display_name": "Python 3",
   "language": "python",
   "name": "python3"
  },
  "language_info": {
   "codemirror_mode": {
    "name": "ipython",
    "version": 3
   },
   "file_extension": ".py",
   "mimetype": "text/x-python",
   "name": "python",
   "nbconvert_exporter": "python",
   "pygments_lexer": "ipython3",
   "version": "3.7.3"
  }
 },
 "nbformat": 4,
 "nbformat_minor": 4
}
