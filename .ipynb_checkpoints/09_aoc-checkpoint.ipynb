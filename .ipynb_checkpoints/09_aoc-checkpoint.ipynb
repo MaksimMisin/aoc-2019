{
 "cells": [
  {
   "cell_type": "code",
   "execution_count": 1,
   "metadata": {},
   "outputs": [],
   "source": [
    "from aocd import get_data"
   ]
  },
  {
   "cell_type": "code",
   "execution_count": 2,
   "metadata": {},
   "outputs": [],
   "source": [
    "data = get_data(day=9)"
   ]
  },
  {
   "cell_type": "code",
   "execution_count": 3,
   "metadata": {},
   "outputs": [],
   "source": [
    "#data = '''3,8,1001,8,10,8,105,1,0,0,21,34,51,76,101,114,195,276,357,438,99999,3,9,1001,9,3,9,1002,9,3,9,4,9,99,3,9,101,4,9,9,102,4,9,9,1001,9,5,9,4,9,99,3,9,1002,9,4,9,101,3,9,9,102,5,9,9,1001,9,2,9,1002,9,2,9,4,9,99,3,9,1001,9,3,9,102,2,9,9,101,4,9,9,102,3,9,9,101,2,9,9,4,9,99,3,9,102,2,9,9,101,4,9,9,4,9,99,3,9,102,2,9,9,4,9,3,9,102,2,9,9,4,9,3,9,1001,9,1,9,4,9,3,9,1001,9,2,9,4,9,3,9,101,2,9,9,4,9,3,9,1002,9,2,9,4,9,3,9,1002,9,2,9,4,9,3,9,1001,9,2,9,4,9,3,9,1002,9,2,9,4,9,3,9,101,2,9,9,4,9,99,3,9,101,2,9,9,4,9,3,9,1002,9,2,9,4,9,3,9,1001,9,1,9,4,9,3,9,1001,9,1,9,4,9,3,9,1002,9,2,9,4,9,3,9,102,2,9,9,4,9,3,9,101,1,9,9,4,9,3,9,1002,9,2,9,4,9,3,9,1001,9,2,9,4,9,3,9,1001,9,2,9,4,9,99,3,9,1001,9,2,9,4,9,3,9,102,2,9,9,4,9,3,9,101,2,9,9,4,9,3,9,102,2,9,9,4,9,3,9,1001,9,1,9,4,9,3,9,102,2,9,9,4,9,3,9,1001,9,1,9,4,9,3,9,102,2,9,9,4,9,3,9,1002,9,2,9,4,9,3,9,101,2,9,9,4,9,99,3,9,102,2,9,9,4,9,3,9,102,2,9,9,4,9,3,9,1002,9,2,9,4,9,3,9,1001,9,1,9,4,9,3,9,1002,9,2,9,4,9,3,9,102,2,9,9,4,9,3,9,1001,9,2,9,4,9,3,9,101,1,9,9,4,9,3,9,102,2,9,9,4,9,3,9,102,2,9,9,4,9,99,3,9,1002,9,2,9,4,9,3,9,101,2,9,9,4,9,3,9,101,1,9,9,4,9,3,9,101,2,9,9,4,9,3,9,101,1,9,9,4,9,3,9,1001,9,2,9,4,9,3,9,1002,9,2,9,4,9,3,9,1001,9,1,9,4,9,3,9,1001,9,2,9,4,9,3,9,1002,9,2,9,4,9,99'''\n",
    "state = list(map(int, data.split(',')))"
   ]
  },
  {
   "cell_type": "code",
   "execution_count": 4,
   "metadata": {},
   "outputs": [],
   "source": [
    "from operator import add, mul\n",
    "from queue import SimpleQueue\n",
    "\n",
    "PC_STEP = {1: 4, 2: 4, 3: 2, 4: 2, 5: 3, 6: 3, 7: 4, 8: 4, 9:2}\n",
    "\n",
    "class HaltException(Exception):\n",
    "    pass\n",
    "\n",
    "class Computer:\n",
    "    def __init__(self, state):\n",
    "        self.state = {i:v for i,v in enumerate(state)}\n",
    "        self.pc = 0\n",
    "        self.rel_base = 0\n",
    "        self.inputs = SimpleQueue()\n",
    "        \n",
    "    def set_output(self, pc, mode, value):\n",
    "        if value is None:\n",
    "            raise ValueError\n",
    "        pointer = self.state.setdefault(pc, 0)\n",
    "        if mode==2:\n",
    "            self.state[pointer + self.rel_base] = value\n",
    "        else:\n",
    "            self.state[pointer] = value\n",
    "            \n",
    "    def eval(self):\n",
    "        \"\"\"\n",
    "        Evaluates program state until output is generated.\n",
    "        Blocks if input is exhausted.\n",
    "        \"\"\"\n",
    "        while True:\n",
    "            instr = str(self.state.setdefault(self.pc,0))\n",
    "            opcode = int(instr[-2:])\n",
    "            if opcode == 99:\n",
    "                raise HaltException\n",
    "\n",
    "            # parameter modes\n",
    "            modes = []\n",
    "            for i in range(3, PC_STEP[opcode] + 2):\n",
    "                if len(instr) >= i:\n",
    "                    modes.append(int(instr[-i]))\n",
    "                else:\n",
    "                    modes.append(0)\n",
    "\n",
    "            # deference params, if applicable\n",
    "            params = []\n",
    "            for i in range(1, PC_STEP[opcode]):\n",
    "                loc = self.state.setdefault(self.pc+i, 0)\n",
    "                if modes[i - 1] == 0:  # position\n",
    "                    params.append(self.state.setdefault(loc, 0))\n",
    "                elif modes[i - 1] == 1:  # immediate\n",
    "                    params.append(loc)\n",
    "                else:\n",
    "                    params.append(self.state.setdefault(loc+self.rel_base, 0))\n",
    "\n",
    "            if opcode == 4:  # output\n",
    "                # nb: special case, returns\n",
    "                self.pc += 2\n",
    "                return params[0]\n",
    "            elif opcode == 1 or opcode == 2:  # add/mul\n",
    "                op = add if opcode == 1 else mul\n",
    "                self.set_output(self.pc + 3, modes[2], op(params[0],params[1]))\n",
    "            elif opcode == 3:  # input\n",
    "                inp = self.inputs.get()\n",
    "                #print(inp)\n",
    "                self.set_output(self.pc + 1, modes[0], inp)\n",
    "            elif opcode == 5:  # jmp 0\n",
    "                if params[0] != 0:\n",
    "                    self.pc = params[1]\n",
    "                    continue\n",
    "            elif opcode == 6:  # jmp not 0\n",
    "                if params[0] == 0:\n",
    "                    self.pc = params[1]\n",
    "                    continue\n",
    "            elif opcode == 7:  # less than\n",
    "                self.set_output(self.pc+3, modes[2], 1 if params[0] < params[1] else 0)\n",
    "            elif opcode == 8:  # equals\n",
    "                self.set_output(self.pc+3, modes[2], 1 if params[0] == params[1] else 0)\n",
    "            elif opcode == 9:\n",
    "                self.rel_base += params[0]\n",
    "            else:\n",
    "                raise ValueError\n",
    "            self.pc += PC_STEP[opcode]\n",
    "            #print(c.state.get(1103, -1))\n",
    "\n",
    "    def put(self, obj):\n",
    "        \"\"\"Add an input to the queue\"\"\"\n",
    "        self.inputs.put(obj)"
   ]
  },
  {
   "cell_type": "code",
   "execution_count": 5,
   "metadata": {},
   "outputs": [],
   "source": [
    "c = Computer(state)"
   ]
  },
  {
   "cell_type": "code",
   "execution_count": 6,
   "metadata": {},
   "outputs": [],
   "source": [
    "c.put(1)"
   ]
  },
  {
   "cell_type": "code",
   "execution_count": 7,
   "metadata": {},
   "outputs": [
    {
     "data": {
      "text/plain": [
       "3063082071"
      ]
     },
     "execution_count": 7,
     "metadata": {},
     "output_type": "execute_result"
    }
   ],
   "source": [
    "c.eval()"
   ]
  },
  {
   "cell_type": "code",
   "execution_count": 8,
   "metadata": {},
   "outputs": [],
   "source": [
    "c = Computer(state)"
   ]
  },
  {
   "cell_type": "code",
   "execution_count": 9,
   "metadata": {},
   "outputs": [],
   "source": [
    "c.put(2)"
   ]
  },
  {
   "cell_type": "code",
   "execution_count": null,
   "metadata": {},
   "outputs": [],
   "source": [
    "c.eval()"
   ]
  },
  {
   "cell_type": "code",
   "execution_count": null,
   "metadata": {},
   "outputs": [],
   "source": []
  },
  {
   "cell_type": "code",
   "execution_count": null,
   "metadata": {},
   "outputs": [],
   "source": []
  },
  {
   "cell_type": "code",
   "execution_count": null,
   "metadata": {},
   "outputs": [],
   "source": []
  }
 ],
 "metadata": {
  "kernelspec": {
   "display_name": "Python 3",
   "language": "python",
   "name": "python3"
  },
  "language_info": {
   "codemirror_mode": {
    "name": "ipython",
    "version": 3
   },
   "file_extension": ".py",
   "mimetype": "text/x-python",
   "name": "python",
   "nbconvert_exporter": "python",
   "pygments_lexer": "ipython3",
   "version": "3.7.3"
  }
 },
 "nbformat": 4,
 "nbformat_minor": 4
}
