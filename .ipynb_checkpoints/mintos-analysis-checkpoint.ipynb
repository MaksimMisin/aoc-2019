{
 "cells": [
  {
   "cell_type": "code",
   "execution_count": 1,
   "metadata": {},
   "outputs": [],
   "source": [
    "import pandas as pd\n",
    "\n",
    "import matplotlib.pyplot as plt\n",
    "from pandas.plotting import register_matplotlib_converters\n",
    "register_matplotlib_converters()\n",
    "\n",
    "import numpy as np\n",
    "\n",
    "pd.options.display.max_columns = 999"
   ]
  },
  {
   "cell_type": "code",
   "execution_count": 2,
   "metadata": {},
   "outputs": [],
   "source": [
    "import datetime\n",
    "from scipy import optimize \n",
    "\n",
    "def xnpv(rate,cashflows):\n",
    "    chron_order = sorted(cashflows, key = lambda x: x[0])\n",
    "    t0 = chron_order[0][0] #t0 is the date of the first cash flow\n",
    "\n",
    "    return sum([cf/(1+rate)**((t-t0).days/365.0) for (t,cf) in chron_order])\n",
    "\n",
    "def xirr(cashflows,guess=0.1):\n",
    "    \"\"\"\n",
    "    Calculate the Internal Rate of Return of a series of cashflows at irregular intervals.\n",
    "    Arguments\n",
    "    ---------\n",
    "    * cashflows: a list object in which each element is a tuple of the form (date, amount), where date is a python datetime.date object and amount is an integer or floating point number. Cash outflows (investments) are represented with negative amounts, and cash inflows (returns) are positive amounts.\n",
    "    * guess (optional, default = 0.1): a guess at the solution to be used as a starting point for the numerical solution. \n",
    "    Returns\n",
    "    --------\n",
    "    * Returns the IRR as a single value\n",
    "    \n",
    "    Notes\n",
    "    ----------------\n",
    "    * The Internal Rate of Return (IRR) is the discount rate at which the Net Present Value (NPV) of a series of cash flows is equal to zero. The NPV of the series of cash flows is determined using the xnpv function in this module. The discount rate at which NPV equals zero is found using the secant method of numerical solution. \n",
    "    * This function is equivalent to the Microsoft Excel function of the same name.\n",
    "    * For users that do not have the scipy module installed, there is an alternate version (commented out) that uses the secant_method function defined in the module rather than the scipy.optimize module's numerical solver. Both use the same method of calculation so there should be no difference in performance, but the secant_method function does not fail gracefully in cases where there is no solution, so the scipy.optimize.newton version is preferred.\n",
    "    \"\"\"\n",
    "    \n",
    "    #return secant_method(0.0001,lambda r: xnpv(r,cashflows),guess)\n",
    "    return optimize.newton(lambda r: xnpv(r,cashflows),guess)\n"
   ]
  },
  {
   "cell_type": "markdown",
   "metadata": {},
   "source": [
    "Getting analysis:\n",
    "\n",
    "Account statement - download"
   ]
  },
  {
   "cell_type": "code",
   "execution_count": 3,
   "metadata": {},
   "outputs": [],
   "source": [
    "df = pd.read_excel('mintos-20191207-account-statement.xlsx')\n",
    "\n",
    "df.Date = pd.to_datetime(df['Date'])"
   ]
  },
  {
   "cell_type": "code",
   "execution_count": 47,
   "metadata": {},
   "outputs": [
    {
     "data": {
      "text/plain": [
       "Loan           17548\n",
       "Investment      1782\n",
       "Deposits           8\n",
       "Refer              3\n",
       "Cumulative         1\n",
       "Withdrawals        1\n",
       "Name: Details, dtype: int64"
      ]
     },
     "execution_count": 47,
     "metadata": {},
     "output_type": "execute_result"
    }
   ],
   "source": [
    "df.Details.apply(lambda x: x.split()[0]).value_counts()"
   ]
  },
  {
   "cell_type": "code",
   "execution_count": 13,
   "metadata": {},
   "outputs": [
    {
     "data": {
      "text/html": [
       "<div>\n",
       "<style scoped>\n",
       "    .dataframe tbody tr th:only-of-type {\n",
       "        vertical-align: middle;\n",
       "    }\n",
       "\n",
       "    .dataframe tbody tr th {\n",
       "        vertical-align: top;\n",
       "    }\n",
       "\n",
       "    .dataframe thead th {\n",
       "        text-align: right;\n",
       "    }\n",
       "</style>\n",
       "<table border=\"1\" class=\"dataframe\">\n",
       "  <thead>\n",
       "    <tr style=\"text-align: right;\">\n",
       "      <th></th>\n",
       "      <th>Transaction ID</th>\n",
       "      <th>Date</th>\n",
       "      <th>Details</th>\n",
       "      <th>Turnover</th>\n",
       "      <th>Balance</th>\n",
       "      <th>Currency</th>\n",
       "    </tr>\n",
       "  </thead>\n",
       "  <tbody>\n",
       "    <tr>\n",
       "      <th>0</th>\n",
       "      <td>254163230.0</td>\n",
       "      <td>2018-02-16 17:18:02</td>\n",
       "      <td>Loan 2417294-01 - investment in loan</td>\n",
       "      <td>-25.0</td>\n",
       "      <td>-25.0</td>\n",
       "      <td>EUR</td>\n",
       "    </tr>\n",
       "    <tr>\n",
       "      <th>1</th>\n",
       "      <td>254163211.0</td>\n",
       "      <td>2018-02-16 17:18:02</td>\n",
       "      <td>Deposits</td>\n",
       "      <td>500.0</td>\n",
       "      <td>475.0</td>\n",
       "      <td>EUR</td>\n",
       "    </tr>\n",
       "    <tr>\n",
       "      <th>2</th>\n",
       "      <td>254163235.0</td>\n",
       "      <td>2018-02-16 17:18:03</td>\n",
       "      <td>Loan 2417289-01 - investment in loan</td>\n",
       "      <td>-25.0</td>\n",
       "      <td>450.0</td>\n",
       "      <td>EUR</td>\n",
       "    </tr>\n",
       "    <tr>\n",
       "      <th>3</th>\n",
       "      <td>254163236.0</td>\n",
       "      <td>2018-02-16 17:18:03</td>\n",
       "      <td>Loan 2417232-01 - investment in loan</td>\n",
       "      <td>-25.0</td>\n",
       "      <td>425.0</td>\n",
       "      <td>EUR</td>\n",
       "    </tr>\n",
       "    <tr>\n",
       "      <th>4</th>\n",
       "      <td>254163237.0</td>\n",
       "      <td>2018-02-16 17:18:04</td>\n",
       "      <td>Loan 2417214-01 - investment in loan</td>\n",
       "      <td>-25.0</td>\n",
       "      <td>400.0</td>\n",
       "      <td>EUR</td>\n",
       "    </tr>\n",
       "  </tbody>\n",
       "</table>\n",
       "</div>"
      ],
      "text/plain": [
       "   Transaction ID                Date                               Details  \\\n",
       "0     254163230.0 2018-02-16 17:18:02  Loan 2417294-01 - investment in loan   \n",
       "1     254163211.0 2018-02-16 17:18:02                              Deposits   \n",
       "2     254163235.0 2018-02-16 17:18:03  Loan 2417289-01 - investment in loan   \n",
       "3     254163236.0 2018-02-16 17:18:03  Loan 2417232-01 - investment in loan   \n",
       "4     254163237.0 2018-02-16 17:18:04  Loan 2417214-01 - investment in loan   \n",
       "\n",
       "   Turnover  Balance Currency  \n",
       "0     -25.0    -25.0      EUR  \n",
       "1     500.0    475.0      EUR  \n",
       "2     -25.0    450.0      EUR  \n",
       "3     -25.0    425.0      EUR  \n",
       "4     -25.0    400.0      EUR  "
      ]
     },
     "execution_count": 13,
     "metadata": {},
     "output_type": "execute_result"
    }
   ],
   "source": [
    "df.head()"
   ]
  },
  {
   "cell_type": "code",
   "execution_count": 14,
   "metadata": {},
   "outputs": [],
   "source": [
    "transactions = df[df.Details.isin(['Deposits','Withdrawals'])].copy()"
   ]
  },
  {
   "cell_type": "code",
   "execution_count": 15,
   "metadata": {},
   "outputs": [
    {
     "data": {
      "text/html": [
       "<div>\n",
       "<style scoped>\n",
       "    .dataframe tbody tr th:only-of-type {\n",
       "        vertical-align: middle;\n",
       "    }\n",
       "\n",
       "    .dataframe tbody tr th {\n",
       "        vertical-align: top;\n",
       "    }\n",
       "\n",
       "    .dataframe thead th {\n",
       "        text-align: right;\n",
       "    }\n",
       "</style>\n",
       "<table border=\"1\" class=\"dataframe\">\n",
       "  <thead>\n",
       "    <tr style=\"text-align: right;\">\n",
       "      <th></th>\n",
       "      <th>Transaction ID</th>\n",
       "      <th>Date</th>\n",
       "      <th>Details</th>\n",
       "      <th>Turnover</th>\n",
       "      <th>Balance</th>\n",
       "      <th>Currency</th>\n",
       "    </tr>\n",
       "  </thead>\n",
       "  <tbody>\n",
       "    <tr>\n",
       "      <th>1</th>\n",
       "      <td>2.541632e+08</td>\n",
       "      <td>2018-02-16 17:18:02</td>\n",
       "      <td>Deposits</td>\n",
       "      <td>500.00</td>\n",
       "      <td>475.000000</td>\n",
       "      <td>EUR</td>\n",
       "    </tr>\n",
       "    <tr>\n",
       "      <th>21</th>\n",
       "      <td>2.556097e+08</td>\n",
       "      <td>2018-02-19 14:04:03</td>\n",
       "      <td>Deposits</td>\n",
       "      <td>4500.00</td>\n",
       "      <td>4500.000000</td>\n",
       "      <td>EUR</td>\n",
       "    </tr>\n",
       "    <tr>\n",
       "      <th>4075</th>\n",
       "      <td>4.054726e+08</td>\n",
       "      <td>2018-08-15 16:03:03</td>\n",
       "      <td>Deposits</td>\n",
       "      <td>1100.00</td>\n",
       "      <td>1106.060169</td>\n",
       "      <td>EUR</td>\n",
       "    </tr>\n",
       "    <tr>\n",
       "      <th>11138</th>\n",
       "      <td>6.454634e+08</td>\n",
       "      <td>2019-03-01 11:56:28</td>\n",
       "      <td>Withdrawals</td>\n",
       "      <td>-5248.37</td>\n",
       "      <td>-0.158715</td>\n",
       "      <td>EUR</td>\n",
       "    </tr>\n",
       "    <tr>\n",
       "      <th>12129</th>\n",
       "      <td>7.614909e+08</td>\n",
       "      <td>2019-05-10 10:19:42</td>\n",
       "      <td>Deposits</td>\n",
       "      <td>268.17</td>\n",
       "      <td>268.003212</td>\n",
       "      <td>EUR</td>\n",
       "    </tr>\n",
       "    <tr>\n",
       "      <th>13677</th>\n",
       "      <td>1.005577e+09</td>\n",
       "      <td>2019-08-26 10:18:03</td>\n",
       "      <td>Deposits</td>\n",
       "      <td>5000.00</td>\n",
       "      <td>5000.259506</td>\n",
       "      <td>EUR</td>\n",
       "    </tr>\n",
       "    <tr>\n",
       "      <th>15278</th>\n",
       "      <td>1.112102e+09</td>\n",
       "      <td>2019-10-04 10:08:02</td>\n",
       "      <td>Deposits</td>\n",
       "      <td>5000.00</td>\n",
       "      <td>4999.833227</td>\n",
       "      <td>EUR</td>\n",
       "    </tr>\n",
       "    <tr>\n",
       "      <th>17444</th>\n",
       "      <td>1.227102e+09</td>\n",
       "      <td>2019-11-14 14:22:02</td>\n",
       "      <td>Deposits</td>\n",
       "      <td>1200.00</td>\n",
       "      <td>1199.826367</td>\n",
       "      <td>EUR</td>\n",
       "    </tr>\n",
       "    <tr>\n",
       "      <th>18815</th>\n",
       "      <td>1.280384e+09</td>\n",
       "      <td>2019-11-30 14:03:04</td>\n",
       "      <td>Deposits</td>\n",
       "      <td>1100.00</td>\n",
       "      <td>1100.030339</td>\n",
       "      <td>EUR</td>\n",
       "    </tr>\n",
       "  </tbody>\n",
       "</table>\n",
       "</div>"
      ],
      "text/plain": [
       "       Transaction ID                Date      Details  Turnover      Balance  \\\n",
       "1        2.541632e+08 2018-02-16 17:18:02     Deposits    500.00   475.000000   \n",
       "21       2.556097e+08 2018-02-19 14:04:03     Deposits   4500.00  4500.000000   \n",
       "4075     4.054726e+08 2018-08-15 16:03:03     Deposits   1100.00  1106.060169   \n",
       "11138    6.454634e+08 2019-03-01 11:56:28  Withdrawals  -5248.37    -0.158715   \n",
       "12129    7.614909e+08 2019-05-10 10:19:42     Deposits    268.17   268.003212   \n",
       "13677    1.005577e+09 2019-08-26 10:18:03     Deposits   5000.00  5000.259506   \n",
       "15278    1.112102e+09 2019-10-04 10:08:02     Deposits   5000.00  4999.833227   \n",
       "17444    1.227102e+09 2019-11-14 14:22:02     Deposits   1200.00  1199.826367   \n",
       "18815    1.280384e+09 2019-11-30 14:03:04     Deposits   1100.00  1100.030339   \n",
       "\n",
       "      Currency  \n",
       "1          EUR  \n",
       "21         EUR  \n",
       "4075       EUR  \n",
       "11138      EUR  \n",
       "12129      EUR  \n",
       "13677      EUR  \n",
       "15278      EUR  \n",
       "17444      EUR  \n",
       "18815      EUR  "
      ]
     },
     "execution_count": 15,
     "metadata": {},
     "output_type": "execute_result"
    }
   ],
   "source": [
    "transactions"
   ]
  },
  {
   "cell_type": "code",
   "execution_count": 33,
   "metadata": {},
   "outputs": [],
   "source": [
    "transactions['cash_flow'] = -transactions['Turnover']\n",
    "transactions.index = pd.to_datetime(transactions['Date'])\n",
    "transactions = transactions.sort_index()\n",
    "\n",
    "cash_flow = transactions.cash_flow"
   ]
  },
  {
   "cell_type": "code",
   "execution_count": 34,
   "metadata": {},
   "outputs": [],
   "source": [
    "cash_flow = cash_flow.append(pd.Series(data=[14402.48], index=[pd.to_datetime('2019-12-07')]))"
   ]
  },
  {
   "cell_type": "code",
   "execution_count": 35,
   "metadata": {},
   "outputs": [
    {
     "data": {
      "text/plain": [
       "982.6800000000003"
      ]
     },
     "execution_count": 35,
     "metadata": {},
     "output_type": "execute_result"
    }
   ],
   "source": [
    "cash_flow.sum()"
   ]
  },
  {
   "cell_type": "code",
   "execution_count": 36,
   "metadata": {},
   "outputs": [],
   "source": [
    "cash_flow_py = [(k.to_pydatetime(),v) for k,v in cash_flow.to_dict().items()]"
   ]
  },
  {
   "cell_type": "code",
   "execution_count": 37,
   "metadata": {},
   "outputs": [
    {
     "data": {
      "text/plain": [
       "0.10584080261702514"
      ]
     },
     "execution_count": 37,
     "metadata": {},
     "output_type": "execute_result"
    }
   ],
   "source": [
    "r = xirr(cash_flow_py)\n",
    "r"
   ]
  },
  {
   "cell_type": "code",
   "execution_count": 38,
   "metadata": {},
   "outputs": [],
   "source": [
    "reindexed_flow = (-transactions.cash_flow).copy()\n",
    "reindexed_flow = reindexed_flow.append(pd.Series([0], index=[pd.to_datetime('2019-12-01')]))\n",
    "\n",
    "reindexed_flow = reindexed_flow.groupby(pd.Grouper(freq='M')).sum()\n",
    "\n",
    "prev_sum = 0\n",
    "appreciations = []\n",
    "for date, deposit in reindexed_flow.items():\n",
    "    new_sum = prev_sum * (1+r)**(1/12) + deposit\n",
    "    appreciations.append(new_sum)\n",
    "    prev_sum = new_sum\n",
    "appreciations = pd.Series(appreciations, index=reindexed_flow.index)"
   ]
  },
  {
   "cell_type": "code",
   "execution_count": 39,
   "metadata": {},
   "outputs": [
    {
     "data": {
      "text/plain": [
       "2018-02-28     5000.000000\n",
       "2018-03-31     5042.095361\n",
       "2018-04-30     5084.545125\n",
       "2018-05-31     5127.352277\n",
       "2018-06-30     5170.519826\n",
       "2018-07-31     5214.050805\n",
       "2018-08-31     6357.948275\n",
       "2018-09-30     6411.476300\n",
       "2018-10-31     6465.454982\n",
       "2018-11-30     6519.888114\n",
       "2018-12-31     6574.779522\n",
       "2019-01-31     6630.133065\n",
       "2019-02-28     6685.952634\n",
       "2019-03-31     1493.872151\n",
       "2019-04-30     1506.449169\n",
       "2019-05-31     1787.302073\n",
       "2019-06-30     1802.349498\n",
       "2019-07-31     1817.523608\n",
       "2019-08-31     6832.825471\n",
       "2019-09-30     6890.351521\n",
       "2019-10-31    11948.361888\n",
       "2019-11-30    14348.956008\n",
       "2019-12-31    14469.760904\n",
       "Freq: M, dtype: float64"
      ]
     },
     "execution_count": 39,
     "metadata": {},
     "output_type": "execute_result"
    }
   ],
   "source": [
    "appreciations"
   ]
  },
  {
   "cell_type": "code",
   "execution_count": 40,
   "metadata": {},
   "outputs": [
    {
     "data": {
      "text/plain": [
       "(0, 15118.555341516596)"
      ]
     },
     "execution_count": 40,
     "metadata": {},
     "output_type": "execute_result"
    },
    {
     "data": {
      "image/png": "[encoded data removed]",
      "text/plain": [
       "<Figure size 864x360 with 1 Axes>"
      ]
     },
     "metadata": {
      "needs_background": "light"
     },
     "output_type": "display_data"
    }
   ],
   "source": [
    "plt.figure(figsize=(12, 5))\n",
    "plt.plot(appreciations, '-')\n",
    "plt.ylim(bottom=0)"
   ]
  },
  {
   "cell_type": "code",
   "execution_count": 42,
   "metadata": {},
   "outputs": [
    {
     "data": {
      "text/plain": [
       "2018-03-31     5042.095361\n",
       "2018-06-30     5170.519826\n",
       "2018-09-30     6411.476300\n",
       "2018-12-31     6574.779522\n",
       "2019-03-31     1493.872151\n",
       "2019-06-30     1802.349498\n",
       "2019-09-30     6890.351521\n",
       "2019-12-31    14469.760904\n",
       "Freq: 3M, dtype: float64"
      ]
     },
     "execution_count": 42,
     "metadata": {},
     "output_type": "execute_result"
    }
   ],
   "source": [
    "appreciations.iloc[1::3]"
   ]
  },
  {
   "cell_type": "code",
   "execution_count": 43,
   "metadata": {},
   "outputs": [
    {
     "name": "stdout",
     "output_type": "stream",
     "text": [
      "5000.0 5127.352277380125 6357.948275271031 6519.888113735192 6685.95263364475 1787.3020727576056 6832.825470623986 14348.956008213834\n"
     ]
    }
   ],
   "source": [
    "print(' '.join(map(str, appreciations.iloc[0::3].values.tolist())))"
   ]
  },
  {
   "cell_type": "code",
   "execution_count": 49,
   "metadata": {},
   "outputs": [
    {
     "data": {
      "text/plain": [
       "Date\n",
       "2018-02-16 17:18:02     -500.00\n",
       "2018-02-19 14:04:03    -5000.00\n",
       "2018-08-15 16:03:03    -6100.00\n",
       "2019-03-01 11:56:28     -851.63\n",
       "2019-05-10 10:19:42    -1119.80\n",
       "2019-08-26 10:18:03    -6119.80\n",
       "2019-10-04 10:08:02   -11119.80\n",
       "2019-11-14 14:22:02   -12319.80\n",
       "2019-11-30 14:03:04   -13419.80\n",
       "Name: cash_flow, dtype: float64"
      ]
     },
     "execution_count": 49,
     "metadata": {},
     "output_type": "execute_result"
    }
   ],
   "source": [
    "transactions.cash_flow.cumsum()"
   ]
  },
  {
   "cell_type": "code",
   "execution_count": null,
   "metadata": {},
   "outputs": [],
   "source": []
  }
 ],
 "metadata": {
  "kernelspec": {
   "display_name": "Python 3",
   "language": "python",
   "name": "python3"
  },
  "language_info": {
   "codemirror_mode": {
    "name": "ipython",
    "version": 3
   },
   "file_extension": ".py",
   "mimetype": "text/x-python",
   "name": "python",
   "nbconvert_exporter": "python",
   "pygments_lexer": "ipython3",
   "version": "3.7.3"
  }
 },
 "nbformat": 4,
 "nbformat_minor": 4
}
