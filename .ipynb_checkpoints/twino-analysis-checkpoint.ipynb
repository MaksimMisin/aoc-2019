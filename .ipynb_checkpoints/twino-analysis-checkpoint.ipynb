{
 "cells": [
  {
   "cell_type": "code",
   "execution_count": 1,
   "metadata": {},
   "outputs": [],
   "source": [
    "import pandas as pd\n",
    "\n",
    "import matplotlib.pyplot as plt\n",
    "from pandas.plotting import register_matplotlib_converters\n",
    "register_matplotlib_converters()\n",
    "\n",
    "import numpy as np\n",
    "\n",
    "pd.options.display.max_columns = 999"
   ]
  },
  {
   "cell_type": "code",
   "execution_count": 2,
   "metadata": {},
   "outputs": [],
   "source": [
    "import datetime\n",
    "from scipy import optimize \n",
    "\n",
    "def xnpv(rate,cashflows):\n",
    "    chron_order = sorted(cashflows, key = lambda x: x[0])\n",
    "    t0 = chron_order[0][0] #t0 is the date of the first cash flow\n",
    "\n",
    "    return sum([cf/(1+rate)**((t-t0).days/365.0) for (t,cf) in chron_order])\n",
    "\n",
    "def xirr(cashflows,guess=0.1):\n",
    "    \"\"\"\n",
    "    Calculate the Internal Rate of Return of a series of cashflows at irregular intervals.\n",
    "    Arguments\n",
    "    ---------\n",
    "    * cashflows: a list object in which each element is a tuple of the form (date, amount), where date is a python datetime.date object and amount is an integer or floating point number. Cash outflows (investments) are represented with negative amounts, and cash inflows (returns) are positive amounts.\n",
    "    * guess (optional, default = 0.1): a guess at the solution to be used as a starting point for the numerical solution. \n",
    "    Returns\n",
    "    --------\n",
    "    * Returns the IRR as a single value\n",
    "    \n",
    "    Notes\n",
    "    ----------------\n",
    "    * The Internal Rate of Return (IRR) is the discount rate at which the Net Present Value (NPV) of a series of cash flows is equal to zero. The NPV of the series of cash flows is determined using the xnpv function in this module. The discount rate at which NPV equals zero is found using the secant method of numerical solution. \n",
    "    * This function is equivalent to the Microsoft Excel function of the same name.\n",
    "    * For users that do not have the scipy module installed, there is an alternate version (commented out) that uses the secant_method function defined in the module rather than the scipy.optimize module's numerical solver. Both use the same method of calculation so there should be no difference in performance, but the secant_method function does not fail gracefully in cases where there is no solution, so the scipy.optimize.newton version is preferred.\n",
    "    \"\"\"\n",
    "    \n",
    "    #return secant_method(0.0001,lambda r: xnpv(r,cashflows),guess)\n",
    "    return optimize.newton(lambda r: xnpv(r,cashflows),guess)\n"
   ]
  },
  {
   "cell_type": "markdown",
   "metadata": {},
   "source": [
    "Getting analysis:\n",
    "\n",
    "Account statement - download"
   ]
  },
  {
   "cell_type": "code",
   "execution_count": 8,
   "metadata": {},
   "outputs": [],
   "source": [
    "df = pd.read_excel('twino-account_statement.xlsx', header=2)"
   ]
  },
  {
   "cell_type": "code",
   "execution_count": 12,
   "metadata": {},
   "outputs": [],
   "source": [
    "transactions = df[df.Type=='FUNDING'].copy()"
   ]
  },
  {
   "cell_type": "code",
   "execution_count": 53,
   "metadata": {},
   "outputs": [],
   "source": [
    "transactions['cash_flow'] = -transactions['Amount, EUR']\n",
    "transactions.index = pd.to_datetime(transactions['Processing Date'])\n",
    "transactions = transactions.sort_index()\n",
    "\n",
    "cash_flow = transactions.cash_flow"
   ]
  },
  {
   "cell_type": "code",
   "execution_count": 55,
   "metadata": {},
   "outputs": [],
   "source": [
    "cash_flow = cash_flow.append(pd.Series(data=[110], index=[pd.to_datetime('2019-12-07')]))"
   ]
  },
  {
   "cell_type": "code",
   "execution_count": 56,
   "metadata": {},
   "outputs": [
    {
     "data": {
      "text/plain": [
       "128.98000000000002"
      ]
     },
     "execution_count": 56,
     "metadata": {},
     "output_type": "execute_result"
    }
   ],
   "source": [
    "cash_flow.sum()"
   ]
  },
  {
   "cell_type": "code",
   "execution_count": 57,
   "metadata": {},
   "outputs": [],
   "source": [
    "cash_flow_py = [(k.to_pydatetime(),v) for k,v in cash_flow.to_dict().items()]"
   ]
  },
  {
   "cell_type": "code",
   "execution_count": 58,
   "metadata": {},
   "outputs": [
    {
     "data": {
      "text/plain": [
       "0.08549209953155654"
      ]
     },
     "execution_count": 58,
     "metadata": {},
     "output_type": "execute_result"
    }
   ],
   "source": [
    "r = xirr(cash_flow_py)\n",
    "r"
   ]
  },
  {
   "cell_type": "code",
   "execution_count": 59,
   "metadata": {},
   "outputs": [],
   "source": [
    "reindexed_flow = (-transactions.cash_flow).copy()\n",
    "reindexed_flow = reindexed_flow.append(pd.Series([0], index=[pd.to_datetime('2019-12-01')]))\n",
    "\n",
    "reindexed_flow = reindexed_flow.groupby(pd.Grouper(freq='M')).sum()\n",
    "\n",
    "prev_sum = 0\n",
    "appreciations = []\n",
    "for date, deposit in reindexed_flow.items():\n",
    "    new_sum = prev_sum * (1+r)**(1/12) + deposit\n",
    "    appreciations.append(new_sum)\n",
    "    prev_sum = new_sum\n",
    "appreciations = pd.Series(appreciations, index=reindexed_flow.index)"
   ]
  },
  {
   "cell_type": "code",
   "execution_count": 71,
   "metadata": {},
   "outputs": [
    {
     "data": {
      "text/plain": [
       "2017-03-31     100.000000\n",
       "2017-04-30     100.685954\n",
       "2017-05-31     101.376613\n",
       "2017-06-30     102.072010\n",
       "2017-07-31     502.772177\n",
       "2017-08-31     506.220962\n",
       "2017-09-30     509.693405\n",
       "2017-10-31     513.189666\n",
       "2017-11-30     516.709911\n",
       "2017-12-31     520.254303\n",
       "2018-01-31     523.823007\n",
       "2018-02-28    4027.416192\n",
       "2018-03-31    3055.042410\n",
       "2018-04-30    2075.998592\n",
       "2018-05-31    2090.238985\n",
       "2018-06-30    2104.577061\n",
       "2018-07-31    1119.013489\n",
       "2018-08-31     107.709406\n",
       "2018-09-30     108.448243\n",
       "2018-10-31     109.192148\n",
       "2018-11-30     109.941156\n",
       "2018-12-31     110.695301\n",
       "2019-01-31     111.454620\n",
       "2019-02-28     112.219147\n",
       "2019-03-31     112.988919\n",
       "2019-04-30     113.763971\n",
       "2019-05-31     114.544339\n",
       "2019-06-30     115.330061\n",
       "2019-07-31     116.121172\n",
       "2019-08-31     116.917709\n",
       "2019-09-30     117.719711\n",
       "2019-10-31     118.527214\n",
       "2019-11-30     119.340256\n",
       "2019-12-31     120.158875\n",
       "Freq: M, dtype: float64"
      ]
     },
     "execution_count": 71,
     "metadata": {},
     "output_type": "execute_result"
    }
   ],
   "source": [
    "appreciations"
   ]
  },
  {
   "cell_type": "code",
   "execution_count": 72,
   "metadata": {},
   "outputs": [
    {
     "data": {
      "text/plain": [
       "(0, 4223.787001163053)"
      ]
     },
     "execution_count": 72,
     "metadata": {},
     "output_type": "execute_result"
    },
    {
     "data": {
      "image/png": "[encoded data removed]",
      "text/plain": [
       "<Figure size 864x360 with 1 Axes>"
      ]
     },
     "metadata": {
      "needs_background": "light"
     },
     "output_type": "display_data"
    }
   ],
   "source": [
    "plt.figure(figsize=(12, 5))\n",
    "plt.plot(appreciations, '-')\n",
    "plt.ylim(bottom=0)"
   ]
  },
  {
   "cell_type": "code",
   "execution_count": 74,
   "metadata": {},
   "outputs": [
    {
     "data": {
      "text/plain": [
       "2017-03-31     100.000000\n",
       "2017-06-30     102.072010\n",
       "2017-09-30     509.693405\n",
       "2017-12-31     520.254303\n",
       "2018-03-31    3055.042410\n",
       "2018-06-30    2104.577061\n",
       "2018-09-30     108.448243\n",
       "2018-12-31     110.695301\n",
       "2019-03-31     112.988919\n",
       "2019-06-30     115.330061\n",
       "2019-09-30     117.719711\n",
       "2019-12-31     120.158875\n",
       "Freq: 3M, dtype: float64"
      ]
     },
     "execution_count": 74,
     "metadata": {},
     "output_type": "execute_result"
    }
   ],
   "source": [
    "appreciations.iloc[0::3]"
   ]
  },
  {
   "cell_type": "code",
   "execution_count": 76,
   "metadata": {},
   "outputs": [
    {
     "name": "stdout",
     "output_type": "stream",
     "text": [
      "100.0 102.07200994182824 509.6934046003759 520.2543026165387 3055.0424097923233 2104.577061088466 108.4482428730308 110.69530124709803 112.98891889407462 115.33006052672408 117.71971084675432 120.15887495899054\n"
     ]
    }
   ],
   "source": [
    "print(' '.join(map(str, appreciations.iloc[0::3].values.tolist())))"
   ]
  },
  {
   "cell_type": "code",
   "execution_count": 77,
   "metadata": {},
   "outputs": [
    {
     "data": {
      "text/plain": [
       "Processing Date\n",
       "2017-03-20 12:14:31.693    -100.00\n",
       "2017-07-04 16:46:03.284    -500.00\n",
       "2018-02-21 16:34:41.294   -4000.00\n",
       "2018-03-26 09:42:55.232   -3000.00\n",
       "2018-04-09 09:44:16.245   -2000.00\n",
       "2018-07-02 13:47:19.453   -1000.00\n",
       "2018-08-11 08:49:01.110      18.98\n",
       "Name: cash_flow, dtype: float64"
      ]
     },
     "execution_count": 77,
     "metadata": {},
     "output_type": "execute_result"
    }
   ],
   "source": [
    "transactions.cash_flow.cumsum()"
   ]
  },
  {
   "cell_type": "code",
   "execution_count": null,
   "metadata": {},
   "outputs": [],
   "source": []
  }
 ],
 "metadata": {
  "kernelspec": {
   "display_name": "Python 3",
   "language": "python",
   "name": "python3"
  },
  "language_info": {
   "codemirror_mode": {
    "name": "ipython",
    "version": 3
   },
   "file_extension": ".py",
   "mimetype": "text/x-python",
   "name": "python",
   "nbconvert_exporter": "python",
   "pygments_lexer": "ipython3",
   "version": "3.7.3"
  }
 },
 "nbformat": 4,
 "nbformat_minor": 4
}
