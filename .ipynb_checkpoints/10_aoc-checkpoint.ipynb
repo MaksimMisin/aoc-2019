{
 "cells": [
  {
   "cell_type": "code",
   "execution_count": 1,
   "metadata": {},
   "outputs": [],
   "source": [
    "from aocd import get_data"
   ]
  },
  {
   "cell_type": "code",
   "execution_count": 23,
   "metadata": {},
   "outputs": [],
   "source": [
    "data = get_data()"
   ]
  },
  {
   "cell_type": "code",
   "execution_count": 2,
   "metadata": {},
   "outputs": [],
   "source": [
    "import numpy as np"
   ]
  },
  {
   "cell_type": "code",
   "execution_count": 158,
   "metadata": {},
   "outputs": [],
   "source": [
    "data='''#...##.####.#.......#.##..##.#.\n",
    "#.##.#..#..#...##..##.##.#.....\n",
    "#..#####.#......#..#....#.###.#\n",
    "...#.#.#...#..#.....#..#..#.#..\n",
    ".#.....##..#...#..#.#...##.....\n",
    "##.....#..........##..#......##\n",
    ".##..##.#.#....##..##.......#..\n",
    "#.##.##....###..#...##...##....\n",
    "##.#.#............##..#...##..#\n",
    "###..##.###.....#.##...####....\n",
    "...##..#...##...##..#.#..#...#.\n",
    "..#.#.##.#.#.#####.#....####.#.\n",
    "#......###.##....#...#...#...##\n",
    ".....#...#.#.#.#....#...#......\n",
    "#..#.#.#..#....#..#...#..#..##.\n",
    "#.....#..##.....#...###..#..#.#\n",
    ".....####.#..#...##..#..#..#..#\n",
    "..#.....#.#........#.#.##..####\n",
    ".#.....##..#.##.....#...###....\n",
    "###.###....#..#..#.....#####...\n",
    "#..##.##..##.#.#....#.#......#.\n",
    ".#....#.##..#.#.#.......##.....\n",
    "##.##...#...#....###.#....#....\n",
    ".....#.######.#.#..#..#.#.....#\n",
    ".#..#.##.#....#.##..#.#...##..#\n",
    ".##.###..#..#..#.###...#####.#.\n",
    "#...#...........#.....#.......#\n",
    "#....##.#.#..##...#..####...#..\n",
    "#.####......#####.....#.##..#..\n",
    ".#...#....#...##..##.#.#......#\n",
    "#..###.....##.#.......#.##...##'''"
   ]
  },
  {
   "cell_type": "code",
   "execution_count": 138,
   "metadata": {},
   "outputs": [],
   "source": [
    "data='''.#..##.###...#######\n",
    "##.############..##.\n",
    ".#.######.########.#\n",
    ".###.#######.####.#.\n",
    "#####.##.#.##.###.##\n",
    "..#####..#.#########\n",
    "####################\n",
    "#.####....###.#.#.##\n",
    "##.#################\n",
    "#####.##.###..####..\n",
    "..######..##.#######\n",
    "####.##.####...##..#\n",
    ".#####..#.######.###\n",
    "##...#.##########...\n",
    "#.##########.#######\n",
    ".####.#.###.###.#.##\n",
    "....##.##.###..#####\n",
    ".#.#.###########.###\n",
    "#.#.#.#####.####.###\n",
    "###.##.####.##.#..##'''"
   ]
  },
  {
   "cell_type": "code",
   "execution_count": 159,
   "metadata": {},
   "outputs": [],
   "source": [
    "def convert(data):\n",
    "    mat = []\n",
    "    for i, row in enumerate(data.splitlines()):\n",
    "        for j, c in enumerate(row):\n",
    "            if c == '#':\n",
    "                mat.append((i,j))\n",
    "    return np.asarray(mat)\n",
    "mat = convert(data)                "
   ]
  },
  {
   "cell_type": "code",
   "execution_count": 160,
   "metadata": {},
   "outputs": [],
   "source": [
    "def observables(dif):\n",
    "    dif = np.asarray(sorted(dif, key=lambda x: x[0]**2 + x[1]**2))\n",
    "    lengths = np.linalg.norm(dif, axis=1)\n",
    "    col_rows = {}\n",
    "    for i, r in enumerate(dif):\n",
    "        r = tuple(r)\n",
    "        if r in col_rows:\n",
    "            continue\n",
    "        lenghts_rel = np.linalg.norm(dif - r, axis=1)\n",
    "        col = np.isclose(lenghts_rel + np.linalg.norm(r), lengths, atol=0, rtol=1e-9)\n",
    "        col[i] = False\n",
    "        if col.any():\n",
    "            for col_r in dif[col]:\n",
    "                col_rows[tuple(col_r)] = r\n",
    "    return len(dif) - len(col_rows), col_rows"
   ]
  },
  {
   "cell_type": "code",
   "execution_count": 161,
   "metadata": {},
   "outputs": [
    {
     "name": "stdout",
     "output_type": "stream",
     "text": [
      "(22, 17) 288\n"
     ]
    }
   ],
   "source": [
    "obs_cnts = {}\n",
    "for i in range(len(mat)):\n",
    "    dif = mat - mat[i,:]\n",
    "    dif = np.vstack([dif[:i,:], dif[i+1:,:]])    \n",
    "    obs_cnts[tuple(mat[i,:])] = observables(dif)\n",
    "max_r = max(obs_cnts, key=lambda x: obs_cnts[x][0])\n",
    "print(max_r, obs_cnts[max_r][0])"
   ]
  },
  {
   "cell_type": "markdown",
   "metadata": {},
   "source": [
    "# part 2"
   ]
  },
  {
   "cell_type": "code",
   "execution_count": 162,
   "metadata": {},
   "outputs": [],
   "source": [
    "dif = mat - max_r"
   ]
  },
  {
   "cell_type": "code",
   "execution_count": 163,
   "metadata": {},
   "outputs": [],
   "source": [
    "non_masked_dif = []\n",
    "for r in dif:\n",
    "    if tuple(r) not in list(obs_cnts[max_r][1].keys()):\n",
    "        non_masked_dif.append(r)"
   ]
  },
  {
   "cell_type": "code",
   "execution_count": 164,
   "metadata": {},
   "outputs": [],
   "source": [
    "non_masked_dif = np.asarray(non_masked_dif)"
   ]
  },
  {
   "cell_type": "code",
   "execution_count": 165,
   "metadata": {},
   "outputs": [],
   "source": [
    "angles = np.arctan2(non_masked_dif[:,0], non_masked_dif[:,1]) + np.pi/2"
   ]
  },
  {
   "cell_type": "code",
   "execution_count": 166,
   "metadata": {},
   "outputs": [],
   "source": [
    "angles = np.where(angles < 0, 2*np.pi + angles, angles)"
   ]
  },
  {
   "cell_type": "code",
   "execution_count": 169,
   "metadata": {},
   "outputs": [
    {
     "data": {
      "text/plain": [
       "array([16,  6])"
      ]
     },
     "execution_count": 169,
     "metadata": {},
     "output_type": "execute_result"
    }
   ],
   "source": [
    "(non_masked_dif[np.argsort(angles)] + max_r)[200]"
   ]
  },
  {
   "cell_type": "code",
   "execution_count": 170,
   "metadata": {},
   "outputs": [
    {
     "data": {
      "text/plain": [
       "616"
      ]
     },
     "execution_count": 170,
     "metadata": {},
     "output_type": "execute_result"
    }
   ],
   "source": [
    "6*100 + 16"
   ]
  },
  {
   "cell_type": "code",
   "execution_count": 168,
   "metadata": {},
   "outputs": [
    {
     "data": {
      "text/plain": [
       "1320"
      ]
     },
     "execution_count": 168,
     "metadata": {},
     "output_type": "execute_result"
    }
   ],
   "source": [
    "13*100 + 20"
   ]
  },
  {
   "cell_type": "code",
   "execution_count": null,
   "metadata": {},
   "outputs": [],
   "source": []
  },
  {
   "cell_type": "code",
   "execution_count": null,
   "metadata": {},
   "outputs": [],
   "source": []
  },
  {
   "cell_type": "code",
   "execution_count": 29,
   "metadata": {},
   "outputs": [],
   "source": [
    "masked_dots = np.asarray(obs_cnts[max_r][1])\n",
    "\n",
    "masked_dots_coords = np.asarray(list(obs_cnts[max_r][1].keys()))"
   ]
  },
  {
   "cell_type": "code",
   "execution_count": 30,
   "metadata": {},
   "outputs": [
    {
     "data": {
      "text/html": [
       "\n",
       "    <div class=\"bk-root\">\n",
       "        <a href=\"https://bokeh.org\" target=\"_blank\" class=\"bk-logo bk-logo-small bk-logo-notebook\"></a>\n",
       "        <span id=\"3026\">Loading BokehJS ...</span>\n",
       "    </div>"
      ]
     },
     "metadata": {},
     "output_type": "display_data"
    },
    {
     "data": {
      "application/javascript": [
       "\n",
       "(function(root) {\n",
       "  function now() {\n",
       "    return new Date();\n",
       "  }\n",
       "\n",
       "  var force = true;\n",
       "\n",
       "  if (typeof root._bokeh_onload_callbacks === \"undefined\" || force === true) {\n",
       "    root._bokeh_onload_callbacks = [];\n",
       "    root._bokeh_is_loading = undefined;\n",
       "  }\n",
       "\n",
       "  var JS_MIME_TYPE = 'application/javascript';\n",
       "  var HTML_MIME_TYPE = 'text/html';\n",
       "  var EXEC_MIME_TYPE = 'application/vnd.bokehjs_exec.v0+json';\n",
       "  var CLASS_NAME = 'output_bokeh rendered_html';\n",
       "\n",
       "  /**\n",
       "   * Render data to the DOM node\n",
       "   */\n",
       "  function render(props, node) {\n",
       "    var script = document.createElement(\"script\");\n",
       "    node.appendChild(script);\n",
       "  }\n",
       "\n",
       "  /**\n",
       "   * Handle when an output is cleared or removed\n",
       "   */\n",
       "  function handleClearOutput(event, handle) {\n",
       "    var cell = handle.cell;\n",
       "\n",
       "    var id = cell.output_area._bokeh_element_id;\n",
       "    var server_id = cell.output_area._bokeh_server_id;\n",
       "    // Clean up Bokeh references\n",
       "    if (id != null && id in Bokeh.index) {\n",
       "      Bokeh.index[id].model.document.clear();\n",
       "      delete Bokeh.index[id];\n",
       "    }\n",
       "\n",
       "    if (server_id !== undefined) {\n",
       "      // Clean up Bokeh references\n",
       "      var cmd = \"from bokeh.io.state import curstate; print(curstate().uuid_to_server['\" + server_id + \"'].get_sessions()[0].document.roots[0]._id)\";\n",
       "      cell.notebook.kernel.execute(cmd, {\n",
       "        iopub: {\n",
       "          output: function(msg) {\n",
       "            var id = msg.content.text.trim();\n",
       "            if (id in Bokeh.index) {\n",
       "              Bokeh.index[id].model.document.clear();\n",
       "              delete Bokeh.index[id];\n",
       "            }\n",
       "          }\n",
       "        }\n",
       "      });\n",
       "      // Destroy server and session\n",
       "      var cmd = \"import bokeh.io.notebook as ion; ion.destroy_server('\" + server_id + \"')\";\n",
       "      cell.notebook.kernel.execute(cmd);\n",
       "    }\n",
       "  }\n",
       "\n",
       "  /**\n",
       "   * Handle when a new output is added\n",
       "   */\n",
       "  function handleAddOutput(event, handle) {\n",
       "    var output_area = handle.output_area;\n",
       "    var output = handle.output;\n",
       "\n",
       "    // limit handleAddOutput to display_data with EXEC_MIME_TYPE content only\n",
       "    if ((output.output_type != \"display_data\") || (!output.data.hasOwnProperty(EXEC_MIME_TYPE))) {\n",
       "      return\n",
       "    }\n",
       "\n",
       "    var toinsert = output_area.element.find(\".\" + CLASS_NAME.split(' ')[0]);\n",
       "\n",
       "    if (output.metadata[EXEC_MIME_TYPE][\"id\"] !== undefined) {\n",
       "      toinsert[toinsert.length - 1].firstChild.textContent = output.data[JS_MIME_TYPE];\n",
       "      // store reference to embed id on output_area\n",
       "      output_area._bokeh_element_id = output.metadata[EXEC_MIME_TYPE][\"id\"];\n",
       "    }\n",
       "    if (output.metadata[EXEC_MIME_TYPE][\"server_id\"] !== undefined) {\n",
       "      var bk_div = document.createElement(\"div\");\n",
       "      bk_div.innerHTML = output.data[HTML_MIME_TYPE];\n",
       "      var script_attrs = bk_div.children[0].attributes;\n",
       "      for (var i = 0; i < script_attrs.length; i++) {\n",
       "        toinsert[toinsert.length - 1].firstChild.setAttribute(script_attrs[i].name, script_attrs[i].value);\n",
       "      }\n",
       "      // store reference to server id on output_area\n",
       "      output_area._bokeh_server_id = output.metadata[EXEC_MIME_TYPE][\"server_id\"];\n",
       "    }\n",
       "  }\n",
       "\n",
       "  function register_renderer(events, OutputArea) {\n",
       "\n",
       "    function append_mime(data, metadata, element) {\n",
       "      // create a DOM node to render to\n",
       "      var toinsert = this.create_output_subarea(\n",
       "        metadata,\n",
       "        CLASS_NAME,\n",
       "        EXEC_MIME_TYPE\n",
       "      );\n",
       "      this.keyboard_manager.register_events(toinsert);\n",
       "      // Render to node\n",
       "      var props = {data: data, metadata: metadata[EXEC_MIME_TYPE]};\n",
       "      render(props, toinsert[toinsert.length - 1]);\n",
       "      element.append(toinsert);\n",
       "      return toinsert\n",
       "    }\n",
       "\n",
       "    /* Handle when an output is cleared or removed */\n",
       "    events.on('clear_output.CodeCell', handleClearOutput);\n",
       "    events.on('delete.Cell', handleClearOutput);\n",
       "\n",
       "    /* Handle when a new output is added */\n",
       "    events.on('output_added.OutputArea', handleAddOutput);\n",
       "\n",
       "    /**\n",
       "     * Register the mime type and append_mime function with output_area\n",
       "     */\n",
       "    OutputArea.prototype.register_mime_type(EXEC_MIME_TYPE, append_mime, {\n",
       "      /* Is output safe? */\n",
       "      safe: true,\n",
       "      /* Index of renderer in `output_area.display_order` */\n",
       "      index: 0\n",
       "    });\n",
       "  }\n",
       "\n",
       "  // register the mime type if in Jupyter Notebook environment and previously unregistered\n",
       "  if (root.Jupyter !== undefined) {\n",
       "    var events = require('base/js/events');\n",
       "    var OutputArea = require('notebook/js/outputarea').OutputArea;\n",
       "\n",
       "    if (OutputArea.prototype.mime_types().indexOf(EXEC_MIME_TYPE) == -1) {\n",
       "      register_renderer(events, OutputArea);\n",
       "    }\n",
       "  }\n",
       "\n",
       "  \n",
       "  if (typeof (root._bokeh_timeout) === \"undefined\" || force === true) {\n",
       "    root._bokeh_timeout = Date.now() + 5000;\n",
       "    root._bokeh_failed_load = false;\n",
       "  }\n",
       "\n",
       "  var NB_LOAD_WARNING = {'data': {'text/html':\n",
       "     \"<div style='background-color: #fdd'>\\n\"+\n",
       "     \"<p>\\n\"+\n",
       "     \"BokehJS does not appear to have successfully loaded. If loading BokehJS from CDN, this \\n\"+\n",
       "     \"may be due to a slow or bad network connection. Possible fixes:\\n\"+\n",
       "     \"</p>\\n\"+\n",
       "     \"<ul>\\n\"+\n",
       "     \"<li>re-rerun `output_notebook()` to attempt to load from CDN again, or</li>\\n\"+\n",
       "     \"<li>use INLINE resources instead, as so:</li>\\n\"+\n",
       "     \"</ul>\\n\"+\n",
       "     \"<code>\\n\"+\n",
       "     \"from bokeh.resources import INLINE\\n\"+\n",
       "     \"output_notebook(resources=INLINE)\\n\"+\n",
       "     \"</code>\\n\"+\n",
       "     \"</div>\"}};\n",
       "\n",
       "  function display_loaded() {\n",
       "    var el = document.getElementById(\"3026\");\n",
       "    if (el != null) {\n",
       "      el.textContent = \"BokehJS is loading...\";\n",
       "    }\n",
       "    if (root.Bokeh !== undefined) {\n",
       "      if (el != null) {\n",
       "        el.textContent = \"BokehJS \" + root.Bokeh.version + \" successfully loaded.\";\n",
       "      }\n",
       "    } else if (Date.now() < root._bokeh_timeout) {\n",
       "      setTimeout(display_loaded, 100)\n",
       "    }\n",
       "  }\n",
       "\n",
       "\n",
       "  function run_callbacks() {\n",
       "    try {\n",
       "      root._bokeh_onload_callbacks.forEach(function(callback) {\n",
       "        if (callback != null)\n",
       "          callback();\n",
       "      });\n",
       "    } finally {\n",
       "      delete root._bokeh_onload_callbacks\n",
       "    }\n",
       "    console.debug(\"Bokeh: all callbacks have finished\");\n",
       "  }\n",
       "\n",
       "  function load_libs(css_urls, js_urls, callback) {\n",
       "    if (css_urls == null) css_urls = [];\n",
       "    if (js_urls == null) js_urls = [];\n",
       "\n",
       "    root._bokeh_onload_callbacks.push(callback);\n",
       "    if (root._bokeh_is_loading > 0) {\n",
       "      console.debug(\"Bokeh: BokehJS is being loaded, scheduling callback at\", now());\n",
       "      return null;\n",
       "    }\n",
       "    if (js_urls == null || js_urls.length === 0) {\n",
       "      run_callbacks();\n",
       "      return null;\n",
       "    }\n",
       "    console.debug(\"Bokeh: BokehJS not loaded, scheduling load and callback at\", now());\n",
       "    root._bokeh_is_loading = css_urls.length + js_urls.length;\n",
       "\n",
       "    function on_load() {\n",
       "      root._bokeh_is_loading--;\n",
       "      if (root._bokeh_is_loading === 0) {\n",
       "        console.debug(\"Bokeh: all BokehJS libraries/stylesheets loaded\");\n",
       "        run_callbacks()\n",
       "      }\n",
       "    }\n",
       "\n",
       "    function on_error() {\n",
       "      console.error(\"failed to load \" + url);\n",
       "    }\n",
       "\n",
       "    for (var i = 0; i < css_urls.length; i++) {\n",
       "      var url = css_urls[i];\n",
       "      const element = document.createElement(\"link\");\n",
       "      element.onload = on_load;\n",
       "      element.onerror = on_error;\n",
       "      element.rel = \"stylesheet\";\n",
       "      element.type = \"text/css\";\n",
       "      element.href = url;\n",
       "      console.debug(\"Bokeh: injecting link tag for BokehJS stylesheet: \", url);\n",
       "      document.body.appendChild(element);\n",
       "    }\n",
       "\n",
       "    for (var i = 0; i < js_urls.length; i++) {\n",
       "      var url = js_urls[i];\n",
       "      var element = document.createElement('script');\n",
       "      element.onload = on_load;\n",
       "      element.onerror = on_error;\n",
       "      element.async = false;\n",
       "      element.src = url;\n",
       "      console.debug(\"Bokeh: injecting script tag for BokehJS library: \", url);\n",
       "      document.head.appendChild(element);\n",
       "    }\n",
       "  };var element = document.getElementById(\"3026\");\n",
       "  if (element == null) {\n",
       "    console.error(\"Bokeh: ERROR: autoload.js configured with elementid '3026' but no matching script tag was found. \")\n",
       "    return false;\n",
       "  }\n",
       "\n",
       "  function inject_raw_css(css) {\n",
       "    const element = document.createElement(\"style\");\n",
       "    element.appendChild(document.createTextNode(css));\n",
       "    document.body.appendChild(element);\n",
       "  }\n",
       "\n",
       "  \n",
       "  var js_urls = [\"https://cdn.pydata.org/bokeh/release/bokeh-1.4.0.min.js\", \"https://cdn.pydata.org/bokeh/release/bokeh-widgets-1.4.0.min.js\", \"https://cdn.pydata.org/bokeh/release/bokeh-tables-1.4.0.min.js\", \"https://cdn.pydata.org/bokeh/release/bokeh-gl-1.4.0.min.js\"];\n",
       "  var css_urls = [];\n",
       "  \n",
       "\n",
       "  var inline_js = [\n",
       "    function(Bokeh) {\n",
       "      Bokeh.set_log_level(\"info\");\n",
       "    },\n",
       "    function(Bokeh) {\n",
       "    \n",
       "    \n",
       "    }\n",
       "  ];\n",
       "\n",
       "  function run_inline_js() {\n",
       "    \n",
       "    if (root.Bokeh !== undefined || force === true) {\n",
       "      \n",
       "    for (var i = 0; i < inline_js.length; i++) {\n",
       "      inline_js[i].call(root, root.Bokeh);\n",
       "    }\n",
       "    if (force === true) {\n",
       "        display_loaded();\n",
       "      }} else if (Date.now() < root._bokeh_timeout) {\n",
       "      setTimeout(run_inline_js, 100);\n",
       "    } else if (!root._bokeh_failed_load) {\n",
       "      console.log(\"Bokeh: BokehJS failed to load within specified timeout.\");\n",
       "      root._bokeh_failed_load = true;\n",
       "    } else if (force !== true) {\n",
       "      var cell = $(document.getElementById(\"3026\")).parents('.cell').data().cell;\n",
       "      cell.output_area.append_execute_result(NB_LOAD_WARNING)\n",
       "    }\n",
       "\n",
       "  }\n",
       "\n",
       "  if (root._bokeh_is_loading === 0) {\n",
       "    console.debug(\"Bokeh: BokehJS loaded, going straight to plotting\");\n",
       "    run_inline_js();\n",
       "  } else {\n",
       "    load_libs(css_urls, js_urls, function() {\n",
       "      console.debug(\"Bokeh: BokehJS plotting callback run at\", now());\n",
       "      run_inline_js();\n",
       "    });\n",
       "  }\n",
       "}(window));"
      ],
      "application/vnd.bokehjs_load.v0+json": "\n(function(root) {\n  function now() {\n    return new Date();\n  }\n\n  var force = true;\n\n  if (typeof root._bokeh_onload_callbacks === \"undefined\" || force === true) {\n    root._bokeh_onload_callbacks = [];\n    root._bokeh_is_loading = undefined;\n  }\n\n  \n\n  \n  if (typeof (root._bokeh_timeout) === \"undefined\" || force === true) {\n    root._bokeh_timeout = Date.now() + 5000;\n    root._bokeh_failed_load = false;\n  }\n\n  var NB_LOAD_WARNING = {'data': {'text/html':\n     \"<div style='background-color: #fdd'>\\n\"+\n     \"<p>\\n\"+\n     \"BokehJS does not appear to have successfully loaded. If loading BokehJS from CDN, this \\n\"+\n     \"may be due to a slow or bad network connection. Possible fixes:\\n\"+\n     \"</p>\\n\"+\n     \"<ul>\\n\"+\n     \"<li>re-rerun `output_notebook()` to attempt to load from CDN again, or</li>\\n\"+\n     \"<li>use INLINE resources instead, as so:</li>\\n\"+\n     \"</ul>\\n\"+\n     \"<code>\\n\"+\n     \"from bokeh.resources import INLINE\\n\"+\n     \"output_notebook(resources=INLINE)\\n\"+\n     \"</code>\\n\"+\n     \"</div>\"}};\n\n  function display_loaded() {\n    var el = document.getElementById(\"3026\");\n    if (el != null) {\n      el.textContent = \"BokehJS is loading...\";\n    }\n    if (root.Bokeh !== undefined) {\n      if (el != null) {\n        el.textContent = \"BokehJS \" + root.Bokeh.version + \" successfully loaded.\";\n      }\n    } else if (Date.now() < root._bokeh_timeout) {\n      setTimeout(display_loaded, 100)\n    }\n  }\n\n\n  function run_callbacks() {\n    try {\n      root._bokeh_onload_callbacks.forEach(function(callback) {\n        if (callback != null)\n          callback();\n      });\n    } finally {\n      delete root._bokeh_onload_callbacks\n    }\n    console.debug(\"Bokeh: all callbacks have finished\");\n  }\n\n  function load_libs(css_urls, js_urls, callback) {\n    if (css_urls == null) css_urls = [];\n    if (js_urls == null) js_urls = [];\n\n    root._bokeh_onload_callbacks.push(callback);\n    if (root._bokeh_is_loading > 0) {\n      console.debug(\"Bokeh: BokehJS is being loaded, scheduling callback at\", now());\n      return null;\n    }\n    if (js_urls == null || js_urls.length === 0) {\n      run_callbacks();\n      return null;\n    }\n    console.debug(\"Bokeh: BokehJS not loaded, scheduling load and callback at\", now());\n    root._bokeh_is_loading = css_urls.length + js_urls.length;\n\n    function on_load() {\n      root._bokeh_is_loading--;\n      if (root._bokeh_is_loading === 0) {\n        console.debug(\"Bokeh: all BokehJS libraries/stylesheets loaded\");\n        run_callbacks()\n      }\n    }\n\n    function on_error() {\n      console.error(\"failed to load \" + url);\n    }\n\n    for (var i = 0; i < css_urls.length; i++) {\n      var url = css_urls[i];\n      const element = document.createElement(\"link\");\n      element.onload = on_load;\n      element.onerror = on_error;\n      element.rel = \"stylesheet\";\n      element.type = \"text/css\";\n      element.href = url;\n      console.debug(\"Bokeh: injecting link tag for BokehJS stylesheet: \", url);\n      document.body.appendChild(element);\n    }\n\n    for (var i = 0; i < js_urls.length; i++) {\n      var url = js_urls[i];\n      var element = document.createElement('script');\n      element.onload = on_load;\n      element.onerror = on_error;\n      element.async = false;\n      element.src = url;\n      console.debug(\"Bokeh: injecting script tag for BokehJS library: \", url);\n      document.head.appendChild(element);\n    }\n  };var element = document.getElementById(\"3026\");\n  if (element == null) {\n    console.error(\"Bokeh: ERROR: autoload.js configured with elementid '3026' but no matching script tag was found. \")\n    return false;\n  }\n\n  function inject_raw_css(css) {\n    const element = document.createElement(\"style\");\n    element.appendChild(document.createTextNode(css));\n    document.body.appendChild(element);\n  }\n\n  \n  var js_urls = [\"https://cdn.pydata.org/bokeh/release/bokeh-1.4.0.min.js\", \"https://cdn.pydata.org/bokeh/release/bokeh-widgets-1.4.0.min.js\", \"https://cdn.pydata.org/bokeh/release/bokeh-tables-1.4.0.min.js\", \"https://cdn.pydata.org/bokeh/release/bokeh-gl-1.4.0.min.js\"];\n  var css_urls = [];\n  \n\n  var inline_js = [\n    function(Bokeh) {\n      Bokeh.set_log_level(\"info\");\n    },\n    function(Bokeh) {\n    \n    \n    }\n  ];\n\n  function run_inline_js() {\n    \n    if (root.Bokeh !== undefined || force === true) {\n      \n    for (var i = 0; i < inline_js.length; i++) {\n      inline_js[i].call(root, root.Bokeh);\n    }\n    if (force === true) {\n        display_loaded();\n      }} else if (Date.now() < root._bokeh_timeout) {\n      setTimeout(run_inline_js, 100);\n    } else if (!root._bokeh_failed_load) {\n      console.log(\"Bokeh: BokehJS failed to load within specified timeout.\");\n      root._bokeh_failed_load = true;\n    } else if (force !== true) {\n      var cell = $(document.getElementById(\"3026\")).parents('.cell').data().cell;\n      cell.output_area.append_execute_result(NB_LOAD_WARNING)\n    }\n\n  }\n\n  if (root._bokeh_is_loading === 0) {\n    console.debug(\"Bokeh: BokehJS loaded, going straight to plotting\");\n    run_inline_js();\n  } else {\n    load_libs(css_urls, js_urls, function() {\n      console.debug(\"Bokeh: BokehJS plotting callback run at\", now());\n      run_inline_js();\n    });\n  }\n}(window));"
     },
     "metadata": {},
     "output_type": "display_data"
    }
   ],
   "source": [
    "from bokeh.plotting import figure, output_notebook, show, ColumnDataSource\n",
    "\n",
    "output_notebook()"
   ]
  },
  {
   "cell_type": "code",
   "execution_count": 31,
   "metadata": {},
   "outputs": [
    {
     "data": {
      "text/html": [
       "\n",
       "\n",
       "\n",
       "\n",
       "\n",
       "\n",
       "  <div class=\"bk-root\" id=\"983ff4c5-cddf-4829-ad1c-feab70156e24\" data-root-id=\"3028\"></div>\n"
      ]
     },
     "metadata": {},
     "output_type": "display_data"
    },
    {
     "data": {
      "application/javascript": [
       "(function(root) {\n",
       "  function embed_document(root) {\n",
       "    \n",
       "  var docs_json = {\"0b1316c2-3cb3-46f6-8055-a1e6cb1f3fe6\":{\"roots\":{\"references\":[{\"attributes\":{\"below\":[{\"id\":\"3037\",\"type\":\"LinearAxis\"}],\"center\":[{\"id\":\"3041\",\"type\":\"Grid\"},{\"id\":\"3046\",\"type\":\"Grid\"}],\"left\":[{\"id\":\"3042\",\"type\":\"LinearAxis\"}],\"plot_height\":500,\"plot_width\":500,\"renderers\":[{\"id\":\"3065\",\"type\":\"GlyphRenderer\"},{\"id\":\"3070\",\"type\":\"GlyphRenderer\"},{\"id\":\"3075\",\"type\":\"GlyphRenderer\"}],\"title\":{\"id\":\"3206\",\"type\":\"Title\"},\"toolbar\":{\"id\":\"3054\",\"type\":\"Toolbar\"},\"x_range\":{\"id\":\"3029\",\"type\":\"DataRange1d\"},\"x_scale\":{\"id\":\"3033\",\"type\":\"LinearScale\"},\"y_range\":{\"id\":\"3031\",\"type\":\"DataRange1d\"},\"y_scale\":{\"id\":\"3035\",\"type\":\"LinearScale\"}},\"id\":\"3028\",\"subtype\":\"Figure\",\"type\":\"Plot\"},{\"attributes\":{},\"id\":\"3051\",\"type\":\"ResetTool\"},{\"attributes\":{},\"id\":\"3052\",\"type\":\"HelpTool\"},{\"attributes\":{\"source\":{\"id\":\"3067\",\"type\":\"ColumnDataSource\"}},\"id\":\"3071\",\"type\":\"CDSView\"},{\"attributes\":{\"fill_alpha\":{\"value\":0.1},\"fill_color\":{\"value\":\"#1f77b4\"},\"line_alpha\":{\"value\":0.1},\"line_color\":{\"value\":\"#1f77b4\"},\"size\":{\"units\":\"screen\",\"value\":5},\"x\":{\"value\":0},\"y\":{\"value\":0}},\"id\":\"3069\",\"type\":\"Circle\"},{\"attributes\":{\"dimension\":1,\"ticker\":{\"id\":\"3043\",\"type\":\"BasicTicker\"}},\"id\":\"3046\",\"type\":\"Grid\"},{\"attributes\":{\"overlay\":{\"id\":\"3218\",\"type\":\"BoxAnnotation\"}},\"id\":\"3049\",\"type\":\"BoxZoomTool\"},{\"attributes\":{\"formatter\":{\"id\":\"3210\",\"type\":\"BasicTickFormatter\"},\"ticker\":{\"id\":\"3043\",\"type\":\"BasicTicker\"}},\"id\":\"3042\",\"type\":\"LinearAxis\"},{\"attributes\":{},\"id\":\"3048\",\"type\":\"WheelZoomTool\"},{\"attributes\":{},\"id\":\"3215\",\"type\":\"Selection\"},{\"attributes\":{\"ticker\":{\"id\":\"3038\",\"type\":\"BasicTicker\"}},\"id\":\"3041\",\"type\":\"Grid\"},{\"attributes\":{\"callback\":null,\"data\":{\"x\":[-12,-12,-12,-12,-12,-12,-12,-12,-12,-12,-12,-12,-12,-12,-11,-11,-11,-11,-11,-11,-11,-11,-11,-11,-11,-11,-11,-10,-10,-10,-10,-10,-10,-10,-10,-10,-10,-10,-10,-10,-10,-9,-9,-9,-9,-9,-9,-9,-9,-9,-8,-8,-8,-8,-8,-8,-8,-8,-8,-7,-7,-7,-7,-7,-7,-7,-7,-6,-6,-6,-6,-6,-6,-6,-6,-6,-6,-6,-5,-5,-5,-5,-5,-5,-5,-5,-5,-5,-5,-5,-5,-4,-4,-4,-4,-4,-4,-4,-4,-4,-4,-3,-3,-3,-3,-3,-3,-3,-3,-3,-3,-3,-3,-3,-3,-3,-2,-2,-2,-2,-2,-2,-2,-2,-2,-2,-2,-1,-1,-1,-1,-1,-1,-1,-1,-1,-1,-1,-1,-1,-1,-1,-1,-1,0,0,0,0,0,0,0,0,0,0,0,1,1,1,1,1,1,1,2,2,2,2,2,2,2,2,2,2,2,3,3,3,3,3,3,3,3,3,3,3,4,4,4,4,4,4,4,4,4,4,4,4,5,5,5,5,5,5,5,5,5,5,5,6,6,6,6,6,6,6,6,6,6,7,7,7,7,7,7,7,7,7,7,7,7,7,7,8,8,8,8,8,8,8,8,8,8,8,8,9,9,9,9,9,9,9,9,9,10,10,10,10,10,10,10,10,10,10,10,11,11,11,11,11,11,11,11,11,11,11,11,11,12,12,12,12,12,12,12,12,12,12,12,12,12,13,13,13,13,13,13,13,13,13,13,13,13,13,13,13,13,13,14,14,14,14,14,15,15,15,15,15,15,15,15,15,15,15,15,15,16,16,16,16,16,16,16,16,16,16,16,16,16,16,17,17,17,17,17,17,17,17,17,17,18,18,18,18,18,18,18,18,18,18,18,18],\"y\":[-17,-13,-12,-10,-9,-8,-7,-5,3,5,6,9,10,12,-17,-15,-14,-12,-9,-6,-2,-1,2,3,5,6,8,-17,-14,-13,-12,-11,-10,-8,-1,2,7,9,10,11,13,-14,-12,-10,-6,-3,3,6,9,11,-16,-10,-9,-6,-2,1,3,7,8,-17,-16,-10,1,2,5,12,13,-16,-15,-12,-11,-9,-7,-2,-1,2,3,11,-17,-15,-14,-12,-11,-6,-5,-4,-1,3,4,8,9,-17,-16,-14,-12,1,2,5,9,10,13,-17,-16,-15,-12,-11,-9,-8,-7,-1,1,2,6,7,8,9,-14,-13,-10,-6,-5,-1,0,3,5,8,12,-15,-13,-11,-10,-8,-6,-4,-3,-2,-1,0,2,7,8,9,10,12,-17,-10,-9,-8,-6,-5,0,4,8,12,13,-12,-8,-6,-4,-2,3,7,-17,-14,-12,-10,-7,-2,1,5,8,11,12,-17,-11,-8,-7,-1,3,4,5,8,11,13,-12,-11,-10,-9,-7,-4,0,1,4,7,10,13,-15,-9,-7,2,4,6,7,10,11,12,13,-16,-10,-9,-6,-4,-3,3,7,8,9,-17,-16,-15,-13,-12,-11,-6,-3,0,6,7,8,9,10,-17,-14,-13,-11,-10,-7,-6,-4,-2,3,5,12,-16,-11,-9,-8,-5,-3,-1,7,8,-17,-16,-14,-13,-9,-5,0,1,2,4,9,-12,-10,-9,-8,-7,-6,-5,-3,-1,2,5,7,13,-16,-13,-11,-10,-8,-3,-1,0,3,5,9,10,13,-16,-15,-13,-12,-11,-8,-5,-2,0,1,2,6,7,8,9,10,12,-17,-13,-1,5,13,-17,-12,-11,-9,-7,-4,-3,1,4,5,6,7,11,-17,-15,-14,-13,-12,-5,-4,-3,-2,-1,5,7,8,11,-16,-12,-7,-3,-2,1,2,4,6,13,-17,-14,-13,-12,-6,-5,-3,5,7,8,12,13]},\"selected\":{\"id\":\"3217\",\"type\":\"Selection\"},\"selection_policy\":{\"id\":\"3216\",\"type\":\"UnionRenderers\"}},\"id\":\"3072\",\"type\":\"ColumnDataSource\"},{\"attributes\":{},\"id\":\"3038\",\"type\":\"BasicTicker\"},{\"attributes\":{\"fill_color\":{\"value\":\"#1f77b4\"},\"line_color\":{\"value\":\"#1f77b4\"},\"size\":{\"units\":\"screen\",\"value\":8},\"x\":{\"field\":\"x\"},\"y\":{\"field\":\"y\"}},\"id\":\"3063\",\"type\":\"Circle\"},{\"attributes\":{},\"id\":\"3043\",\"type\":\"BasicTicker\"},{\"attributes\":{},\"id\":\"3033\",\"type\":\"LinearScale\"},{\"attributes\":{\"data_source\":{\"id\":\"3072\",\"type\":\"ColumnDataSource\"},\"glyph\":{\"id\":\"3073\",\"type\":\"Circle\"},\"hover_glyph\":null,\"muted_glyph\":null,\"nonselection_glyph\":{\"id\":\"3074\",\"type\":\"Circle\"},\"selection_glyph\":null,\"view\":{\"id\":\"3076\",\"type\":\"CDSView\"}},\"id\":\"3075\",\"type\":\"GlyphRenderer\"},{\"attributes\":{},\"id\":\"3047\",\"type\":\"PanTool\"},{\"attributes\":{},\"id\":\"3213\",\"type\":\"Selection\"},{\"attributes\":{\"data_source\":{\"id\":\"3067\",\"type\":\"ColumnDataSource\"},\"glyph\":{\"id\":\"3068\",\"type\":\"Circle\"},\"hover_glyph\":null,\"muted_glyph\":null,\"nonselection_glyph\":{\"id\":\"3069\",\"type\":\"Circle\"},\"selection_glyph\":null,\"view\":{\"id\":\"3071\",\"type\":\"CDSView\"}},\"id\":\"3070\",\"type\":\"GlyphRenderer\"},{\"attributes\":{},\"id\":\"3208\",\"type\":\"BasicTickFormatter\"},{\"attributes\":{\"data_source\":{\"id\":\"3027\",\"type\":\"ColumnDataSource\"},\"glyph\":{\"id\":\"3063\",\"type\":\"Circle\"},\"hover_glyph\":null,\"muted_glyph\":null,\"nonselection_glyph\":{\"id\":\"3064\",\"type\":\"Circle\"},\"selection_glyph\":null,\"view\":{\"id\":\"3066\",\"type\":\"CDSView\"}},\"id\":\"3065\",\"type\":\"GlyphRenderer\"},{\"attributes\":{\"fill_alpha\":{\"value\":0.1},\"fill_color\":{\"value\":\"#1f77b4\"},\"line_alpha\":{\"value\":0.1},\"line_color\":{\"value\":\"#1f77b4\"},\"size\":{\"units\":\"screen\",\"value\":5},\"x\":{\"field\":\"x\"},\"y\":{\"field\":\"y\"}},\"id\":\"3073\",\"type\":\"Circle\"},{\"attributes\":{\"callback\":null,\"data\":{\"desc\":[[-1,0],[-1,-1],[-1,-1],[-1,-1],[-1,-2],[-1,-2],[-1,2],[2,1],[2,1],[2,-2],[2,-2],[2,-2],[2,-2],[-3,-1],[-3,-1],[-3,1],[-3,1],[-1,-3],[-1,-3],[-1,-3],[-1,-3],[3,-1],[3,-1],[-3,2],[0,4],[0,4],[0,4],[4,0],[4,0],[4,0],[4,0],[-4,1],[-1,-4],[-1,-4],[4,1],[3,3],[3,3],[-4,2],[-4,2],[0,-5],[0,-5],[0,-5],[0,-5],[0,-5],[3,4],[-2,-5],[-2,5],[2,5],[5,2],[5,2],[1,-6],[-5,-4],[6,-3],[6,-3],[6,-4],[6,-4],[-5,-6],[4,-7],[8,-2],[8,-2],[-3,-8],[3,-8],[5,-7],[-8,-6],[8,-6],[-2,-10],[8,-7],[-9,-6],[6,9],[-8,8],[-8,8],[-8,8],[4,-12],[11,-8],[9,-11]],\"x\":[-2,-5,-10,-12,-6,-8,-3,6,16,4,6,9,13,-6,-9,-6,-9,-2,-3,-4,-5,9,18,-9,0,0,0,7,10,12,13,-12,-3,-4,12,4,7,-6,-12,0,0,0,0,0,6,-6,-4,4,10,15,2,-10,8,10,12,18,-10,8,12,16,-6,6,10,-12,16,-3,16,-12,8,-9,-10,-12,5,18,14],\"y\":[0,-5,-10,-12,-12,-16,6,3,8,-4,-6,-9,-13,-2,-3,2,3,-6,-9,-12,-15,-3,-6,6,8,12,13,0,0,0,0,3,-12,-16,3,4,7,3,6,-6,-8,-9,-10,-17,8,-15,10,10,4,6,-12,-8,-4,-5,-8,-12,-12,-14,-3,-4,-16,-16,-14,-9,-12,-15,-14,-8,12,9,10,12,-15,-13,-17]},\"selected\":{\"id\":\"3213\",\"type\":\"Selection\"},\"selection_policy\":{\"id\":\"3212\",\"type\":\"UnionRenderers\"}},\"id\":\"3027\",\"type\":\"ColumnDataSource\"},{\"attributes\":{},\"id\":\"3214\",\"type\":\"UnionRenderers\"},{\"attributes\":{\"fill_alpha\":{\"value\":0.1},\"fill_color\":{\"value\":\"#1f77b4\"},\"line_alpha\":{\"value\":0.1},\"line_color\":{\"value\":\"#1f77b4\"},\"size\":{\"units\":\"screen\",\"value\":8},\"x\":{\"field\":\"x\"},\"y\":{\"field\":\"y\"}},\"id\":\"3064\",\"type\":\"Circle\"},{\"attributes\":{\"source\":{\"id\":\"3027\",\"type\":\"ColumnDataSource\"}},\"id\":\"3066\",\"type\":\"CDSView\"},{\"attributes\":{\"fill_alpha\":{\"value\":0.1},\"fill_color\":{\"value\":\"#1f77b4\"},\"line_alpha\":{\"value\":0.1},\"line_color\":{\"value\":\"#1f77b4\"},\"size\":{\"units\":\"screen\",\"value\":5},\"x\":{\"field\":\"x\"},\"y\":{\"field\":\"y\"}},\"id\":\"3074\",\"type\":\"Circle\"},{\"attributes\":{\"callback\":null},\"id\":\"3029\",\"type\":\"DataRange1d\"},{\"attributes\":{\"text\":\"\"},\"id\":\"3206\",\"type\":\"Title\"},{\"attributes\":{},\"id\":\"3216\",\"type\":\"UnionRenderers\"},{\"attributes\":{\"callback\":null},\"id\":\"3031\",\"type\":\"DataRange1d\"},{\"attributes\":{\"callback\":null,\"data\":{},\"selected\":{\"id\":\"3215\",\"type\":\"Selection\"},\"selection_policy\":{\"id\":\"3214\",\"type\":\"UnionRenderers\"}},\"id\":\"3067\",\"type\":\"ColumnDataSource\"},{\"attributes\":{\"callback\":null,\"tooltips\":[[\"(x,y)\",\"(@x, @y)\"],[\"desc\",\"@desc\"]]},\"id\":\"3053\",\"type\":\"HoverTool\"},{\"attributes\":{},\"id\":\"3212\",\"type\":\"UnionRenderers\"},{\"attributes\":{},\"id\":\"3035\",\"type\":\"LinearScale\"},{\"attributes\":{\"source\":{\"id\":\"3072\",\"type\":\"ColumnDataSource\"}},\"id\":\"3076\",\"type\":\"CDSView\"},{\"attributes\":{},\"id\":\"3210\",\"type\":\"BasicTickFormatter\"},{\"attributes\":{\"bottom_units\":\"screen\",\"fill_alpha\":{\"value\":0.5},\"fill_color\":{\"value\":\"lightgrey\"},\"left_units\":\"screen\",\"level\":\"overlay\",\"line_alpha\":{\"value\":1.0},\"line_color\":{\"value\":\"black\"},\"line_dash\":[4,4],\"line_width\":{\"value\":2},\"render_mode\":\"css\",\"right_units\":\"screen\",\"top_units\":\"screen\"},\"id\":\"3218\",\"type\":\"BoxAnnotation\"},{\"attributes\":{\"formatter\":{\"id\":\"3208\",\"type\":\"BasicTickFormatter\"},\"ticker\":{\"id\":\"3038\",\"type\":\"BasicTicker\"}},\"id\":\"3037\",\"type\":\"LinearAxis\"},{\"attributes\":{\"active_drag\":\"auto\",\"active_inspect\":\"auto\",\"active_multi\":null,\"active_scroll\":\"auto\",\"active_tap\":\"auto\",\"tools\":[{\"id\":\"3047\",\"type\":\"PanTool\"},{\"id\":\"3048\",\"type\":\"WheelZoomTool\"},{\"id\":\"3049\",\"type\":\"BoxZoomTool\"},{\"id\":\"3050\",\"type\":\"SaveTool\"},{\"id\":\"3051\",\"type\":\"ResetTool\"},{\"id\":\"3052\",\"type\":\"HelpTool\"},{\"id\":\"3053\",\"type\":\"HoverTool\"}]},\"id\":\"3054\",\"type\":\"Toolbar\"},{\"attributes\":{},\"id\":\"3050\",\"type\":\"SaveTool\"},{\"attributes\":{},\"id\":\"3217\",\"type\":\"Selection\"},{\"attributes\":{\"fill_color\":{\"value\":\"red\"},\"line_color\":{\"value\":\"red\"},\"size\":{\"units\":\"screen\",\"value\":5},\"x\":{\"value\":0},\"y\":{\"value\":0}},\"id\":\"3068\",\"type\":\"Circle\"}],\"root_ids\":[\"3028\"]},\"title\":\"Bokeh Application\",\"version\":\"1.4.0\"}};\n",
       "  var render_items = [{\"docid\":\"0b1316c2-3cb3-46f6-8055-a1e6cb1f3fe6\",\"roots\":{\"3028\":\"983ff4c5-cddf-4829-ad1c-feab70156e24\"}}];\n",
       "  root.Bokeh.embed.embed_items_notebook(docs_json, render_items);\n",
       "\n",
       "  }\n",
       "  if (root.Bokeh !== undefined) {\n",
       "    embed_document(root);\n",
       "  } else {\n",
       "    var attempts = 0;\n",
       "    var timer = setInterval(function(root) {\n",
       "      if (root.Bokeh !== undefined) {\n",
       "        clearInterval(timer);\n",
       "        embed_document(root);\n",
       "      } else {\n",
       "        attempts++;\n",
       "        if (attempts > 100) {\n",
       "          clearInterval(timer);\n",
       "          console.log(\"Bokeh: ERROR: Unable to run BokehJS code because BokehJS library is missing\");\n",
       "        }\n",
       "      }\n",
       "    }, 10, root)\n",
       "  }\n",
       "})(window);"
      ],
      "application/vnd.bokehjs_exec.v0+json": ""
     },
     "metadata": {
      "application/vnd.bokehjs_exec.v0+json": {
       "id": "3028"
      }
     },
     "output_type": "display_data"
    }
   ],
   "source": [
    "source = ColumnDataSource(data=dict(\n",
    "    x=masked_dots_coords[:,0],\n",
    "    y=masked_dots_coords[:,1],\n",
    "    desc=[(i,j) for i,j in obs_cnts[max_r][1].values()],\n",
    "))\n",
    "\n",
    "TOOLTIPS = [\n",
    "    (\"(x,y)\", \"(@x, @y)\"),\n",
    "    (\"desc\", \"@desc\"),\n",
    "]\n",
    "\n",
    "p = figure(plot_width=500, plot_height=500, tooltips=TOOLTIPS,)\n",
    "\n",
    "p.circle('x', 'y', size=8, source=source)\n",
    "p.circle(0,0, size=5,color='red')\n",
    "p.circle(mat[:,0]-max_r[0], mat[:,1]-max_r[1], size=5, alpha=.1)\n",
    "\n",
    "show(p)"
   ]
  },
  {
   "cell_type": "code",
   "execution_count": null,
   "metadata": {},
   "outputs": [],
   "source": []
  },
  {
   "cell_type": "code",
   "execution_count": null,
   "metadata": {},
   "outputs": [],
   "source": []
  },
  {
   "cell_type": "code",
   "execution_count": 42,
   "metadata": {},
   "outputs": [
    {
     "data": {
      "text/plain": [
       "True"
      ]
     },
     "execution_count": 42,
     "metadata": {},
     "output_type": "execute_result"
    }
   ],
   "source": [
    "np.isclose(22.02292007945855, 22.02271554554524)"
   ]
  }
 ],
 "metadata": {
  "kernelspec": {
   "display_name": "Python 3",
   "language": "python",
   "name": "python3"
  },
  "language_info": {
   "codemirror_mode": {
    "name": "ipython",
    "version": 3
   },
   "file_extension": ".py",
   "mimetype": "text/x-python",
   "name": "python",
   "nbconvert_exporter": "python",
   "pygments_lexer": "ipython3",
   "version": "3.7.3"
  }
 },
 "nbformat": 4,
 "nbformat_minor": 4
}
